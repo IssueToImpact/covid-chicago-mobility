{
 "cells": [
  {
   "cell_type": "markdown",
   "metadata": {},
   "source": [
    "## Process and Describe Project Targets"
   ]
  },
  {
   "cell_type": "code",
   "execution_count": 2,
   "metadata": {},
   "outputs": [],
   "source": [
    "import pandas as pd\n",
    "import geopandas as gpd\n",
    "import json\n",
    "from matplotlib import pyplot as plt\n",
    "import amanda"
   ]
  },
  {
   "cell_type": "code",
   "execution_count": 3,
   "metadata": {},
   "outputs": [],
   "source": [
    "df = pd.read_csv('./cleaned_IL_sd.csv.gz', compression='gzip')"
   ]
  },
  {
   "cell_type": "code",
   "execution_count": 4,
   "metadata": {},
   "outputs": [
    {
     "data": {
      "text/html": [
       "<div>\n",
       "<style scoped>\n",
       "    .dataframe tbody tr th:only-of-type {\n",
       "        vertical-align: middle;\n",
       "    }\n",
       "\n",
       "    .dataframe tbody tr th {\n",
       "        vertical-align: top;\n",
       "    }\n",
       "\n",
       "    .dataframe thead th {\n",
       "        text-align: right;\n",
       "    }\n",
       "</style>\n",
       "<table border=\"1\" class=\"dataframe\">\n",
       "  <thead>\n",
       "    <tr style=\"text-align: right;\">\n",
       "      <th></th>\n",
       "      <th>origin_census_block_group</th>\n",
       "      <th>date_range_start</th>\n",
       "      <th>date_range_end</th>\n",
       "      <th>device_count</th>\n",
       "      <th>distance_traveled_from_home</th>\n",
       "      <th>bucketed_distance_traveled</th>\n",
       "      <th>median_dwell_at_bucketed_distance_traveled</th>\n",
       "      <th>completely_home_device_count</th>\n",
       "      <th>median_home_dwell_time</th>\n",
       "      <th>bucketed_home_dwell_time</th>\n",
       "      <th>at_home_by_each_hour</th>\n",
       "      <th>part_time_work_behavior_devices</th>\n",
       "      <th>full_time_work_behavior_devices</th>\n",
       "      <th>destination_cbgs</th>\n",
       "      <th>delivery_behavior_devices</th>\n",
       "      <th>median_non_home_dwell_time</th>\n",
       "      <th>candidate_device_count</th>\n",
       "      <th>bucketed_away_from_home_time</th>\n",
       "      <th>median_percentage_time_home</th>\n",
       "      <th>bucketed_percentage_time_home</th>\n",
       "    </tr>\n",
       "  </thead>\n",
       "  <tbody>\n",
       "    <tr>\n",
       "      <th>0</th>\n",
       "      <td>170311201001</td>\n",
       "      <td>2020-04-03T00:00:00-05:00</td>\n",
       "      <td>2020-04-04T00:00:00-05:00</td>\n",
       "      <td>98</td>\n",
       "      <td>3343.0</td>\n",
       "      <td>{\"16001-50000\":5,\"0\":52,\"&gt;50000\":9,\"2001-8000\"...</td>\n",
       "      <td>{\"16001-50000\":211,\"&gt;50000\":680,\"&lt;1000\":20,\"20...</td>\n",
       "      <td>50</td>\n",
       "      <td>1282</td>\n",
       "      <td>{\"721-1080\":15,\"361-720\":7,\"61-360\":2,\"&lt;60\":10...</td>\n",
       "      <td>[79,77,72,76,73,76,73,70,66,65,67,67,66,64,68,...</td>\n",
       "      <td>4</td>\n",
       "      <td>2</td>\n",
       "      <td>{\"170310815003\":1,\"170359724003\":1,\"1703112010...</td>\n",
       "      <td>1</td>\n",
       "      <td>0</td>\n",
       "      <td>158</td>\n",
       "      <td>{\"21-45\":4,\"481-540\":4,\"46-60\":1,\"721-840\":1,\"...</td>\n",
       "      <td>100</td>\n",
       "      <td>{\"26-50\":2,\"51-75\":9,\"0-25\":12,\"&gt;100\":2,\"76-10...</td>\n",
       "    </tr>\n",
       "    <tr>\n",
       "      <th>1</th>\n",
       "      <td>170311604003</td>\n",
       "      <td>2020-04-03T00:00:00-05:00</td>\n",
       "      <td>2020-04-04T00:00:00-05:00</td>\n",
       "      <td>41</td>\n",
       "      <td>4500.0</td>\n",
       "      <td>{\"16001-50000\":4,\"0\":14,\"&gt;50000\":2,\"2001-8000\"...</td>\n",
       "      <td>{\"16001-50000\":31,\"&gt;50000\":358,\"&lt;1000\":538,\"20...</td>\n",
       "      <td>14</td>\n",
       "      <td>841</td>\n",
       "      <td>{\"721-1080\":9,\"361-720\":1,\"61-360\":3,\"&lt;60\":8,\"...</td>\n",
       "      <td>[24,22,24,23,23,23,22,19,20,18,13,16,18,17,19,...</td>\n",
       "      <td>1</td>\n",
       "      <td>1</td>\n",
       "      <td>{\"170313301004\":1,\"170312215001\":1,\"1703180830...</td>\n",
       "      <td>1</td>\n",
       "      <td>11</td>\n",
       "      <td>85</td>\n",
       "      <td>{\"21-45\":1,\"481-540\":1,\"46-60\":1,\"721-840\":2,\"...</td>\n",
       "      <td>97</td>\n",
       "      <td>{\"26-50\":1,\"51-75\":6,\"0-25\":7,\"&gt;100\":2,\"76-100...</td>\n",
       "    </tr>\n",
       "    <tr>\n",
       "      <th>2</th>\n",
       "      <td>170312002002</td>\n",
       "      <td>2020-04-03T00:00:00-05:00</td>\n",
       "      <td>2020-04-04T00:00:00-05:00</td>\n",
       "      <td>64</td>\n",
       "      <td>3760.0</td>\n",
       "      <td>{\"16001-50000\":1,\"0\":34,\"&gt;50000\":1,\"2001-8000\"...</td>\n",
       "      <td>{\"16001-50000\":65,\"&gt;50000\":1072,\"&lt;1000\":134,\"2...</td>\n",
       "      <td>32</td>\n",
       "      <td>999</td>\n",
       "      <td>{\"721-1080\":8,\"361-720\":6,\"61-360\":8,\"&lt;60\":12,...</td>\n",
       "      <td>[39,40,41,40,43,40,45,43,37,41,36,38,33,43,40,...</td>\n",
       "      <td>1</td>\n",
       "      <td>1</td>\n",
       "      <td>{\"170318114014\":1,\"170318116002\":1,\"1703120020...</td>\n",
       "      <td>1</td>\n",
       "      <td>0</td>\n",
       "      <td>109</td>\n",
       "      <td>{\"21-45\":6,\"481-540\":4,\"46-60\":2,\"721-840\":1,\"...</td>\n",
       "      <td>100</td>\n",
       "      <td>{\"26-50\":1,\"51-75\":6,\"0-25\":12,\"&gt;100\":3,\"76-10...</td>\n",
       "    </tr>\n",
       "  </tbody>\n",
       "</table>\n",
       "</div>"
      ],
      "text/plain": [
       "   origin_census_block_group           date_range_start  \\\n",
       "0               170311201001  2020-04-03T00:00:00-05:00   \n",
       "1               170311604003  2020-04-03T00:00:00-05:00   \n",
       "2               170312002002  2020-04-03T00:00:00-05:00   \n",
       "\n",
       "              date_range_end  device_count  distance_traveled_from_home  \\\n",
       "0  2020-04-04T00:00:00-05:00            98                       3343.0   \n",
       "1  2020-04-04T00:00:00-05:00            41                       4500.0   \n",
       "2  2020-04-04T00:00:00-05:00            64                       3760.0   \n",
       "\n",
       "                          bucketed_distance_traveled  \\\n",
       "0  {\"16001-50000\":5,\"0\":52,\">50000\":9,\"2001-8000\"...   \n",
       "1  {\"16001-50000\":4,\"0\":14,\">50000\":2,\"2001-8000\"...   \n",
       "2  {\"16001-50000\":1,\"0\":34,\">50000\":1,\"2001-8000\"...   \n",
       "\n",
       "          median_dwell_at_bucketed_distance_traveled  \\\n",
       "0  {\"16001-50000\":211,\">50000\":680,\"<1000\":20,\"20...   \n",
       "1  {\"16001-50000\":31,\">50000\":358,\"<1000\":538,\"20...   \n",
       "2  {\"16001-50000\":65,\">50000\":1072,\"<1000\":134,\"2...   \n",
       "\n",
       "   completely_home_device_count  median_home_dwell_time  \\\n",
       "0                            50                    1282   \n",
       "1                            14                     841   \n",
       "2                            32                     999   \n",
       "\n",
       "                            bucketed_home_dwell_time  \\\n",
       "0  {\"721-1080\":15,\"361-720\":7,\"61-360\":2,\"<60\":10...   \n",
       "1  {\"721-1080\":9,\"361-720\":1,\"61-360\":3,\"<60\":8,\"...   \n",
       "2  {\"721-1080\":8,\"361-720\":6,\"61-360\":8,\"<60\":12,...   \n",
       "\n",
       "                                at_home_by_each_hour  \\\n",
       "0  [79,77,72,76,73,76,73,70,66,65,67,67,66,64,68,...   \n",
       "1  [24,22,24,23,23,23,22,19,20,18,13,16,18,17,19,...   \n",
       "2  [39,40,41,40,43,40,45,43,37,41,36,38,33,43,40,...   \n",
       "\n",
       "   part_time_work_behavior_devices  full_time_work_behavior_devices  \\\n",
       "0                                4                                2   \n",
       "1                                1                                1   \n",
       "2                                1                                1   \n",
       "\n",
       "                                    destination_cbgs  \\\n",
       "0  {\"170310815003\":1,\"170359724003\":1,\"1703112010...   \n",
       "1  {\"170313301004\":1,\"170312215001\":1,\"1703180830...   \n",
       "2  {\"170318114014\":1,\"170318116002\":1,\"1703120020...   \n",
       "\n",
       "   delivery_behavior_devices  median_non_home_dwell_time  \\\n",
       "0                          1                           0   \n",
       "1                          1                          11   \n",
       "2                          1                           0   \n",
       "\n",
       "   candidate_device_count                       bucketed_away_from_home_time  \\\n",
       "0                     158  {\"21-45\":4,\"481-540\":4,\"46-60\":1,\"721-840\":1,\"...   \n",
       "1                      85  {\"21-45\":1,\"481-540\":1,\"46-60\":1,\"721-840\":2,\"...   \n",
       "2                     109  {\"21-45\":6,\"481-540\":4,\"46-60\":2,\"721-840\":1,\"...   \n",
       "\n",
       "   median_percentage_time_home  \\\n",
       "0                          100   \n",
       "1                           97   \n",
       "2                          100   \n",
       "\n",
       "                       bucketed_percentage_time_home  \n",
       "0  {\"26-50\":2,\"51-75\":9,\"0-25\":12,\">100\":2,\"76-10...  \n",
       "1  {\"26-50\":1,\"51-75\":6,\"0-25\":7,\">100\":2,\"76-100...  \n",
       "2  {\"26-50\":1,\"51-75\":6,\"0-25\":12,\">100\":3,\"76-10...  "
      ]
     },
     "execution_count": 4,
     "metadata": {},
     "output_type": "execute_result"
    }
   ],
   "source": [
    "df.head(3)"
   ]
  },
  {
   "cell_type": "code",
   "execution_count": 5,
   "metadata": {},
   "outputs": [
    {
     "data": {
      "text/plain": [
       "origin_census_block_group                       int64\n",
       "date_range_start                               object\n",
       "date_range_end                                 object\n",
       "device_count                                    int64\n",
       "distance_traveled_from_home                   float64\n",
       "bucketed_distance_traveled                     object\n",
       "median_dwell_at_bucketed_distance_traveled     object\n",
       "completely_home_device_count                    int64\n",
       "median_home_dwell_time                          int64\n",
       "bucketed_home_dwell_time                       object\n",
       "at_home_by_each_hour                           object\n",
       "part_time_work_behavior_devices                 int64\n",
       "full_time_work_behavior_devices                 int64\n",
       "destination_cbgs                               object\n",
       "delivery_behavior_devices                       int64\n",
       "median_non_home_dwell_time                      int64\n",
       "candidate_device_count                          int64\n",
       "bucketed_away_from_home_time                   object\n",
       "median_percentage_time_home                     int64\n",
       "bucketed_percentage_time_home                  object\n",
       "dtype: object"
      ]
     },
     "execution_count": 5,
     "metadata": {},
     "output_type": "execute_result"
    }
   ],
   "source": [
    "df.dtypes"
   ]
  },
  {
   "cell_type": "code",
   "execution_count": 6,
   "metadata": {},
   "outputs": [],
   "source": [
    "df, df_targets = amanda.process_targets(df)"
   ]
  },
  {
   "cell_type": "code",
   "execution_count": 7,
   "metadata": {},
   "outputs": [
    {
     "data": {
      "text/html": [
       "<div>\n",
       "<style scoped>\n",
       "    .dataframe tbody tr th:only-of-type {\n",
       "        vertical-align: middle;\n",
       "    }\n",
       "\n",
       "    .dataframe tbody tr th {\n",
       "        vertical-align: top;\n",
       "    }\n",
       "\n",
       "    .dataframe thead th {\n",
       "        text-align: right;\n",
       "    }\n",
       "</style>\n",
       "<table border=\"1\" class=\"dataframe\">\n",
       "  <thead>\n",
       "    <tr style=\"text-align: right;\">\n",
       "      <th></th>\n",
       "      <th>geo_12</th>\n",
       "      <th>Week</th>\n",
       "      <th>device_count</th>\n",
       "      <th>fraction_of_devices_home</th>\n",
       "      <th>fraction_of_devices_work</th>\n",
       "      <th>fraction_time_away_all</th>\n",
       "      <th>fraction_time_away_leave</th>\n",
       "    </tr>\n",
       "  </thead>\n",
       "  <tbody>\n",
       "    <tr>\n",
       "      <th>count</th>\n",
       "      <td>5.806800e+04</td>\n",
       "      <td>58068.000000</td>\n",
       "      <td>58068.000000</td>\n",
       "      <td>58068.000000</td>\n",
       "      <td>58068.000000</td>\n",
       "      <td>58068.000000</td>\n",
       "      <td>58068.000000</td>\n",
       "    </tr>\n",
       "    <tr>\n",
       "      <th>mean</th>\n",
       "      <td>1.707888e+11</td>\n",
       "      <td>15.500121</td>\n",
       "      <td>76.383041</td>\n",
       "      <td>0.420320</td>\n",
       "      <td>0.080829</td>\n",
       "      <td>0.146488</td>\n",
       "      <td>0.252911</td>\n",
       "    </tr>\n",
       "    <tr>\n",
       "      <th>std</th>\n",
       "      <td>5.958080e+08</td>\n",
       "      <td>1.707810</td>\n",
       "      <td>64.779606</td>\n",
       "      <td>0.090854</td>\n",
       "      <td>0.029243</td>\n",
       "      <td>0.047715</td>\n",
       "      <td>0.058214</td>\n",
       "    </tr>\n",
       "    <tr>\n",
       "      <th>min</th>\n",
       "      <td>1.700100e+11</td>\n",
       "      <td>13.000000</td>\n",
       "      <td>5.000000</td>\n",
       "      <td>0.007454</td>\n",
       "      <td>0.017948</td>\n",
       "      <td>0.006444</td>\n",
       "      <td>0.014207</td>\n",
       "    </tr>\n",
       "    <tr>\n",
       "      <th>25%</th>\n",
       "      <td>1.703180e+11</td>\n",
       "      <td>14.000000</td>\n",
       "      <td>42.714286</td>\n",
       "      <td>0.358292</td>\n",
       "      <td>0.060764</td>\n",
       "      <td>0.119539</td>\n",
       "      <td>0.219172</td>\n",
       "    </tr>\n",
       "    <tr>\n",
       "      <th>50%</th>\n",
       "      <td>1.704384e+11</td>\n",
       "      <td>16.000000</td>\n",
       "      <td>60.285714</td>\n",
       "      <td>0.424365</td>\n",
       "      <td>0.076296</td>\n",
       "      <td>0.141214</td>\n",
       "      <td>0.245395</td>\n",
       "    </tr>\n",
       "    <tr>\n",
       "      <th>75%</th>\n",
       "      <td>1.711796e+11</td>\n",
       "      <td>17.000000</td>\n",
       "      <td>87.857143</td>\n",
       "      <td>0.484775</td>\n",
       "      <td>0.095382</td>\n",
       "      <td>0.165675</td>\n",
       "      <td>0.276345</td>\n",
       "    </tr>\n",
       "    <tr>\n",
       "      <th>max</th>\n",
       "      <td>1.720303e+11</td>\n",
       "      <td>18.000000</td>\n",
       "      <td>1384.285714</td>\n",
       "      <td>0.755880</td>\n",
       "      <td>0.482143</td>\n",
       "      <td>0.792599</td>\n",
       "      <td>0.806382</td>\n",
       "    </tr>\n",
       "  </tbody>\n",
       "</table>\n",
       "</div>"
      ],
      "text/plain": [
       "             geo_12          Week  device_count  fraction_of_devices_home  \\\n",
       "count  5.806800e+04  58068.000000  58068.000000              58068.000000   \n",
       "mean   1.707888e+11     15.500121     76.383041                  0.420320   \n",
       "std    5.958080e+08      1.707810     64.779606                  0.090854   \n",
       "min    1.700100e+11     13.000000      5.000000                  0.007454   \n",
       "25%    1.703180e+11     14.000000     42.714286                  0.358292   \n",
       "50%    1.704384e+11     16.000000     60.285714                  0.424365   \n",
       "75%    1.711796e+11     17.000000     87.857143                  0.484775   \n",
       "max    1.720303e+11     18.000000   1384.285714                  0.755880   \n",
       "\n",
       "       fraction_of_devices_work  fraction_time_away_all  \\\n",
       "count              58068.000000            58068.000000   \n",
       "mean                   0.080829                0.146488   \n",
       "std                    0.029243                0.047715   \n",
       "min                    0.017948                0.006444   \n",
       "25%                    0.060764                0.119539   \n",
       "50%                    0.076296                0.141214   \n",
       "75%                    0.095382                0.165675   \n",
       "max                    0.482143                0.792599   \n",
       "\n",
       "       fraction_time_away_leave  \n",
       "count              58068.000000  \n",
       "mean                   0.252911  \n",
       "std                    0.058214  \n",
       "min                    0.014207  \n",
       "25%                    0.219172  \n",
       "50%                    0.245395  \n",
       "75%                    0.276345  \n",
       "max                    0.806382  "
      ]
     },
     "execution_count": 7,
     "metadata": {},
     "output_type": "execute_result"
    }
   ],
   "source": [
    "df_targets.describe()"
   ]
  },
  {
   "cell_type": "code",
   "execution_count": 8,
   "metadata": {},
   "outputs": [
    {
     "data": {
      "text/plain": [
       "Text(0.5, 1.0, 'Fraction of Devices Completely at Home')"
      ]
     },
     "execution_count": 8,
     "metadata": {},
     "output_type": "execute_result"
    },
    {
     "data": {
      "image/png": "[encoded data removed]",
      "text/plain": [
       "<Figure size 432x288 with 1 Axes>"
      ]
     },
     "metadata": {
      "needs_background": "light"
     },
     "output_type": "display_data"
    }
   ],
   "source": [
    "plt.hist(df_targets['fraction_of_devices_home'], bins=20)\n",
    "plt.xlabel('fraction of devices completely at home')\n",
    "plt.title('Fraction of Devices Completely at Home', fontsize=16)"
   ]
  },
  {
   "cell_type": "code",
   "execution_count": 9,
   "metadata": {},
   "outputs": [
    {
     "data": {
      "text/plain": [
       "Text(0.5, 1.0, 'Fraction of Devices Exhibiting Full or Part Time Work Behavior')"
      ]
     },
     "execution_count": 9,
     "metadata": {},
     "output_type": "execute_result"
    },
    {
     "data": {
      "image/png": "[encoded data removed]",
      "text/plain": [
       "<Figure size 432x288 with 1 Axes>"
      ]
     },
     "metadata": {
      "needs_background": "light"
     },
     "output_type": "display_data"
    }
   ],
   "source": [
    "plt.hist(df_targets['fraction_of_devices_work'], bins=20)\n",
    "plt.xlabel('fraction of devices with work behavior')\n",
    "plt.title('Fraction of Devices Exhibiting Full or Part Time Work Behavior', fontsize=16)"
   ]
  },
  {
   "cell_type": "code",
   "execution_count": 10,
   "metadata": {},
   "outputs": [
    {
     "data": {
      "text/plain": [
       "Text(0.5, 1.0, 'Average Fraction of Time Away from Home per total devices')"
      ]
     },
     "execution_count": 10,
     "metadata": {},
     "output_type": "execute_result"
    },
    {
     "data": {
      "image/png": "[encoded data removed]",
      "text/plain": [
       "<Figure size 432x288 with 1 Axes>"
      ]
     },
     "metadata": {
      "needs_background": "light"
     },
     "output_type": "display_data"
    }
   ],
   "source": [
    "plt.hist(df_targets['fraction_time_away_all'], bins=20)\n",
    "plt.xlabel('Average Fraction of Time Away from Home')\n",
    "plt.title('Average Fraction of Time Away from Home per total devices', fontsize=16)"
   ]
  },
  {
   "cell_type": "code",
   "execution_count": 11,
   "metadata": {},
   "outputs": [
    {
     "data": {
      "text/plain": [
       "Text(0.5, 1.0, 'Average Fraction of Time Away from Home per devices that leave')"
      ]
     },
     "execution_count": 11,
     "metadata": {},
     "output_type": "execute_result"
    },
    {
     "data": {
      "image/png": "[encoded data removed]",
      "text/plain": [
       "<Figure size 432x288 with 1 Axes>"
      ]
     },
     "metadata": {
      "needs_background": "light"
     },
     "output_type": "display_data"
    }
   ],
   "source": [
    "plt.hist(df_targets['fraction_time_away_leave'], bins=20)\n",
    "plt.xlabel('Average Fraction of Time Away from Home')\n",
    "plt.title('Average Fraction of Time Away from Home per devices that leave', fontsize=16)"
   ]
  },
  {
   "cell_type": "code",
   "execution_count": 12,
   "metadata": {},
   "outputs": [
    {
     "data": {
      "text/html": [
       "<div>\n",
       "<style scoped>\n",
       "    .dataframe tbody tr th:only-of-type {\n",
       "        vertical-align: middle;\n",
       "    }\n",
       "\n",
       "    .dataframe tbody tr th {\n",
       "        vertical-align: top;\n",
       "    }\n",
       "\n",
       "    .dataframe thead th {\n",
       "        text-align: right;\n",
       "    }\n",
       "</style>\n",
       "<table border=\"1\" class=\"dataframe\">\n",
       "  <thead>\n",
       "    <tr style=\"text-align: right;\">\n",
       "      <th></th>\n",
       "      <th>geo_12</th>\n",
       "      <th>Week</th>\n",
       "      <th>device_count</th>\n",
       "      <th>fraction_of_devices_home</th>\n",
       "      <th>fraction_of_devices_work</th>\n",
       "      <th>fraction_time_away_all</th>\n",
       "      <th>fraction_time_away_leave</th>\n",
       "    </tr>\n",
       "  </thead>\n",
       "  <tbody>\n",
       "    <tr>\n",
       "      <th>geo_12</th>\n",
       "      <td>1.000000</td>\n",
       "      <td>-0.000036</td>\n",
       "      <td>0.168569</td>\n",
       "      <td>-0.287090</td>\n",
       "      <td>0.102488</td>\n",
       "      <td>0.085159</td>\n",
       "      <td>-0.072160</td>\n",
       "    </tr>\n",
       "    <tr>\n",
       "      <th>Week</th>\n",
       "      <td>-0.000036</td>\n",
       "      <td>1.000000</td>\n",
       "      <td>-0.015923</td>\n",
       "      <td>-0.121468</td>\n",
       "      <td>0.040357</td>\n",
       "      <td>-0.017939</td>\n",
       "      <td>-0.099690</td>\n",
       "    </tr>\n",
       "    <tr>\n",
       "      <th>device_count</th>\n",
       "      <td>0.168569</td>\n",
       "      <td>-0.015923</td>\n",
       "      <td>1.000000</td>\n",
       "      <td>0.035867</td>\n",
       "      <td>-0.248311</td>\n",
       "      <td>-0.055936</td>\n",
       "      <td>-0.069894</td>\n",
       "    </tr>\n",
       "    <tr>\n",
       "      <th>fraction_of_devices_home</th>\n",
       "      <td>-0.287090</td>\n",
       "      <td>-0.121468</td>\n",
       "      <td>0.035867</td>\n",
       "      <td>1.000000</td>\n",
       "      <td>-0.357083</td>\n",
       "      <td>-0.622629</td>\n",
       "      <td>-0.151861</td>\n",
       "    </tr>\n",
       "    <tr>\n",
       "      <th>fraction_of_devices_work</th>\n",
       "      <td>0.102488</td>\n",
       "      <td>0.040357</td>\n",
       "      <td>-0.248311</td>\n",
       "      <td>-0.357083</td>\n",
       "      <td>1.000000</td>\n",
       "      <td>0.215106</td>\n",
       "      <td>0.081187</td>\n",
       "    </tr>\n",
       "    <tr>\n",
       "      <th>fraction_time_away_all</th>\n",
       "      <td>0.085159</td>\n",
       "      <td>-0.017939</td>\n",
       "      <td>-0.055936</td>\n",
       "      <td>-0.622629</td>\n",
       "      <td>0.215106</td>\n",
       "      <td>1.000000</td>\n",
       "      <td>0.843620</td>\n",
       "    </tr>\n",
       "    <tr>\n",
       "      <th>fraction_time_away_leave</th>\n",
       "      <td>-0.072160</td>\n",
       "      <td>-0.099690</td>\n",
       "      <td>-0.069894</td>\n",
       "      <td>-0.151861</td>\n",
       "      <td>0.081187</td>\n",
       "      <td>0.843620</td>\n",
       "      <td>1.000000</td>\n",
       "    </tr>\n",
       "  </tbody>\n",
       "</table>\n",
       "</div>"
      ],
      "text/plain": [
       "                            geo_12      Week  device_count  \\\n",
       "geo_12                    1.000000 -0.000036      0.168569   \n",
       "Week                     -0.000036  1.000000     -0.015923   \n",
       "device_count              0.168569 -0.015923      1.000000   \n",
       "fraction_of_devices_home -0.287090 -0.121468      0.035867   \n",
       "fraction_of_devices_work  0.102488  0.040357     -0.248311   \n",
       "fraction_time_away_all    0.085159 -0.017939     -0.055936   \n",
       "fraction_time_away_leave -0.072160 -0.099690     -0.069894   \n",
       "\n",
       "                          fraction_of_devices_home  fraction_of_devices_work  \\\n",
       "geo_12                                   -0.287090                  0.102488   \n",
       "Week                                     -0.121468                  0.040357   \n",
       "device_count                              0.035867                 -0.248311   \n",
       "fraction_of_devices_home                  1.000000                 -0.357083   \n",
       "fraction_of_devices_work                 -0.357083                  1.000000   \n",
       "fraction_time_away_all                   -0.622629                  0.215106   \n",
       "fraction_time_away_leave                 -0.151861                  0.081187   \n",
       "\n",
       "                          fraction_time_away_all  fraction_time_away_leave  \n",
       "geo_12                                  0.085159                 -0.072160  \n",
       "Week                                   -0.017939                 -0.099690  \n",
       "device_count                           -0.055936                 -0.069894  \n",
       "fraction_of_devices_home               -0.622629                 -0.151861  \n",
       "fraction_of_devices_work                0.215106                  0.081187  \n",
       "fraction_time_away_all                  1.000000                  0.843620  \n",
       "fraction_time_away_leave                0.843620                  1.000000  "
      ]
     },
     "execution_count": 12,
     "metadata": {},
     "output_type": "execute_result"
    }
   ],
   "source": [
    "df_targets.corr()"
   ]
  },
  {
   "cell_type": "code",
   "execution_count": 13,
   "metadata": {},
   "outputs": [],
   "source": [
    "df_targets.drop(['device_count'], axis=1, inplace=True)"
   ]
  },
  {
   "cell_type": "code",
   "execution_count": 14,
   "metadata": {},
   "outputs": [],
   "source": [
    "#df_past = pd.read_csv('./social_distancing_data_2019.csv.gz', compression='gzip', index_col=False, low_memory=False)"
   ]
  },
  {
   "cell_type": "code",
   "execution_count": 27,
   "metadata": {},
   "outputs": [],
   "source": [
    "dfcolumns = pd.read_csv('./social_distancing_data_2019.csv',\n",
    "                        nrows = 1)\n",
    "df_past = pd.read_csv('./social_distancing_data_2019.csv',\n",
    "                  header = None,\n",
    "                  skiprows = 1,\n",
    "                  usecols = list(range(len(dfcolumns.columns))),\n",
    "                  names = dfcolumns.columns)"
   ]
  },
  {
   "cell_type": "code",
   "execution_count": 16,
   "metadata": {},
   "outputs": [],
   "source": [
    "df_targets.to_csv('COVID_mobility_targets.csv', header=True, index=False)"
   ]
  },
  {
   "cell_type": "code",
   "execution_count": 29,
   "metadata": {},
   "outputs": [],
   "source": [
    "df_past, df_targets_past = amanda.process_targets(df_past, start_date='2019-03-23', end_date='2019-05-03')"
   ]
  },
  {
   "cell_type": "code",
   "execution_count": 31,
   "metadata": {},
   "outputs": [
    {
     "data": {
      "text/plain": [
       "array([13, 12, 14, 16, 17, 15, 18])"
      ]
     },
     "execution_count": 31,
     "metadata": {},
     "output_type": "execute_result"
    }
   ],
   "source": [
    "df_past['Week'].unique()"
   ]
  },
  {
   "cell_type": "code",
   "execution_count": 19,
   "metadata": {},
   "outputs": [],
   "source": [
    "df_targets_past.to_csv('COVID_mobility_targets_past.csv', header=True, index=False)"
   ]
  },
  {
   "cell_type": "code",
   "execution_count": 20,
   "metadata": {},
   "outputs": [],
   "source": [
    "df_merged = df_targets.merge(df_targets_past, on = [\"geo_12\", \"Week\"])"
   ]
  },
  {
   "cell_type": "code",
   "execution_count": 21,
   "metadata": {},
   "outputs": [],
   "source": [
    "df_merged['fraction_of_devices_home_adj'] = df_merged['fraction_of_devices_home_y'] - df_merged['fraction_of_devices_home_x']\n",
    "df_merged['fraction_of_devices_work_adj'] = df_merged['fraction_of_devices_work_y'] - df_merged['fraction_of_devices_work_x']\n",
    "df_merged['fraction_time_away_all_adj'] = df_merged['fraction_time_away_all_y'] - df_merged['fraction_time_away_all_x']\n",
    "df_merged['fraction_time_away_leave_adj'] = df_merged['fraction_time_away_leave_y'] - df_merged['fraction_time_away_leave_x']"
   ]
  },
  {
   "cell_type": "code",
   "execution_count": 22,
   "metadata": {},
   "outputs": [],
   "source": [
    "adj_targets = df_merged[['geo_12', 'Week', 'fraction_of_devices_home_adj', 'fraction_of_devices_work_adj', 'fraction_time_away_all_adj', 'fraction_time_away_leave_adj']]"
   ]
  },
  {
   "cell_type": "code",
   "execution_count": 25,
   "metadata": {},
   "outputs": [
    {
     "data": {
      "text/plain": [
       "array([13, 14, 15, 16, 17, 18])"
      ]
     },
     "execution_count": 25,
     "metadata": {},
     "output_type": "execute_result"
    }
   ],
   "source": [
    "adj_targets['Week'].unique()"
   ]
  },
  {
   "cell_type": "code",
   "execution_count": 83,
   "metadata": {},
   "outputs": [],
   "source": [
    "adj_targets.to_csv('COVID_mobility_targets_adjusted.csv', header=True, index=False)"
   ]
  },
  {
   "cell_type": "code",
   "execution_count": null,
   "metadata": {},
   "outputs": [],
   "source": []
  },
  {
   "cell_type": "code",
   "execution_count": 67,
   "metadata": {},
   "outputs": [],
   "source": [
    "df_targets_past.drop(['device_count'], axis=1, inplace=True)"
   ]
  }
 ],
 "metadata": {
  "kernelspec": {
   "display_name": "Python 3.7.7 64-bit ('mlenv': venv)",
   "language": "python",
   "name": "python37764bitmlenvvenvd18dd52abd9c460a8724f284189a7269"
  },
  "language_info": {
   "codemirror_mode": {
    "name": "ipython",
    "version": 3
   },
   "file_extension": ".py",
   "mimetype": "text/x-python",
   "name": "python",
   "nbconvert_exporter": "python",
   "pygments_lexer": "ipython3",
   "version": "3.7.7"
  }
 },
 "nbformat": 4,
 "nbformat_minor": 4
}
