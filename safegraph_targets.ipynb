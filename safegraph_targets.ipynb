{
 "cells": [
  {
   "cell_type": "markdown",
   "metadata": {},
   "source": [
    "## Process and Describe Project Targets"
   ]
  },
  {
   "cell_type": "markdown",
   "metadata": {},
   "source": [
    "#### This notebook reads in safegraph social distancing (mobility) data and aggregates/computes targets.  Output file is a csv which is used by the notebook that produces the models."
   ]
  },
  {
   "cell_type": "code",
   "execution_count": 1,
   "metadata": {},
   "outputs": [],
   "source": [
    "import pandas as pd\n",
    "import geopandas as gpd\n",
    "import json\n",
    "from matplotlib import pyplot as plt\n",
    "import cmp"
   ]
  },
  {
   "cell_type": "code",
   "execution_count": 2,
   "metadata": {},
   "outputs": [],
   "source": [
    "df = pd.read_csv('../data/cleaned_IL_sd.csv.gz', compression='gzip')"
   ]
  },
  {
   "cell_type": "code",
   "execution_count": 3,
   "metadata": {},
   "outputs": [
    {
     "data": {
      "text/html": [
       "<div>\n",
       "<style scoped>\n",
       "    .dataframe tbody tr th:only-of-type {\n",
       "        vertical-align: middle;\n",
       "    }\n",
       "\n",
       "    .dataframe tbody tr th {\n",
       "        vertical-align: top;\n",
       "    }\n",
       "\n",
       "    .dataframe thead th {\n",
       "        text-align: right;\n",
       "    }\n",
       "</style>\n",
       "<table border=\"1\" class=\"dataframe\">\n",
       "  <thead>\n",
       "    <tr style=\"text-align: right;\">\n",
       "      <th></th>\n",
       "      <th>origin_census_block_group</th>\n",
       "      <th>device_count</th>\n",
       "      <th>distance_traveled_from_home</th>\n",
       "      <th>completely_home_device_count</th>\n",
       "      <th>median_home_dwell_time</th>\n",
       "      <th>part_time_work_behavior_devices</th>\n",
       "      <th>full_time_work_behavior_devices</th>\n",
       "      <th>delivery_behavior_devices</th>\n",
       "      <th>median_non_home_dwell_time</th>\n",
       "      <th>candidate_device_count</th>\n",
       "      <th>median_percentage_time_home</th>\n",
       "    </tr>\n",
       "  </thead>\n",
       "  <tbody>\n",
       "    <tr>\n",
       "      <th>count</th>\n",
       "      <td>7.255130e+05</td>\n",
       "      <td>725513.000000</td>\n",
       "      <td>7.254950e+05</td>\n",
       "      <td>725513.000000</td>\n",
       "      <td>725513.000000</td>\n",
       "      <td>725513.000000</td>\n",
       "      <td>725513.000000</td>\n",
       "      <td>725513.000000</td>\n",
       "      <td>725513.000000</td>\n",
       "      <td>725513.000000</td>\n",
       "      <td>725513.000000</td>\n",
       "    </tr>\n",
       "    <tr>\n",
       "      <th>mean</th>\n",
       "      <td>1.707888e+11</td>\n",
       "      <td>78.175162</td>\n",
       "      <td>7.109183e+03</td>\n",
       "      <td>29.174333</td>\n",
       "      <td>795.639152</td>\n",
       "      <td>4.741830</td>\n",
       "      <td>3.189828</td>\n",
       "      <td>1.825889</td>\n",
       "      <td>61.755624</td>\n",
       "      <td>178.383876</td>\n",
       "      <td>87.691119</td>\n",
       "    </tr>\n",
       "    <tr>\n",
       "      <th>std</th>\n",
       "      <td>5.958124e+08</td>\n",
       "      <td>66.786382</td>\n",
       "      <td>2.594607e+04</td>\n",
       "      <td>28.155575</td>\n",
       "      <td>323.155459</td>\n",
       "      <td>6.242844</td>\n",
       "      <td>4.920520</td>\n",
       "      <td>1.608854</td>\n",
       "      <td>100.600378</td>\n",
       "      <td>195.299819</td>\n",
       "      <td>19.272855</td>\n",
       "    </tr>\n",
       "    <tr>\n",
       "      <th>min</th>\n",
       "      <td>1.700100e+11</td>\n",
       "      <td>5.000000</td>\n",
       "      <td>0.000000e+00</td>\n",
       "      <td>1.000000</td>\n",
       "      <td>0.000000</td>\n",
       "      <td>1.000000</td>\n",
       "      <td>1.000000</td>\n",
       "      <td>1.000000</td>\n",
       "      <td>0.000000</td>\n",
       "      <td>7.000000</td>\n",
       "      <td>0.000000</td>\n",
       "    </tr>\n",
       "    <tr>\n",
       "      <th>25%</th>\n",
       "      <td>1.703180e+11</td>\n",
       "      <td>43.000000</td>\n",
       "      <td>2.828000e+03</td>\n",
       "      <td>15.000000</td>\n",
       "      <td>627.000000</td>\n",
       "      <td>1.000000</td>\n",
       "      <td>1.000000</td>\n",
       "      <td>1.000000</td>\n",
       "      <td>4.000000</td>\n",
       "      <td>94.000000</td>\n",
       "      <td>82.000000</td>\n",
       "    </tr>\n",
       "    <tr>\n",
       "      <th>50%</th>\n",
       "      <td>1.704384e+11</td>\n",
       "      <td>61.000000</td>\n",
       "      <td>4.537000e+03</td>\n",
       "      <td>22.000000</td>\n",
       "      <td>818.000000</td>\n",
       "      <td>3.000000</td>\n",
       "      <td>1.000000</td>\n",
       "      <td>1.000000</td>\n",
       "      <td>23.000000</td>\n",
       "      <td>131.000000</td>\n",
       "      <td>96.000000</td>\n",
       "    </tr>\n",
       "    <tr>\n",
       "      <th>75%</th>\n",
       "      <td>1.711796e+11</td>\n",
       "      <td>91.000000</td>\n",
       "      <td>7.176000e+03</td>\n",
       "      <td>35.000000</td>\n",
       "      <td>1011.000000</td>\n",
       "      <td>6.000000</td>\n",
       "      <td>4.000000</td>\n",
       "      <td>2.000000</td>\n",
       "      <td>79.000000</td>\n",
       "      <td>194.000000</td>\n",
       "      <td>100.000000</td>\n",
       "    </tr>\n",
       "    <tr>\n",
       "      <th>max</th>\n",
       "      <td>1.720303e+11</td>\n",
       "      <td>1592.000000</td>\n",
       "      <td>4.750770e+06</td>\n",
       "      <td>765.000000</td>\n",
       "      <td>1439.000000</td>\n",
       "      <td>262.000000</td>\n",
       "      <td>234.000000</td>\n",
       "      <td>46.000000</td>\n",
       "      <td>1413.000000</td>\n",
       "      <td>6149.000000</td>\n",
       "      <td>100.000000</td>\n",
       "    </tr>\n",
       "  </tbody>\n",
       "</table>\n",
       "</div>"
      ],
      "text/plain": [
       "       origin_census_block_group   device_count  distance_traveled_from_home  \\\n",
       "count               7.255130e+05  725513.000000                 7.254950e+05   \n",
       "mean                1.707888e+11      78.175162                 7.109183e+03   \n",
       "std                 5.958124e+08      66.786382                 2.594607e+04   \n",
       "min                 1.700100e+11       5.000000                 0.000000e+00   \n",
       "25%                 1.703180e+11      43.000000                 2.828000e+03   \n",
       "50%                 1.704384e+11      61.000000                 4.537000e+03   \n",
       "75%                 1.711796e+11      91.000000                 7.176000e+03   \n",
       "max                 1.720303e+11    1592.000000                 4.750770e+06   \n",
       "\n",
       "       completely_home_device_count  median_home_dwell_time  \\\n",
       "count                 725513.000000           725513.000000   \n",
       "mean                      29.174333              795.639152   \n",
       "std                       28.155575              323.155459   \n",
       "min                        1.000000                0.000000   \n",
       "25%                       15.000000              627.000000   \n",
       "50%                       22.000000              818.000000   \n",
       "75%                       35.000000             1011.000000   \n",
       "max                      765.000000             1439.000000   \n",
       "\n",
       "       part_time_work_behavior_devices  full_time_work_behavior_devices  \\\n",
       "count                    725513.000000                    725513.000000   \n",
       "mean                          4.741830                         3.189828   \n",
       "std                           6.242844                         4.920520   \n",
       "min                           1.000000                         1.000000   \n",
       "25%                           1.000000                         1.000000   \n",
       "50%                           3.000000                         1.000000   \n",
       "75%                           6.000000                         4.000000   \n",
       "max                         262.000000                       234.000000   \n",
       "\n",
       "       delivery_behavior_devices  median_non_home_dwell_time  \\\n",
       "count              725513.000000               725513.000000   \n",
       "mean                    1.825889                   61.755624   \n",
       "std                     1.608854                  100.600378   \n",
       "min                     1.000000                    0.000000   \n",
       "25%                     1.000000                    4.000000   \n",
       "50%                     1.000000                   23.000000   \n",
       "75%                     2.000000                   79.000000   \n",
       "max                    46.000000                 1413.000000   \n",
       "\n",
       "       candidate_device_count  median_percentage_time_home  \n",
       "count           725513.000000                725513.000000  \n",
       "mean               178.383876                    87.691119  \n",
       "std                195.299819                    19.272855  \n",
       "min                  7.000000                     0.000000  \n",
       "25%                 94.000000                    82.000000  \n",
       "50%                131.000000                    96.000000  \n",
       "75%                194.000000                   100.000000  \n",
       "max               6149.000000                   100.000000  "
      ]
     },
     "execution_count": 3,
     "metadata": {},
     "output_type": "execute_result"
    }
   ],
   "source": [
    "df.describe()"
   ]
  },
  {
   "cell_type": "code",
   "execution_count": 4,
   "metadata": {},
   "outputs": [],
   "source": [
    "df, df_targets = cmp.process_targets(df)"
   ]
  },
  {
   "cell_type": "code",
   "execution_count": 5,
   "metadata": {},
   "outputs": [
    {
     "data": {
      "text/html": [
       "<div>\n",
       "<style scoped>\n",
       "    .dataframe tbody tr th:only-of-type {\n",
       "        vertical-align: middle;\n",
       "    }\n",
       "\n",
       "    .dataframe tbody tr th {\n",
       "        vertical-align: top;\n",
       "    }\n",
       "\n",
       "    .dataframe thead th {\n",
       "        text-align: right;\n",
       "    }\n",
       "</style>\n",
       "<table border=\"1\" class=\"dataframe\">\n",
       "  <thead>\n",
       "    <tr style=\"text-align: right;\">\n",
       "      <th></th>\n",
       "      <th>geo_12</th>\n",
       "      <th>Week</th>\n",
       "      <th>device_count</th>\n",
       "      <th>fraction_of_devices_home</th>\n",
       "      <th>fraction_of_devices_work</th>\n",
       "      <th>avg_time_away_all</th>\n",
       "      <th>avg_time_away_leave</th>\n",
       "    </tr>\n",
       "  </thead>\n",
       "  <tbody>\n",
       "    <tr>\n",
       "      <th>count</th>\n",
       "      <td>4.838900e+04</td>\n",
       "      <td>48389.000000</td>\n",
       "      <td>48389.000000</td>\n",
       "      <td>48389.000000</td>\n",
       "      <td>48389.000000</td>\n",
       "      <td>48389.000000</td>\n",
       "      <td>48389.000000</td>\n",
       "    </tr>\n",
       "    <tr>\n",
       "      <th>mean</th>\n",
       "      <td>1.707888e+11</td>\n",
       "      <td>15.000083</td>\n",
       "      <td>76.429098</td>\n",
       "      <td>0.425930</td>\n",
       "      <td>0.080159</td>\n",
       "      <td>3.517507</td>\n",
       "      <td>6.128201</td>\n",
       "    </tr>\n",
       "    <tr>\n",
       "      <th>std</th>\n",
       "      <td>5.958122e+08</td>\n",
       "      <td>1.414184</td>\n",
       "      <td>65.046804</td>\n",
       "      <td>0.091087</td>\n",
       "      <td>0.028944</td>\n",
       "      <td>1.182196</td>\n",
       "      <td>1.437580</td>\n",
       "    </tr>\n",
       "    <tr>\n",
       "      <th>min</th>\n",
       "      <td>1.700100e+11</td>\n",
       "      <td>13.000000</td>\n",
       "      <td>5.500000</td>\n",
       "      <td>0.007454</td>\n",
       "      <td>0.017948</td>\n",
       "      <td>0.154657</td>\n",
       "      <td>0.340979</td>\n",
       "    </tr>\n",
       "    <tr>\n",
       "      <th>25%</th>\n",
       "      <td>1.703180e+11</td>\n",
       "      <td>14.000000</td>\n",
       "      <td>42.666667</td>\n",
       "      <td>0.364261</td>\n",
       "      <td>0.060288</td>\n",
       "      <td>2.855140</td>\n",
       "      <td>5.298481</td>\n",
       "    </tr>\n",
       "    <tr>\n",
       "      <th>50%</th>\n",
       "      <td>1.704384e+11</td>\n",
       "      <td>15.000000</td>\n",
       "      <td>60.285714</td>\n",
       "      <td>0.430473</td>\n",
       "      <td>0.075705</td>\n",
       "      <td>3.381591</td>\n",
       "      <td>5.941589</td>\n",
       "    </tr>\n",
       "    <tr>\n",
       "      <th>75%</th>\n",
       "      <td>1.711796e+11</td>\n",
       "      <td>16.000000</td>\n",
       "      <td>88.000000</td>\n",
       "      <td>0.490737</td>\n",
       "      <td>0.094688</td>\n",
       "      <td>3.978202</td>\n",
       "      <td>6.702275</td>\n",
       "    </tr>\n",
       "    <tr>\n",
       "      <th>max</th>\n",
       "      <td>1.720303e+11</td>\n",
       "      <td>17.000000</td>\n",
       "      <td>1384.285714</td>\n",
       "      <td>0.755880</td>\n",
       "      <td>0.428571</td>\n",
       "      <td>19.022379</td>\n",
       "      <td>19.353180</td>\n",
       "    </tr>\n",
       "  </tbody>\n",
       "</table>\n",
       "</div>"
      ],
      "text/plain": [
       "             geo_12          Week  device_count  fraction_of_devices_home  \\\n",
       "count  4.838900e+04  48389.000000  48389.000000              48389.000000   \n",
       "mean   1.707888e+11     15.000083     76.429098                  0.425930   \n",
       "std    5.958122e+08      1.414184     65.046804                  0.091087   \n",
       "min    1.700100e+11     13.000000      5.500000                  0.007454   \n",
       "25%    1.703180e+11     14.000000     42.666667                  0.364261   \n",
       "50%    1.704384e+11     15.000000     60.285714                  0.430473   \n",
       "75%    1.711796e+11     16.000000     88.000000                  0.490737   \n",
       "max    1.720303e+11     17.000000   1384.285714                  0.755880   \n",
       "\n",
       "       fraction_of_devices_work  avg_time_away_all  avg_time_away_leave  \n",
       "count              48389.000000       48389.000000         48389.000000  \n",
       "mean                   0.080159           3.517507             6.128201  \n",
       "std                    0.028944           1.182196             1.437580  \n",
       "min                    0.017948           0.154657             0.340979  \n",
       "25%                    0.060288           2.855140             5.298481  \n",
       "50%                    0.075705           3.381591             5.941589  \n",
       "75%                    0.094688           3.978202             6.702275  \n",
       "max                    0.428571          19.022379            19.353180  "
      ]
     },
     "execution_count": 5,
     "metadata": {},
     "output_type": "execute_result"
    }
   ],
   "source": [
    "df_targets.describe()"
   ]
  },
  {
   "cell_type": "code",
   "execution_count": 6,
   "metadata": {},
   "outputs": [
    {
     "data": {
      "text/plain": [
       "Text(0.5, 1.0, 'Fraction of Devices Completely at Home')"
      ]
     },
     "execution_count": 6,
     "metadata": {},
     "output_type": "execute_result"
    },
    {
     "data": {
      "image/png": "[encoded data removed]",
      "text/plain": [
       "<Figure size 432x288 with 1 Axes>"
      ]
     },
     "metadata": {
      "needs_background": "light"
     },
     "output_type": "display_data"
    }
   ],
   "source": [
    "plt.hist(df_targets['fraction_of_devices_home'], bins=20)\n",
    "plt.xlabel('fraction of devices completely at home')\n",
    "plt.title('Fraction of Devices Completely at Home', fontsize=16)"
   ]
  },
  {
   "cell_type": "code",
   "execution_count": 7,
   "metadata": {},
   "outputs": [
    {
     "data": {
      "text/plain": [
       "Text(0.5, 1.0, 'Fraction of Devices Exhibiting Full or Part Time Work Behavior')"
      ]
     },
     "execution_count": 7,
     "metadata": {},
     "output_type": "execute_result"
    },
    {
     "data": {
      "image/png": "[encoded data removed]",
      "text/plain": [
       "<Figure size 432x288 with 1 Axes>"
      ]
     },
     "metadata": {
      "needs_background": "light"
     },
     "output_type": "display_data"
    }
   ],
   "source": [
    "plt.hist(df_targets['fraction_of_devices_work'], bins=20)\n",
    "plt.xlabel('fraction of devices with work behavior')\n",
    "plt.title('Fraction of Devices Exhibiting Full or Part Time Work Behavior', fontsize=16)"
   ]
  },
  {
   "cell_type": "code",
   "execution_count": 8,
   "metadata": {},
   "outputs": [
    {
     "data": {
      "text/plain": [
       "Text(0.5, 1.0, 'Average Fraction of Time Away from Home per total devices')"
      ]
     },
     "execution_count": 8,
     "metadata": {},
     "output_type": "execute_result"
    },
    {
     "data": {
      "image/png": "[encoded data removed]",
      "text/plain": [
       "<Figure size 432x288 with 1 Axes>"
      ]
     },
     "metadata": {
      "needs_background": "light"
     },
     "output_type": "display_data"
    }
   ],
   "source": [
    "plt.hist(df_targets['avg_time_away_all'], bins=20)\n",
    "plt.xlabel('Average Fraction of Time Away from Home')\n",
    "plt.title('Average Fraction of Time Away from Home per total devices', fontsize=16)"
   ]
  },
  {
   "cell_type": "code",
   "execution_count": 9,
   "metadata": {},
   "outputs": [
    {
     "data": {
      "text/plain": [
       "Text(0.5, 1.0, 'Average Fraction of Time Away from Home per devices that leave')"
      ]
     },
     "execution_count": 9,
     "metadata": {},
     "output_type": "execute_result"
    },
    {
     "data": {
      "image/png": "[encoded data removed]",
      "text/plain": [
       "<Figure size 432x288 with 1 Axes>"
      ]
     },
     "metadata": {
      "needs_background": "light"
     },
     "output_type": "display_data"
    }
   ],
   "source": [
    "plt.hist(df_targets['avg_time_away_leave'], bins=20)\n",
    "plt.xlabel('Average Fraction of Time Away from Home')\n",
    "plt.title('Average Fraction of Time Away from Home per devices that leave', fontsize=16)"
   ]
  },
  {
   "cell_type": "code",
   "execution_count": 10,
   "metadata": {},
   "outputs": [
    {
     "data": {
      "text/html": [
       "<div>\n",
       "<style scoped>\n",
       "    .dataframe tbody tr th:only-of-type {\n",
       "        vertical-align: middle;\n",
       "    }\n",
       "\n",
       "    .dataframe tbody tr th {\n",
       "        vertical-align: top;\n",
       "    }\n",
       "\n",
       "    .dataframe thead th {\n",
       "        text-align: right;\n",
       "    }\n",
       "</style>\n",
       "<table border=\"1\" class=\"dataframe\">\n",
       "  <thead>\n",
       "    <tr style=\"text-align: right;\">\n",
       "      <th></th>\n",
       "      <th>geo_12</th>\n",
       "      <th>Week</th>\n",
       "      <th>device_count</th>\n",
       "      <th>fraction_of_devices_home</th>\n",
       "      <th>fraction_of_devices_work</th>\n",
       "      <th>avg_time_away_all</th>\n",
       "      <th>avg_time_away_leave</th>\n",
       "    </tr>\n",
       "  </thead>\n",
       "  <tbody>\n",
       "    <tr>\n",
       "      <th>geo_12</th>\n",
       "      <td>1.000000</td>\n",
       "      <td>-0.000020</td>\n",
       "      <td>0.167901</td>\n",
       "      <td>-0.278721</td>\n",
       "      <td>0.104353</td>\n",
       "      <td>0.078707</td>\n",
       "      <td>-0.072579</td>\n",
       "    </tr>\n",
       "    <tr>\n",
       "      <th>Week</th>\n",
       "      <td>-0.000020</td>\n",
       "      <td>1.000000</td>\n",
       "      <td>-0.022293</td>\n",
       "      <td>-0.042357</td>\n",
       "      <td>-0.002921</td>\n",
       "      <td>-0.026585</td>\n",
       "      <td>-0.059382</td>\n",
       "    </tr>\n",
       "    <tr>\n",
       "      <th>device_count</th>\n",
       "      <td>0.167901</td>\n",
       "      <td>-0.022293</td>\n",
       "      <td>1.000000</td>\n",
       "      <td>0.040099</td>\n",
       "      <td>-0.252467</td>\n",
       "      <td>-0.052883</td>\n",
       "      <td>-0.065996</td>\n",
       "    </tr>\n",
       "    <tr>\n",
       "      <th>fraction_of_devices_home</th>\n",
       "      <td>-0.278721</td>\n",
       "      <td>-0.042357</td>\n",
       "      <td>0.040099</td>\n",
       "      <td>1.000000</td>\n",
       "      <td>-0.351702</td>\n",
       "      <td>-0.629318</td>\n",
       "      <td>-0.173258</td>\n",
       "    </tr>\n",
       "    <tr>\n",
       "      <th>fraction_of_devices_work</th>\n",
       "      <td>0.104353</td>\n",
       "      <td>-0.002921</td>\n",
       "      <td>-0.252467</td>\n",
       "      <td>-0.351702</td>\n",
       "      <td>1.000000</td>\n",
       "      <td>0.209311</td>\n",
       "      <td>0.083968</td>\n",
       "    </tr>\n",
       "    <tr>\n",
       "      <th>avg_time_away_all</th>\n",
       "      <td>0.078707</td>\n",
       "      <td>-0.026585</td>\n",
       "      <td>-0.052883</td>\n",
       "      <td>-0.629318</td>\n",
       "      <td>0.209311</td>\n",
       "      <td>1.000000</td>\n",
       "      <td>0.849453</td>\n",
       "    </tr>\n",
       "    <tr>\n",
       "      <th>avg_time_away_leave</th>\n",
       "      <td>-0.072579</td>\n",
       "      <td>-0.059382</td>\n",
       "      <td>-0.065996</td>\n",
       "      <td>-0.173258</td>\n",
       "      <td>0.083968</td>\n",
       "      <td>0.849453</td>\n",
       "      <td>1.000000</td>\n",
       "    </tr>\n",
       "  </tbody>\n",
       "</table>\n",
       "</div>"
      ],
      "text/plain": [
       "                            geo_12      Week  device_count  \\\n",
       "geo_12                    1.000000 -0.000020      0.167901   \n",
       "Week                     -0.000020  1.000000     -0.022293   \n",
       "device_count              0.167901 -0.022293      1.000000   \n",
       "fraction_of_devices_home -0.278721 -0.042357      0.040099   \n",
       "fraction_of_devices_work  0.104353 -0.002921     -0.252467   \n",
       "avg_time_away_all         0.078707 -0.026585     -0.052883   \n",
       "avg_time_away_leave      -0.072579 -0.059382     -0.065996   \n",
       "\n",
       "                          fraction_of_devices_home  fraction_of_devices_work  \\\n",
       "geo_12                                   -0.278721                  0.104353   \n",
       "Week                                     -0.042357                 -0.002921   \n",
       "device_count                              0.040099                 -0.252467   \n",
       "fraction_of_devices_home                  1.000000                 -0.351702   \n",
       "fraction_of_devices_work                 -0.351702                  1.000000   \n",
       "avg_time_away_all                        -0.629318                  0.209311   \n",
       "avg_time_away_leave                      -0.173258                  0.083968   \n",
       "\n",
       "                          avg_time_away_all  avg_time_away_leave  \n",
       "geo_12                             0.078707            -0.072579  \n",
       "Week                              -0.026585            -0.059382  \n",
       "device_count                      -0.052883            -0.065996  \n",
       "fraction_of_devices_home          -0.629318            -0.173258  \n",
       "fraction_of_devices_work           0.209311             0.083968  \n",
       "avg_time_away_all                  1.000000             0.849453  \n",
       "avg_time_away_leave                0.849453             1.000000  "
      ]
     },
     "execution_count": 10,
     "metadata": {},
     "output_type": "execute_result"
    }
   ],
   "source": [
    "df_targets.corr()"
   ]
  },
  {
   "cell_type": "code",
   "execution_count": 11,
   "metadata": {},
   "outputs": [],
   "source": [
    "df_targets.drop(['device_count'], axis=1, inplace=True)"
   ]
  },
  {
   "cell_type": "code",
   "execution_count": 12,
   "metadata": {},
   "outputs": [],
   "source": [
    "dfcolumns = pd.read_csv('../data/social_distancing_feb.csv.gz', compression='gzip',\n",
    "                        nrows = 1)\n",
    "df_past = pd.read_csv('../data/social_distancing_feb.csv.gz', compression='gzip',\n",
    "                  header = None,\n",
    "                  skiprows = 1,\n",
    "                  usecols = list(range(len(dfcolumns.columns))),\n",
    "                  names = dfcolumns.columns)"
   ]
  },
  {
   "cell_type": "code",
   "execution_count": 13,
   "metadata": {},
   "outputs": [],
   "source": [
    "#df_targets.to_csv('COVID_mobility_targets.csv', header=True, index=False)"
   ]
  },
  {
   "cell_type": "code",
   "execution_count": 15,
   "metadata": {},
   "outputs": [],
   "source": [
    "df_past, df_targets_past = cmp.process_targets(df_past, start_date='2020-02-03', end_date='2020-02-23')"
   ]
  },
  {
   "cell_type": "code",
   "execution_count": 16,
   "metadata": {},
   "outputs": [
    {
     "data": {
      "text/html": [
       "<div>\n",
       "<style scoped>\n",
       "    .dataframe tbody tr th:only-of-type {\n",
       "        vertical-align: middle;\n",
       "    }\n",
       "\n",
       "    .dataframe tbody tr th {\n",
       "        vertical-align: top;\n",
       "    }\n",
       "\n",
       "    .dataframe thead th {\n",
       "        text-align: right;\n",
       "    }\n",
       "</style>\n",
       "<table border=\"1\" class=\"dataframe\">\n",
       "  <thead>\n",
       "    <tr style=\"text-align: right;\">\n",
       "      <th></th>\n",
       "      <th>geo_12</th>\n",
       "      <th>Week</th>\n",
       "      <th>device_count</th>\n",
       "      <th>fraction_of_devices_home</th>\n",
       "      <th>fraction_of_devices_work</th>\n",
       "      <th>avg_time_away_all</th>\n",
       "      <th>avg_time_away_leave</th>\n",
       "    </tr>\n",
       "  </thead>\n",
       "  <tbody>\n",
       "    <tr>\n",
       "      <th>count</th>\n",
       "      <td>1.195700e+04</td>\n",
       "      <td>11957.000000</td>\n",
       "      <td>11957.000000</td>\n",
       "      <td>11957.000000</td>\n",
       "      <td>11957.000000</td>\n",
       "      <td>11957.000000</td>\n",
       "      <td>11957.000000</td>\n",
       "    </tr>\n",
       "    <tr>\n",
       "      <th>mean</th>\n",
       "      <td>1.703159e+11</td>\n",
       "      <td>6.999916</td>\n",
       "      <td>67.648602</td>\n",
       "      <td>0.256034</td>\n",
       "      <td>0.197360</td>\n",
       "      <td>4.426095</td>\n",
       "      <td>5.944957</td>\n",
       "    </tr>\n",
       "    <tr>\n",
       "      <th>std</th>\n",
       "      <td>2.924846e+06</td>\n",
       "      <td>0.816514</td>\n",
       "      <td>39.077805</td>\n",
       "      <td>0.063379</td>\n",
       "      <td>0.055414</td>\n",
       "      <td>0.799089</td>\n",
       "      <td>0.831239</td>\n",
       "    </tr>\n",
       "    <tr>\n",
       "      <th>min</th>\n",
       "      <td>1.703101e+11</td>\n",
       "      <td>6.000000</td>\n",
       "      <td>6.000000</td>\n",
       "      <td>0.040950</td>\n",
       "      <td>0.043867</td>\n",
       "      <td>1.356918</td>\n",
       "      <td>2.286062</td>\n",
       "    </tr>\n",
       "    <tr>\n",
       "      <th>25%</th>\n",
       "      <td>1.703128e+11</td>\n",
       "      <td>6.000000</td>\n",
       "      <td>42.666667</td>\n",
       "      <td>0.213297</td>\n",
       "      <td>0.156769</td>\n",
       "      <td>3.883954</td>\n",
       "      <td>5.407916</td>\n",
       "    </tr>\n",
       "    <tr>\n",
       "      <th>50%</th>\n",
       "      <td>1.703180e+11</td>\n",
       "      <td>7.000000</td>\n",
       "      <td>58.714286</td>\n",
       "      <td>0.255222</td>\n",
       "      <td>0.194777</td>\n",
       "      <td>4.375916</td>\n",
       "      <td>5.916916</td>\n",
       "    </tr>\n",
       "    <tr>\n",
       "      <th>75%</th>\n",
       "      <td>1.703182e+11</td>\n",
       "      <td>8.000000</td>\n",
       "      <td>80.428571</td>\n",
       "      <td>0.298402</td>\n",
       "      <td>0.234825</td>\n",
       "      <td>4.920077</td>\n",
       "      <td>6.446868</td>\n",
       "    </tr>\n",
       "    <tr>\n",
       "      <th>max</th>\n",
       "      <td>1.703199e+11</td>\n",
       "      <td>8.000000</td>\n",
       "      <td>398.285714</td>\n",
       "      <td>0.519702</td>\n",
       "      <td>0.434722</td>\n",
       "      <td>9.325020</td>\n",
       "      <td>10.442261</td>\n",
       "    </tr>\n",
       "  </tbody>\n",
       "</table>\n",
       "</div>"
      ],
      "text/plain": [
       "             geo_12          Week  device_count  fraction_of_devices_home  \\\n",
       "count  1.195700e+04  11957.000000  11957.000000              11957.000000   \n",
       "mean   1.703159e+11      6.999916     67.648602                  0.256034   \n",
       "std    2.924846e+06      0.816514     39.077805                  0.063379   \n",
       "min    1.703101e+11      6.000000      6.000000                  0.040950   \n",
       "25%    1.703128e+11      6.000000     42.666667                  0.213297   \n",
       "50%    1.703180e+11      7.000000     58.714286                  0.255222   \n",
       "75%    1.703182e+11      8.000000     80.428571                  0.298402   \n",
       "max    1.703199e+11      8.000000    398.285714                  0.519702   \n",
       "\n",
       "       fraction_of_devices_work  avg_time_away_all  avg_time_away_leave  \n",
       "count              11957.000000       11957.000000         11957.000000  \n",
       "mean                   0.197360           4.426095             5.944957  \n",
       "std                    0.055414           0.799089             0.831239  \n",
       "min                    0.043867           1.356918             2.286062  \n",
       "25%                    0.156769           3.883954             5.407916  \n",
       "50%                    0.194777           4.375916             5.916916  \n",
       "75%                    0.234825           4.920077             6.446868  \n",
       "max                    0.434722           9.325020            10.442261  "
      ]
     },
     "execution_count": 16,
     "metadata": {},
     "output_type": "execute_result"
    }
   ],
   "source": [
    "df_targets_past.describe()"
   ]
  },
  {
   "cell_type": "code",
   "execution_count": 17,
   "metadata": {},
   "outputs": [],
   "source": [
    "#df_targets_past.to_csv('COVID_mobility_targets_past.csv', header=True, index=False)"
   ]
  },
  {
   "cell_type": "code",
   "execution_count": 18,
   "metadata": {},
   "outputs": [
    {
     "data": {
      "text/html": [
       "<div>\n",
       "<style scoped>\n",
       "    .dataframe tbody tr th:only-of-type {\n",
       "        vertical-align: middle;\n",
       "    }\n",
       "\n",
       "    .dataframe tbody tr th {\n",
       "        vertical-align: top;\n",
       "    }\n",
       "\n",
       "    .dataframe thead th {\n",
       "        text-align: right;\n",
       "    }\n",
       "</style>\n",
       "<table border=\"1\" class=\"dataframe\">\n",
       "  <thead>\n",
       "    <tr style=\"text-align: right;\">\n",
       "      <th></th>\n",
       "      <th>geo_12</th>\n",
       "      <th>fraction_of_devices_home</th>\n",
       "      <th>fraction_of_devices_work</th>\n",
       "      <th>avg_time_away_all</th>\n",
       "      <th>avg_time_away_leave</th>\n",
       "    </tr>\n",
       "  </thead>\n",
       "  <tbody>\n",
       "    <tr>\n",
       "      <th>0</th>\n",
       "      <td>170310101001</td>\n",
       "      <td>0.206942</td>\n",
       "      <td>0.213827</td>\n",
       "      <td>4.590671</td>\n",
       "      <td>5.813198</td>\n",
       "    </tr>\n",
       "    <tr>\n",
       "      <th>1</th>\n",
       "      <td>170310101002</td>\n",
       "      <td>0.338545</td>\n",
       "      <td>0.167298</td>\n",
       "      <td>3.183210</td>\n",
       "      <td>4.819487</td>\n",
       "    </tr>\n",
       "    <tr>\n",
       "      <th>2</th>\n",
       "      <td>170310101003</td>\n",
       "      <td>0.244019</td>\n",
       "      <td>0.219090</td>\n",
       "      <td>4.473870</td>\n",
       "      <td>5.899486</td>\n",
       "    </tr>\n",
       "    <tr>\n",
       "      <th>3</th>\n",
       "      <td>170310102011</td>\n",
       "      <td>0.300096</td>\n",
       "      <td>0.200945</td>\n",
       "      <td>4.356954</td>\n",
       "      <td>6.233997</td>\n",
       "    </tr>\n",
       "    <tr>\n",
       "      <th>4</th>\n",
       "      <td>170310102012</td>\n",
       "      <td>0.318298</td>\n",
       "      <td>0.200548</td>\n",
       "      <td>3.604407</td>\n",
       "      <td>5.277516</td>\n",
       "    </tr>\n",
       "  </tbody>\n",
       "</table>\n",
       "</div>"
      ],
      "text/plain": [
       "         geo_12  fraction_of_devices_home  fraction_of_devices_work  \\\n",
       "0  170310101001                  0.206942                  0.213827   \n",
       "1  170310101002                  0.338545                  0.167298   \n",
       "2  170310101003                  0.244019                  0.219090   \n",
       "3  170310102011                  0.300096                  0.200945   \n",
       "4  170310102012                  0.318298                  0.200548   \n",
       "\n",
       "   avg_time_away_all  avg_time_away_leave  \n",
       "0           4.590671             5.813198  \n",
       "1           3.183210             4.819487  \n",
       "2           4.473870             5.899486  \n",
       "3           4.356954             6.233997  \n",
       "4           3.604407             5.277516  "
      ]
     },
     "execution_count": 18,
     "metadata": {},
     "output_type": "execute_result"
    }
   ],
   "source": [
    "#Average the weeks in the february data to get one value for each block group.\n",
    "df_targets_past.drop(['Week', 'device_count'], axis=1, inplace=True)\n",
    "df_targets_feb = df_targets_past.groupby('geo_12').mean().reset_index()\n",
    "df_targets_feb.head()"
   ]
  },
  {
   "cell_type": "code",
   "execution_count": 19,
   "metadata": {},
   "outputs": [],
   "source": [
    "df_merged = df_targets.merge(df_targets_feb, on = \"geo_12\")"
   ]
  },
  {
   "cell_type": "code",
   "execution_count": 20,
   "metadata": {},
   "outputs": [
    {
     "data": {
      "text/plain": [
       "Index(['geo_12', 'Week', 'fraction_of_devices_home_x',\n",
       "       'fraction_of_devices_work_x', 'avg_time_away_all_x',\n",
       "       'avg_time_away_leave_x', 'fraction_of_devices_home_y',\n",
       "       'fraction_of_devices_work_y', 'avg_time_away_all_y',\n",
       "       'avg_time_away_leave_y'],\n",
       "      dtype='object')"
      ]
     },
     "execution_count": 20,
     "metadata": {},
     "output_type": "execute_result"
    }
   ],
   "source": [
    "df_merged.columns"
   ]
  },
  {
   "cell_type": "code",
   "execution_count": 21,
   "metadata": {},
   "outputs": [],
   "source": [
    "df_merged['fraction_of_devices_home_adj'] = df_merged['fraction_of_devices_home_y'] - df_merged['fraction_of_devices_home_x']\n",
    "df_merged['fraction_of_devices_work_adj'] = df_merged['fraction_of_devices_work_y'] - df_merged['fraction_of_devices_work_x']\n",
    "df_merged['avg_time_away_all_adj'] = df_merged['avg_time_away_all_y'] - df_merged['avg_time_away_all_x']\n",
    "df_merged['avg_time_away_leave_adj'] = df_merged['avg_time_away_leave_y'] - df_merged['avg_time_away_leave_x']"
   ]
  },
  {
   "cell_type": "code",
   "execution_count": 22,
   "metadata": {},
   "outputs": [],
   "source": [
    "adj_targets = df_merged[['geo_12', 'Week', 'fraction_of_devices_home_adj', 'fraction_of_devices_work_adj', 'avg_time_away_all_adj', 'avg_time_away_leave_adj']]"
   ]
  },
  {
   "cell_type": "code",
   "execution_count": 23,
   "metadata": {},
   "outputs": [
    {
     "data": {
      "text/html": [
       "<div>\n",
       "<style scoped>\n",
       "    .dataframe tbody tr th:only-of-type {\n",
       "        vertical-align: middle;\n",
       "    }\n",
       "\n",
       "    .dataframe tbody tr th {\n",
       "        vertical-align: top;\n",
       "    }\n",
       "\n",
       "    .dataframe thead th {\n",
       "        text-align: right;\n",
       "    }\n",
       "</style>\n",
       "<table border=\"1\" class=\"dataframe\">\n",
       "  <thead>\n",
       "    <tr style=\"text-align: right;\">\n",
       "      <th></th>\n",
       "      <th>geo_12</th>\n",
       "      <th>Week</th>\n",
       "      <th>fraction_of_devices_home_adj</th>\n",
       "      <th>fraction_of_devices_work_adj</th>\n",
       "      <th>avg_time_away_all_adj</th>\n",
       "      <th>avg_time_away_leave_adj</th>\n",
       "    </tr>\n",
       "  </thead>\n",
       "  <tbody>\n",
       "    <tr>\n",
       "      <th>count</th>\n",
       "      <td>1.992200e+04</td>\n",
       "      <td>19922.000000</td>\n",
       "      <td>19922.000000</td>\n",
       "      <td>19922.000000</td>\n",
       "      <td>19922.000000</td>\n",
       "      <td>19922.000000</td>\n",
       "    </tr>\n",
       "    <tr>\n",
       "      <th>mean</th>\n",
       "      <td>1.703159e+11</td>\n",
       "      <td>14.999950</td>\n",
       "      <td>-0.211237</td>\n",
       "      <td>0.120848</td>\n",
       "      <td>1.096344</td>\n",
       "      <td>-0.314741</td>\n",
       "    </tr>\n",
       "    <tr>\n",
       "      <th>std</th>\n",
       "      <td>2.924280e+06</td>\n",
       "      <td>1.414196</td>\n",
       "      <td>0.098299</td>\n",
       "      <td>0.059217</td>\n",
       "      <td>1.286821</td>\n",
       "      <td>1.613961</td>\n",
       "    </tr>\n",
       "    <tr>\n",
       "      <th>min</th>\n",
       "      <td>1.703101e+11</td>\n",
       "      <td>13.000000</td>\n",
       "      <td>-0.594511</td>\n",
       "      <td>-0.197255</td>\n",
       "      <td>-12.569185</td>\n",
       "      <td>-13.270684</td>\n",
       "    </tr>\n",
       "    <tr>\n",
       "      <th>25%</th>\n",
       "      <td>1.703128e+11</td>\n",
       "      <td>14.000000</td>\n",
       "      <td>-0.274773</td>\n",
       "      <td>0.081214</td>\n",
       "      <td>0.466891</td>\n",
       "      <td>-1.060719</td>\n",
       "    </tr>\n",
       "    <tr>\n",
       "      <th>50%</th>\n",
       "      <td>1.703180e+11</td>\n",
       "      <td>15.000000</td>\n",
       "      <td>-0.213367</td>\n",
       "      <td>0.120008</td>\n",
       "      <td>1.185563</td>\n",
       "      <td>-0.156569</td>\n",
       "    </tr>\n",
       "    <tr>\n",
       "      <th>75%</th>\n",
       "      <td>1.703182e+11</td>\n",
       "      <td>16.000000</td>\n",
       "      <td>-0.148524</td>\n",
       "      <td>0.160404</td>\n",
       "      <td>1.849879</td>\n",
       "      <td>0.662307</td>\n",
       "    </tr>\n",
       "    <tr>\n",
       "      <th>max</th>\n",
       "      <td>1.703199e+11</td>\n",
       "      <td>17.000000</td>\n",
       "      <td>0.237356</td>\n",
       "      <td>0.331180</td>\n",
       "      <td>5.896486</td>\n",
       "      <td>5.186764</td>\n",
       "    </tr>\n",
       "  </tbody>\n",
       "</table>\n",
       "</div>"
      ],
      "text/plain": [
       "             geo_12          Week  fraction_of_devices_home_adj  \\\n",
       "count  1.992200e+04  19922.000000                  19922.000000   \n",
       "mean   1.703159e+11     14.999950                     -0.211237   \n",
       "std    2.924280e+06      1.414196                      0.098299   \n",
       "min    1.703101e+11     13.000000                     -0.594511   \n",
       "25%    1.703128e+11     14.000000                     -0.274773   \n",
       "50%    1.703180e+11     15.000000                     -0.213367   \n",
       "75%    1.703182e+11     16.000000                     -0.148524   \n",
       "max    1.703199e+11     17.000000                      0.237356   \n",
       "\n",
       "       fraction_of_devices_work_adj  avg_time_away_all_adj  \\\n",
       "count                  19922.000000           19922.000000   \n",
       "mean                       0.120848               1.096344   \n",
       "std                        0.059217               1.286821   \n",
       "min                       -0.197255             -12.569185   \n",
       "25%                        0.081214               0.466891   \n",
       "50%                        0.120008               1.185563   \n",
       "75%                        0.160404               1.849879   \n",
       "max                        0.331180               5.896486   \n",
       "\n",
       "       avg_time_away_leave_adj  \n",
       "count             19922.000000  \n",
       "mean                 -0.314741  \n",
       "std                   1.613961  \n",
       "min                 -13.270684  \n",
       "25%                  -1.060719  \n",
       "50%                  -0.156569  \n",
       "75%                   0.662307  \n",
       "max                   5.186764  "
      ]
     },
     "execution_count": 23,
     "metadata": {},
     "output_type": "execute_result"
    }
   ],
   "source": [
    "adj_targets.describe()"
   ]
  },
  {
   "cell_type": "code",
   "execution_count": 24,
   "metadata": {},
   "outputs": [
    {
     "data": {
      "text/html": [
       "<div>\n",
       "<style scoped>\n",
       "    .dataframe tbody tr th:only-of-type {\n",
       "        vertical-align: middle;\n",
       "    }\n",
       "\n",
       "    .dataframe tbody tr th {\n",
       "        vertical-align: top;\n",
       "    }\n",
       "\n",
       "    .dataframe thead th {\n",
       "        text-align: right;\n",
       "    }\n",
       "</style>\n",
       "<table border=\"1\" class=\"dataframe\">\n",
       "  <thead>\n",
       "    <tr style=\"text-align: right;\">\n",
       "      <th></th>\n",
       "      <th>geo_12</th>\n",
       "      <th>Week</th>\n",
       "      <th>fraction_of_devices_home_adj</th>\n",
       "      <th>fraction_of_devices_work_adj</th>\n",
       "      <th>avg_time_away_all_adj</th>\n",
       "      <th>avg_time_away_leave_adj</th>\n",
       "    </tr>\n",
       "  </thead>\n",
       "  <tbody>\n",
       "    <tr>\n",
       "      <th>geo_12</th>\n",
       "      <td>1.000000</td>\n",
       "      <td>0.000067</td>\n",
       "      <td>-0.039203</td>\n",
       "      <td>0.095581</td>\n",
       "      <td>0.147417</td>\n",
       "      <td>0.191586</td>\n",
       "    </tr>\n",
       "    <tr>\n",
       "      <th>Week</th>\n",
       "      <td>0.000067</td>\n",
       "      <td>1.000000</td>\n",
       "      <td>0.021978</td>\n",
       "      <td>-0.000057</td>\n",
       "      <td>0.029946</td>\n",
       "      <td>0.053450</td>\n",
       "    </tr>\n",
       "    <tr>\n",
       "      <th>fraction_of_devices_home_adj</th>\n",
       "      <td>-0.039203</td>\n",
       "      <td>0.021978</td>\n",
       "      <td>1.000000</td>\n",
       "      <td>-0.582428</td>\n",
       "      <td>-0.660463</td>\n",
       "      <td>-0.225690</td>\n",
       "    </tr>\n",
       "    <tr>\n",
       "      <th>fraction_of_devices_work_adj</th>\n",
       "      <td>0.095581</td>\n",
       "      <td>-0.000057</td>\n",
       "      <td>-0.582428</td>\n",
       "      <td>1.000000</td>\n",
       "      <td>0.438044</td>\n",
       "      <td>0.185494</td>\n",
       "    </tr>\n",
       "    <tr>\n",
       "      <th>avg_time_away_all_adj</th>\n",
       "      <td>0.147417</td>\n",
       "      <td>0.029946</td>\n",
       "      <td>-0.660463</td>\n",
       "      <td>0.438044</td>\n",
       "      <td>1.000000</td>\n",
       "      <td>0.851040</td>\n",
       "    </tr>\n",
       "    <tr>\n",
       "      <th>avg_time_away_leave_adj</th>\n",
       "      <td>0.191586</td>\n",
       "      <td>0.053450</td>\n",
       "      <td>-0.225690</td>\n",
       "      <td>0.185494</td>\n",
       "      <td>0.851040</td>\n",
       "      <td>1.000000</td>\n",
       "    </tr>\n",
       "  </tbody>\n",
       "</table>\n",
       "</div>"
      ],
      "text/plain": [
       "                                geo_12      Week  \\\n",
       "geo_12                        1.000000  0.000067   \n",
       "Week                          0.000067  1.000000   \n",
       "fraction_of_devices_home_adj -0.039203  0.021978   \n",
       "fraction_of_devices_work_adj  0.095581 -0.000057   \n",
       "avg_time_away_all_adj         0.147417  0.029946   \n",
       "avg_time_away_leave_adj       0.191586  0.053450   \n",
       "\n",
       "                              fraction_of_devices_home_adj  \\\n",
       "geo_12                                           -0.039203   \n",
       "Week                                              0.021978   \n",
       "fraction_of_devices_home_adj                      1.000000   \n",
       "fraction_of_devices_work_adj                     -0.582428   \n",
       "avg_time_away_all_adj                            -0.660463   \n",
       "avg_time_away_leave_adj                          -0.225690   \n",
       "\n",
       "                              fraction_of_devices_work_adj  \\\n",
       "geo_12                                            0.095581   \n",
       "Week                                             -0.000057   \n",
       "fraction_of_devices_home_adj                     -0.582428   \n",
       "fraction_of_devices_work_adj                      1.000000   \n",
       "avg_time_away_all_adj                             0.438044   \n",
       "avg_time_away_leave_adj                           0.185494   \n",
       "\n",
       "                              avg_time_away_all_adj  avg_time_away_leave_adj  \n",
       "geo_12                                     0.147417                 0.191586  \n",
       "Week                                       0.029946                 0.053450  \n",
       "fraction_of_devices_home_adj              -0.660463                -0.225690  \n",
       "fraction_of_devices_work_adj               0.438044                 0.185494  \n",
       "avg_time_away_all_adj                      1.000000                 0.851040  \n",
       "avg_time_away_leave_adj                    0.851040                 1.000000  "
      ]
     },
     "execution_count": 24,
     "metadata": {},
     "output_type": "execute_result"
    }
   ],
   "source": [
    "adj_targets.corr()"
   ]
  },
  {
   "cell_type": "code",
   "execution_count": 25,
   "metadata": {},
   "outputs": [],
   "source": [
    "adj_targets.to_csv('COVID_mobility_targets_adjusted.csv', header=True, index=False)"
   ]
  },
  {
   "cell_type": "code",
   "execution_count": 26,
   "metadata": {},
   "outputs": [
    {
     "data": {
      "text/plain": [
       "Text(0.5, 1.0, 'Reduction in Fraction of Devices Completely at Home')"
      ]
     },
     "execution_count": 26,
     "metadata": {},
     "output_type": "execute_result"
    },
    {
     "data": {
      "image/png": "[encoded data removed]",
      "text/plain": [
       "<Figure size 432x288 with 1 Axes>"
      ]
     },
     "metadata": {
      "needs_background": "light"
     },
     "output_type": "display_data"
    }
   ],
   "source": [
    "plt.hist(adj_targets['fraction_of_devices_home_adj'], bins=20)\n",
    "plt.xlabel('Reduction in fraction of devices completely at home')\n",
    "plt.title('Reduction in Fraction of Devices Completely at Home', fontsize=16)"
   ]
  },
  {
   "cell_type": "code",
   "execution_count": 27,
   "metadata": {},
   "outputs": [
    {
     "data": {
      "text/plain": [
       "Text(0.5, 1.0, 'Reduction in Fraction of Devices Exhibiting Full or Part Time Work Behavior')"
      ]
     },
     "execution_count": 27,
     "metadata": {},
     "output_type": "execute_result"
    },
    {
     "data": {
      "image/png": "[encoded data removed]",
      "text/plain": [
       "<Figure size 432x288 with 1 Axes>"
      ]
     },
     "metadata": {
      "needs_background": "light"
     },
     "output_type": "display_data"
    }
   ],
   "source": [
    "plt.hist(adj_targets['fraction_of_devices_work_adj'], bins=20)\n",
    "plt.xlabel('Reduction in fraction of devices with work behavior')\n",
    "plt.title('Reduction in Fraction of Devices Exhibiting Full or Part Time Work Behavior', fontsize=16)"
   ]
  },
  {
   "cell_type": "code",
   "execution_count": 28,
   "metadata": {},
   "outputs": [
    {
     "data": {
      "text/plain": [
       "Text(0.5, 1.0, 'Reduction in Average Fraction of Time Away from Home per total devices')"
      ]
     },
     "execution_count": 28,
     "metadata": {},
     "output_type": "execute_result"
    },
    {
     "data": {
      "image/png": "[encoded data removed]",
      "text/plain": [
       "<Figure size 432x288 with 1 Axes>"
      ]
     },
     "metadata": {
      "needs_background": "light"
     },
     "output_type": "display_data"
    }
   ],
   "source": [
    "plt.hist(adj_targets['avg_time_away_all_adj'], bins=20)\n",
    "plt.xlabel('Reduction in Average Fraction of Time Away from Home')\n",
    "plt.title('Reduction in Average Fraction of Time Away from Home per total devices', fontsize=16)"
   ]
  },
  {
   "cell_type": "code",
   "execution_count": 29,
   "metadata": {},
   "outputs": [
    {
     "data": {
      "text/plain": [
       "Text(0.5, 1.0, 'Reduction in Average Fraction of Time Away from Home per devices that leave')"
      ]
     },
     "execution_count": 29,
     "metadata": {},
     "output_type": "execute_result"
    },
    {
     "data": {
      "image/png": "[encoded data removed]",
      "text/plain": [
       "<Figure size 432x288 with 1 Axes>"
      ]
     },
     "metadata": {
      "needs_background": "light"
     },
     "output_type": "display_data"
    }
   ],
   "source": [
    "plt.hist(adj_targets['avg_time_away_leave_adj'], bins=20)\n",
    "plt.xlabel('Reduction in Average Fraction of Time Away from Home')\n",
    "plt.title('Reduction in Average Fraction of Time Away from Home per devices that leave', fontsize=16)"
   ]
  },
  {
   "cell_type": "code",
   "execution_count": null,
   "metadata": {},
   "outputs": [],
   "source": []
  }
 ],
 "metadata": {
  "kernelspec": {
   "display_name": "Python (ML_CAPP)",
   "language": "python",
   "name": "ml_capp"
  },
  "language_info": {
   "codemirror_mode": {
    "name": "ipython",
    "version": 3
   },
   "file_extension": ".py",
   "mimetype": "text/x-python",
   "name": "python",
   "nbconvert_exporter": "python",
   "pygments_lexer": "ipython3",
   "version": "3.7.6"
  }
 },
 "nbformat": 4,
 "nbformat_minor": 4
}
