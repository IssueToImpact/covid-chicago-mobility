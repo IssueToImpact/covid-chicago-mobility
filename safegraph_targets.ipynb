{
 "cells": [
  {
   "cell_type": "markdown",
   "metadata": {},
   "source": [
    "## Process and Describe Project Targets"
   ]
  },
  {
   "cell_type": "code",
   "execution_count": 13,
   "metadata": {},
   "outputs": [],
   "source": [
    "import pandas as pd\n",
    "import geopandas as gpd\n",
    "import json\n",
    "from matplotlib import pyplot as plt\n",
    "import amanda"
   ]
  },
  {
   "cell_type": "code",
   "execution_count": 68,
   "metadata": {},
   "outputs": [],
   "source": [
    "df = pd.read_csv('./cleaned_IL_sd.csv.gz', compression='gzip')"
   ]
  },
  {
   "cell_type": "code",
   "execution_count": 7,
   "metadata": {},
   "outputs": [
    {
     "output_type": "execute_result",
     "data": {
      "text/plain": "   origin_census_block_group           date_range_start  \\\n0               170311201001  2020-04-03T00:00:00-05:00   \n1               170311604003  2020-04-03T00:00:00-05:00   \n2               170312002002  2020-04-03T00:00:00-05:00   \n\n              date_range_end  device_count  distance_traveled_from_home  \\\n0  2020-04-04T00:00:00-05:00            98                       3343.0   \n1  2020-04-04T00:00:00-05:00            41                       4500.0   \n2  2020-04-04T00:00:00-05:00            64                       3760.0   \n\n                          bucketed_distance_traveled  \\\n0  {\"16001-50000\":5,\"0\":52,\">50000\":9,\"2001-8000\"...   \n1  {\"16001-50000\":4,\"0\":14,\">50000\":2,\"2001-8000\"...   \n2  {\"16001-50000\":1,\"0\":34,\">50000\":1,\"2001-8000\"...   \n\n          median_dwell_at_bucketed_distance_traveled  \\\n0  {\"16001-50000\":211,\">50000\":680,\"<1000\":20,\"20...   \n1  {\"16001-50000\":31,\">50000\":358,\"<1000\":538,\"20...   \n2  {\"16001-50000\":65,\">50000\":1072,\"<1000\":134,\"2...   \n\n   completely_home_device_count  median_home_dwell_time  \\\n0                            50                    1282   \n1                            14                     841   \n2                            32                     999   \n\n                            bucketed_home_dwell_time  ...  \\\n0  {\"721-1080\":15,\"361-720\":7,\"61-360\":2,\"<60\":10...  ...   \n1  {\"721-1080\":9,\"361-720\":1,\"61-360\":3,\"<60\":8,\"...  ...   \n2  {\"721-1080\":8,\"361-720\":6,\"61-360\":8,\"<60\":12,...  ...   \n\n  median_non_home_dwell_time  candidate_device_count  \\\n0                          0                     158   \n1                         11                      85   \n2                          0                     109   \n\n                        bucketed_away_from_home_time  \\\n0  {\"21-45\":4,\"481-540\":4,\"46-60\":1,\"721-840\":1,\"...   \n1  {\"21-45\":1,\"481-540\":1,\"46-60\":1,\"721-840\":2,\"...   \n2  {\"21-45\":6,\"481-540\":4,\"46-60\":2,\"721-840\":1,\"...   \n\n  median_percentage_time_home  \\\n0                         100   \n1                          97   \n2                         100   \n\n                       bucketed_percentage_time_home  \\\n0  {\"26-50\":2,\"51-75\":9,\"0-25\":12,\">100\":2,\"76-10...   \n1  {\"26-50\":1,\"51-75\":6,\"0-25\":7,\">100\":2,\"76-100...   \n2  {\"26-50\":1,\"51-75\":6,\"0-25\":12,\">100\":3,\"76-10...   \n\n   fraction_of_devices_home  fraction_of_devices_work fraction_time_away_all  \\\n0                  0.510204                  0.061224               0.111926   \n1                  0.341463                  0.048780               0.158638   \n2                  0.500000                  0.031250               0.124067   \n\n   fraction_time_away_leave Week  \n0                  0.228516   14  \n1                  0.240895   14  \n2                  0.248134   14  \n\n[3 rows x 25 columns]",
      "text/html": "<div>\n<style scoped>\n    .dataframe tbody tr th:only-of-type {\n        vertical-align: middle;\n    }\n\n    .dataframe tbody tr th {\n        vertical-align: top;\n    }\n\n    .dataframe thead th {\n        text-align: right;\n    }\n</style>\n<table border=\"1\" class=\"dataframe\">\n  <thead>\n    <tr style=\"text-align: right;\">\n      <th></th>\n      <th>origin_census_block_group</th>\n      <th>date_range_start</th>\n      <th>date_range_end</th>\n      <th>device_count</th>\n      <th>distance_traveled_from_home</th>\n      <th>bucketed_distance_traveled</th>\n      <th>median_dwell_at_bucketed_distance_traveled</th>\n      <th>completely_home_device_count</th>\n      <th>median_home_dwell_time</th>\n      <th>bucketed_home_dwell_time</th>\n      <th>...</th>\n      <th>median_non_home_dwell_time</th>\n      <th>candidate_device_count</th>\n      <th>bucketed_away_from_home_time</th>\n      <th>median_percentage_time_home</th>\n      <th>bucketed_percentage_time_home</th>\n      <th>fraction_of_devices_home</th>\n      <th>fraction_of_devices_work</th>\n      <th>fraction_time_away_all</th>\n      <th>fraction_time_away_leave</th>\n      <th>Week</th>\n    </tr>\n  </thead>\n  <tbody>\n    <tr>\n      <th>0</th>\n      <td>170311201001</td>\n      <td>2020-04-03T00:00:00-05:00</td>\n      <td>2020-04-04T00:00:00-05:00</td>\n      <td>98</td>\n      <td>3343.0</td>\n      <td>{\"16001-50000\":5,\"0\":52,\"&gt;50000\":9,\"2001-8000\"...</td>\n      <td>{\"16001-50000\":211,\"&gt;50000\":680,\"&lt;1000\":20,\"20...</td>\n      <td>50</td>\n      <td>1282</td>\n      <td>{\"721-1080\":15,\"361-720\":7,\"61-360\":2,\"&lt;60\":10...</td>\n      <td>...</td>\n      <td>0</td>\n      <td>158</td>\n      <td>{\"21-45\":4,\"481-540\":4,\"46-60\":1,\"721-840\":1,\"...</td>\n      <td>100</td>\n      <td>{\"26-50\":2,\"51-75\":9,\"0-25\":12,\"&gt;100\":2,\"76-10...</td>\n      <td>0.510204</td>\n      <td>0.061224</td>\n      <td>0.111926</td>\n      <td>0.228516</td>\n      <td>14</td>\n    </tr>\n    <tr>\n      <th>1</th>\n      <td>170311604003</td>\n      <td>2020-04-03T00:00:00-05:00</td>\n      <td>2020-04-04T00:00:00-05:00</td>\n      <td>41</td>\n      <td>4500.0</td>\n      <td>{\"16001-50000\":4,\"0\":14,\"&gt;50000\":2,\"2001-8000\"...</td>\n      <td>{\"16001-50000\":31,\"&gt;50000\":358,\"&lt;1000\":538,\"20...</td>\n      <td>14</td>\n      <td>841</td>\n      <td>{\"721-1080\":9,\"361-720\":1,\"61-360\":3,\"&lt;60\":8,\"...</td>\n      <td>...</td>\n      <td>11</td>\n      <td>85</td>\n      <td>{\"21-45\":1,\"481-540\":1,\"46-60\":1,\"721-840\":2,\"...</td>\n      <td>97</td>\n      <td>{\"26-50\":1,\"51-75\":6,\"0-25\":7,\"&gt;100\":2,\"76-100...</td>\n      <td>0.341463</td>\n      <td>0.048780</td>\n      <td>0.158638</td>\n      <td>0.240895</td>\n      <td>14</td>\n    </tr>\n    <tr>\n      <th>2</th>\n      <td>170312002002</td>\n      <td>2020-04-03T00:00:00-05:00</td>\n      <td>2020-04-04T00:00:00-05:00</td>\n      <td>64</td>\n      <td>3760.0</td>\n      <td>{\"16001-50000\":1,\"0\":34,\"&gt;50000\":1,\"2001-8000\"...</td>\n      <td>{\"16001-50000\":65,\"&gt;50000\":1072,\"&lt;1000\":134,\"2...</td>\n      <td>32</td>\n      <td>999</td>\n      <td>{\"721-1080\":8,\"361-720\":6,\"61-360\":8,\"&lt;60\":12,...</td>\n      <td>...</td>\n      <td>0</td>\n      <td>109</td>\n      <td>{\"21-45\":6,\"481-540\":4,\"46-60\":2,\"721-840\":1,\"...</td>\n      <td>100</td>\n      <td>{\"26-50\":1,\"51-75\":6,\"0-25\":12,\"&gt;100\":3,\"76-10...</td>\n      <td>0.500000</td>\n      <td>0.031250</td>\n      <td>0.124067</td>\n      <td>0.248134</td>\n      <td>14</td>\n    </tr>\n  </tbody>\n</table>\n<p>3 rows × 25 columns</p>\n</div>"
     },
     "metadata": {},
     "execution_count": 7
    }
   ],
   "source": [
    "df.head(3)"
   ]
  },
  {
   "cell_type": "code",
   "execution_count": 21,
   "metadata": {},
   "outputs": [
    {
     "output_type": "execute_result",
     "data": {
      "text/plain": "origin_census_block_group                       int64\ndate_range_start                               object\ndate_range_end                                 object\ndevice_count                                    int64\ndistance_traveled_from_home                   float64\nbucketed_distance_traveled                     object\nmedian_dwell_at_bucketed_distance_traveled     object\ncompletely_home_device_count                    int64\nmedian_home_dwell_time                          int64\nbucketed_home_dwell_time                       object\nat_home_by_each_hour                           object\npart_time_work_behavior_devices                 int64\nfull_time_work_behavior_devices                 int64\ndestination_cbgs                               object\ndelivery_behavior_devices                       int64\nmedian_non_home_dwell_time                      int64\ncandidate_device_count                          int64\nbucketed_away_from_home_time                   object\nmedian_percentage_time_home                     int64\nbucketed_percentage_time_home                  object\ndtype: object"
     },
     "metadata": {},
     "execution_count": 21
    }
   ],
   "source": [
    "df.dtypes"
   ]
  },
  {
   "cell_type": "code",
   "execution_count": 69,
   "metadata": {},
   "outputs": [],
   "source": [
    "df, df_targets = amanda.process_targets(df)"
   ]
  },
  {
   "cell_type": "code",
   "execution_count": 4,
   "metadata": {},
   "outputs": [
    {
     "output_type": "execute_result",
     "data": {
      "text/plain": "             geo_12          Week  device_count  fraction_of_devices_home  \\\ncount  5.806800e+04  58068.000000  58068.000000              58068.000000   \nmean   1.707888e+11     15.500121     76.383041                  0.420320   \nstd    5.958080e+08      1.707810     64.779606                  0.090854   \nmin    1.700100e+11     13.000000      5.000000                  0.007454   \n25%    1.703180e+11     14.000000     42.714286                  0.358292   \n50%    1.704384e+11     16.000000     60.285714                  0.424365   \n75%    1.711796e+11     17.000000     87.857143                  0.484775   \nmax    1.720303e+11     18.000000   1384.285714                  0.755880   \n\n       fraction_of_devices_work  fraction_time_away_all  \\\ncount              58068.000000            58068.000000   \nmean                   0.080829                0.146488   \nstd                    0.029243                0.047715   \nmin                    0.017948                0.006444   \n25%                    0.060764                0.119539   \n50%                    0.076296                0.141214   \n75%                    0.095382                0.165675   \nmax                    0.482143                0.792599   \n\n       fraction_time_away_leave  \ncount              58068.000000  \nmean                   0.252911  \nstd                    0.058214  \nmin                    0.014207  \n25%                    0.219172  \n50%                    0.245395  \n75%                    0.276345  \nmax                    0.806382  ",
      "text/html": "<div>\n<style scoped>\n    .dataframe tbody tr th:only-of-type {\n        vertical-align: middle;\n    }\n\n    .dataframe tbody tr th {\n        vertical-align: top;\n    }\n\n    .dataframe thead th {\n        text-align: right;\n    }\n</style>\n<table border=\"1\" class=\"dataframe\">\n  <thead>\n    <tr style=\"text-align: right;\">\n      <th></th>\n      <th>geo_12</th>\n      <th>Week</th>\n      <th>device_count</th>\n      <th>fraction_of_devices_home</th>\n      <th>fraction_of_devices_work</th>\n      <th>fraction_time_away_all</th>\n      <th>fraction_time_away_leave</th>\n    </tr>\n  </thead>\n  <tbody>\n    <tr>\n      <th>count</th>\n      <td>5.806800e+04</td>\n      <td>58068.000000</td>\n      <td>58068.000000</td>\n      <td>58068.000000</td>\n      <td>58068.000000</td>\n      <td>58068.000000</td>\n      <td>58068.000000</td>\n    </tr>\n    <tr>\n      <th>mean</th>\n      <td>1.707888e+11</td>\n      <td>15.500121</td>\n      <td>76.383041</td>\n      <td>0.420320</td>\n      <td>0.080829</td>\n      <td>0.146488</td>\n      <td>0.252911</td>\n    </tr>\n    <tr>\n      <th>std</th>\n      <td>5.958080e+08</td>\n      <td>1.707810</td>\n      <td>64.779606</td>\n      <td>0.090854</td>\n      <td>0.029243</td>\n      <td>0.047715</td>\n      <td>0.058214</td>\n    </tr>\n    <tr>\n      <th>min</th>\n      <td>1.700100e+11</td>\n      <td>13.000000</td>\n      <td>5.000000</td>\n      <td>0.007454</td>\n      <td>0.017948</td>\n      <td>0.006444</td>\n      <td>0.014207</td>\n    </tr>\n    <tr>\n      <th>25%</th>\n      <td>1.703180e+11</td>\n      <td>14.000000</td>\n      <td>42.714286</td>\n      <td>0.358292</td>\n      <td>0.060764</td>\n      <td>0.119539</td>\n      <td>0.219172</td>\n    </tr>\n    <tr>\n      <th>50%</th>\n      <td>1.704384e+11</td>\n      <td>16.000000</td>\n      <td>60.285714</td>\n      <td>0.424365</td>\n      <td>0.076296</td>\n      <td>0.141214</td>\n      <td>0.245395</td>\n    </tr>\n    <tr>\n      <th>75%</th>\n      <td>1.711796e+11</td>\n      <td>17.000000</td>\n      <td>87.857143</td>\n      <td>0.484775</td>\n      <td>0.095382</td>\n      <td>0.165675</td>\n      <td>0.276345</td>\n    </tr>\n    <tr>\n      <th>max</th>\n      <td>1.720303e+11</td>\n      <td>18.000000</td>\n      <td>1384.285714</td>\n      <td>0.755880</td>\n      <td>0.482143</td>\n      <td>0.792599</td>\n      <td>0.806382</td>\n    </tr>\n  </tbody>\n</table>\n</div>"
     },
     "metadata": {},
     "execution_count": 4
    }
   ],
   "source": [
    "df_targets.describe()"
   ]
  },
  {
   "cell_type": "code",
   "execution_count": null,
   "metadata": {},
   "outputs": [],
   "source": [
    "plt.hist(df_targets['fraction_of_devices_home'], bins=20)\n",
    "plt.xlabel('fraction of devices completely at home')\n",
    "plt.title('Fraction of Devices Completely at Home', fontsize=16)"
   ]
  },
  {
   "cell_type": "code",
   "execution_count": null,
   "metadata": {},
   "outputs": [],
   "source": [
    "plt.hist(df_targets['fraction_of_devices_work'], bins=20)\n",
    "plt.xlabel('fraction of devices with work behavior')\n",
    "plt.title('Fraction of Devices Exhibiting Full or Part Time Work Behavior', fontsize=16)"
   ]
  },
  {
   "cell_type": "code",
   "execution_count": null,
   "metadata": {},
   "outputs": [],
   "source": [
    "plt.hist(df_targets['fraction_time_away_all'], bins=20)\n",
    "plt.xlabel('Average Fraction of Time Away from Home')\n",
    "plt.title('Average Fraction of Time Away from Home per total devices', fontsize=16)"
   ]
  },
  {
   "cell_type": "code",
   "execution_count": null,
   "metadata": {},
   "outputs": [],
   "source": [
    "plt.hist(df_targets['fraction_time_away_leave'], bins=20)\n",
    "plt.xlabel('Average Fraction of Time Away from Home')\n",
    "plt.title('Average Fraction of Time Away from Home per devices that leave', fontsize=16)"
   ]
  },
  {
   "cell_type": "code",
   "execution_count": null,
   "metadata": {},
   "outputs": [],
   "source": [
    "df_targets.corr()"
   ]
  },
  {
   "cell_type": "code",
   "execution_count": 70,
   "metadata": {},
   "outputs": [],
   "source": [
    "df_targets.drop(['device_count'], axis=1, inplace=True)"
   ]
  },
  {
   "cell_type": "code",
   "execution_count": 62,
   "metadata": {},
   "outputs": [
    {
     "output_type": "error",
     "ename": "IndexError",
     "evalue": "list index out of range",
     "traceback": [
      "\u001b[0;31m---------------------------------------------------------------------------\u001b[0m",
      "\u001b[0;31mIndexError\u001b[0m                                Traceback (most recent call last)",
      "\u001b[0;32m<ipython-input-62-ea1cf250e931>\u001b[0m in \u001b[0;36m<module>\u001b[0;34m\u001b[0m\n\u001b[0;32m----> 1\u001b[0;31m \u001b[0mdf_past\u001b[0m \u001b[0;34m=\u001b[0m \u001b[0mpd\u001b[0m\u001b[0;34m.\u001b[0m\u001b[0mread_csv\u001b[0m\u001b[0;34m(\u001b[0m\u001b[0;34m'./social_distancing_data_2019.csv.gz'\u001b[0m\u001b[0;34m,\u001b[0m \u001b[0mcompression\u001b[0m\u001b[0;34m=\u001b[0m\u001b[0;34m'gzip'\u001b[0m\u001b[0;34m,\u001b[0m \u001b[0mindex_col\u001b[0m\u001b[0;34m=\u001b[0m\u001b[0;32mFalse\u001b[0m\u001b[0;34m,\u001b[0m \u001b[0mlow_memory\u001b[0m\u001b[0;34m=\u001b[0m\u001b[0;32mFalse\u001b[0m\u001b[0;34m)\u001b[0m\u001b[0;34m\u001b[0m\u001b[0;34m\u001b[0m\u001b[0m\n\u001b[0m",
      "\u001b[0;32m~/My_Documents/ML_for_PP/mlenv/lib/python3.7/site-packages/pandas/io/parsers.py\u001b[0m in \u001b[0;36mparser_f\u001b[0;34m(filepath_or_buffer, sep, delimiter, header, names, index_col, usecols, squeeze, prefix, mangle_dupe_cols, dtype, engine, converters, true_values, false_values, skipinitialspace, skiprows, skipfooter, nrows, na_values, keep_default_na, na_filter, verbose, skip_blank_lines, parse_dates, infer_datetime_format, keep_date_col, date_parser, dayfirst, cache_dates, iterator, chunksize, compression, thousands, decimal, lineterminator, quotechar, quoting, doublequote, escapechar, comment, encoding, dialect, error_bad_lines, warn_bad_lines, delim_whitespace, low_memory, memory_map, float_precision)\u001b[0m\n\u001b[1;32m    674\u001b[0m         )\n\u001b[1;32m    675\u001b[0m \u001b[0;34m\u001b[0m\u001b[0m\n\u001b[0;32m--> 676\u001b[0;31m         \u001b[0;32mreturn\u001b[0m \u001b[0m_read\u001b[0m\u001b[0;34m(\u001b[0m\u001b[0mfilepath_or_buffer\u001b[0m\u001b[0;34m,\u001b[0m \u001b[0mkwds\u001b[0m\u001b[0;34m)\u001b[0m\u001b[0;34m\u001b[0m\u001b[0;34m\u001b[0m\u001b[0m\n\u001b[0m\u001b[1;32m    677\u001b[0m \u001b[0;34m\u001b[0m\u001b[0m\n\u001b[1;32m    678\u001b[0m     \u001b[0mparser_f\u001b[0m\u001b[0;34m.\u001b[0m\u001b[0m__name__\u001b[0m \u001b[0;34m=\u001b[0m \u001b[0mname\u001b[0m\u001b[0;34m\u001b[0m\u001b[0;34m\u001b[0m\u001b[0m\n",
      "\u001b[0;32m~/My_Documents/ML_for_PP/mlenv/lib/python3.7/site-packages/pandas/io/parsers.py\u001b[0m in \u001b[0;36m_read\u001b[0;34m(filepath_or_buffer, kwds)\u001b[0m\n\u001b[1;32m    452\u001b[0m \u001b[0;34m\u001b[0m\u001b[0m\n\u001b[1;32m    453\u001b[0m     \u001b[0;32mtry\u001b[0m\u001b[0;34m:\u001b[0m\u001b[0;34m\u001b[0m\u001b[0;34m\u001b[0m\u001b[0m\n\u001b[0;32m--> 454\u001b[0;31m         \u001b[0mdata\u001b[0m \u001b[0;34m=\u001b[0m \u001b[0mparser\u001b[0m\u001b[0;34m.\u001b[0m\u001b[0mread\u001b[0m\u001b[0;34m(\u001b[0m\u001b[0mnrows\u001b[0m\u001b[0;34m)\u001b[0m\u001b[0;34m\u001b[0m\u001b[0;34m\u001b[0m\u001b[0m\n\u001b[0m\u001b[1;32m    455\u001b[0m     \u001b[0;32mfinally\u001b[0m\u001b[0;34m:\u001b[0m\u001b[0;34m\u001b[0m\u001b[0;34m\u001b[0m\u001b[0m\n\u001b[1;32m    456\u001b[0m         \u001b[0mparser\u001b[0m\u001b[0;34m.\u001b[0m\u001b[0mclose\u001b[0m\u001b[0;34m(\u001b[0m\u001b[0;34m)\u001b[0m\u001b[0;34m\u001b[0m\u001b[0;34m\u001b[0m\u001b[0m\n",
      "\u001b[0;32m~/My_Documents/ML_for_PP/mlenv/lib/python3.7/site-packages/pandas/io/parsers.py\u001b[0m in \u001b[0;36mread\u001b[0;34m(self, nrows)\u001b[0m\n\u001b[1;32m   1131\u001b[0m     \u001b[0;32mdef\u001b[0m \u001b[0mread\u001b[0m\u001b[0;34m(\u001b[0m\u001b[0mself\u001b[0m\u001b[0;34m,\u001b[0m \u001b[0mnrows\u001b[0m\u001b[0;34m=\u001b[0m\u001b[0;32mNone\u001b[0m\u001b[0;34m)\u001b[0m\u001b[0;34m:\u001b[0m\u001b[0;34m\u001b[0m\u001b[0;34m\u001b[0m\u001b[0m\n\u001b[1;32m   1132\u001b[0m         \u001b[0mnrows\u001b[0m \u001b[0;34m=\u001b[0m \u001b[0m_validate_integer\u001b[0m\u001b[0;34m(\u001b[0m\u001b[0;34m\"nrows\"\u001b[0m\u001b[0;34m,\u001b[0m \u001b[0mnrows\u001b[0m\u001b[0;34m)\u001b[0m\u001b[0;34m\u001b[0m\u001b[0;34m\u001b[0m\u001b[0m\n\u001b[0;32m-> 1133\u001b[0;31m         \u001b[0mret\u001b[0m \u001b[0;34m=\u001b[0m \u001b[0mself\u001b[0m\u001b[0;34m.\u001b[0m\u001b[0m_engine\u001b[0m\u001b[0;34m.\u001b[0m\u001b[0mread\u001b[0m\u001b[0;34m(\u001b[0m\u001b[0mnrows\u001b[0m\u001b[0;34m)\u001b[0m\u001b[0;34m\u001b[0m\u001b[0;34m\u001b[0m\u001b[0m\n\u001b[0m\u001b[1;32m   1134\u001b[0m \u001b[0;34m\u001b[0m\u001b[0m\n\u001b[1;32m   1135\u001b[0m         \u001b[0;31m# May alter columns / col_dict\u001b[0m\u001b[0;34m\u001b[0m\u001b[0;34m\u001b[0m\u001b[0;34m\u001b[0m\u001b[0m\n",
      "\u001b[0;32m~/My_Documents/ML_for_PP/mlenv/lib/python3.7/site-packages/pandas/io/parsers.py\u001b[0m in \u001b[0;36mread\u001b[0;34m(self, nrows)\u001b[0m\n\u001b[1;32m   2035\u001b[0m     \u001b[0;32mdef\u001b[0m \u001b[0mread\u001b[0m\u001b[0;34m(\u001b[0m\u001b[0mself\u001b[0m\u001b[0;34m,\u001b[0m \u001b[0mnrows\u001b[0m\u001b[0;34m=\u001b[0m\u001b[0;32mNone\u001b[0m\u001b[0;34m)\u001b[0m\u001b[0;34m:\u001b[0m\u001b[0;34m\u001b[0m\u001b[0;34m\u001b[0m\u001b[0m\n\u001b[1;32m   2036\u001b[0m         \u001b[0;32mtry\u001b[0m\u001b[0;34m:\u001b[0m\u001b[0;34m\u001b[0m\u001b[0;34m\u001b[0m\u001b[0m\n\u001b[0;32m-> 2037\u001b[0;31m             \u001b[0mdata\u001b[0m \u001b[0;34m=\u001b[0m \u001b[0mself\u001b[0m\u001b[0;34m.\u001b[0m\u001b[0m_reader\u001b[0m\u001b[0;34m.\u001b[0m\u001b[0mread\u001b[0m\u001b[0;34m(\u001b[0m\u001b[0mnrows\u001b[0m\u001b[0;34m)\u001b[0m\u001b[0;34m\u001b[0m\u001b[0;34m\u001b[0m\u001b[0m\n\u001b[0m\u001b[1;32m   2038\u001b[0m         \u001b[0;32mexcept\u001b[0m \u001b[0mStopIteration\u001b[0m\u001b[0;34m:\u001b[0m\u001b[0;34m\u001b[0m\u001b[0;34m\u001b[0m\u001b[0m\n\u001b[1;32m   2039\u001b[0m             \u001b[0;32mif\u001b[0m \u001b[0mself\u001b[0m\u001b[0;34m.\u001b[0m\u001b[0m_first_chunk\u001b[0m\u001b[0;34m:\u001b[0m\u001b[0;34m\u001b[0m\u001b[0;34m\u001b[0m\u001b[0m\n",
      "\u001b[0;32mpandas/_libs/parsers.pyx\u001b[0m in \u001b[0;36mpandas._libs.parsers.TextReader.read\u001b[0;34m()\u001b[0m\n",
      "\u001b[0;32mpandas/_libs/parsers.pyx\u001b[0m in \u001b[0;36mpandas._libs.parsers.TextReader._read_rows\u001b[0;34m()\u001b[0m\n",
      "\u001b[0;32mpandas/_libs/parsers.pyx\u001b[0m in \u001b[0;36mpandas._libs.parsers.TextReader._convert_column_data\u001b[0;34m()\u001b[0m\n",
      "\u001b[0;32mpandas/_libs/parsers.pyx\u001b[0m in \u001b[0;36mpandas._libs.parsers.TextReader._get_column_name\u001b[0;34m()\u001b[0m\n",
      "\u001b[0;31mIndexError\u001b[0m: list index out of range"
     ]
    }
   ],
   "source": [
    "#df_past = pd.read_csv('./social_distancing_data_2019.csv.gz', compression='gzip', index_col=False, low_memory=False)"
   ]
  },
  {
   "cell_type": "code",
   "execution_count": 63,
   "metadata": {},
   "outputs": [],
   "source": [
    "dfcolumns = pd.read_csv('./social_distancing_data_2019.csv',\n",
    "                        nrows = 1)\n",
    "df_past = pd.read_csv('./social_distancing_data_2019.csv',\n",
    "                  header = None,\n",
    "                  skiprows = 1,\n",
    "                  usecols = list(range(len(dfcolumns.columns))),\n",
    "                  names = dfcolumns.columns)"
   ]
  },
  {
   "cell_type": "code",
   "execution_count": 84,
   "metadata": {},
   "outputs": [],
   "source": [
    "df_targets.to_csv('COVID_mobility_targets.csv', header=True, index=False)"
   ]
  },
  {
   "cell_type": "code",
   "execution_count": 64,
   "metadata": {},
   "outputs": [
    {
     "output_type": "execute_result",
     "data": {
      "text/plain": "   origin_census_block_group           date_range_start  \\\n0               170311201001  2019-03-03T00:00:00-06:00   \n1               170311604003  2019-03-03T00:00:00-06:00   \n2               170312002002  2019-03-03T00:00:00-06:00   \n\n              date_range_end  device_count  distance_traveled_from_home  \\\n0  2019-03-04T00:00:00-06:00           100                          586   \n1  2019-03-04T00:00:00-06:00            39                        10847   \n2  2019-03-04T00:00:00-06:00            96                         1844   \n\n                          bucketed_distance_traveled  \\\n0  {\"16001-50000\":8,\"0\":29,\">50000\":1,\"2001-8000\"...   \n1  {\"16001-50000\":1,\"0\":13,\">50000\":2,\"2001-8000\"...   \n2  {\"16001-50000\":3,\"0\":46,\">50000\":3,\"2001-8000\"...   \n\n          median_dwell_at_bucketed_distance_traveled  \\\n0  {\"16001-50000\":61,\">50000\":303,\"<1000\":38,\"200...   \n1  {\"16001-50000\":92,\">50000\":308,\"<1000\":47,\"200...   \n2  {\"16001-50000\":65,\">50000\":256,\"<1000\":33,\"200...   \n\n   completely_home_device_count  median_home_dwell_time  \\\n0                            31                    1035   \n1                            18                     612   \n2                            43                     811   \n\n                            bucketed_home_dwell_time  \\\n0  {\"721-1080\":20,\"361-720\":12,\"61-360\":18,\"<60\":...   \n1  {\"721-1080\":3,\"361-720\":11,\"61-360\":5,\"<60\":5,...   \n2  {\"721-1080\":17,\"361-720\":11,\"61-360\":14,\"<60\":...   \n\n                                at_home_by_each_hour  \\\n0  [75,78,73,71,71,78,69,69,65,62,53,55,54,59,56,...   \n1  [22,23,25,24,22,22,23,25,25,22,20,19,18,16,17,...   \n2  [56,59,60,62,59,60,56,56,58,55,55,52,51,44,44,...   \n\n   part_time_work_behavior_devices  full_time_work_behavior_devices  \\\n0                               10                                2   \n1                                2                                4   \n2                                4                                1   \n\n                                    destination_cbgs  \\\n0  {\"170318195001\":1,\"170314403004\":1,\"1704384651...   \n1  {\"170311603003\":1,\"170311604001\":2,\"1703180160...   \n2  {\"170311906022\":1,\"170312301001\":1,\"1703183200...   \n\n   delivery_behavior_devices  median_non_home_dwell_time  \\\n0                          4                          86   \n1                          3                          10   \n2                          5                          13   \n\n   candidate_device_count                       bucketed_away_from_home_time  \\\n0                     153  {\"21-45\":3,\"541-600\":1,\"46-60\":6,\"721-840\":2,\"...   \n1                     129  {\"21-45\":2,\"46-60\":1,\"721-840\":1,\"1201-1320\":1...   \n2                     291  {\"21-45\":3,\"481-540\":2,\"541-600\":1,\"46-60\":5,\"...   \n\n   median_percentage_time_home                bucketed_percentage_time_home  \n0                           92  {\"0-25\":7,\"76-100\":74,\"51-75\":10,\"26-50\":6}  \n1                           98   {\"0-25\":2,\"76-100\":29,\"51-75\":1,\"26-50\":4}  \n2                           98  {\"0-25\":10,\"76-100\":66,\"51-75\":9,\"26-50\":7}  ",
      "text/html": "<div>\n<style scoped>\n    .dataframe tbody tr th:only-of-type {\n        vertical-align: middle;\n    }\n\n    .dataframe tbody tr th {\n        vertical-align: top;\n    }\n\n    .dataframe thead th {\n        text-align: right;\n    }\n</style>\n<table border=\"1\" class=\"dataframe\">\n  <thead>\n    <tr style=\"text-align: right;\">\n      <th></th>\n      <th>origin_census_block_group</th>\n      <th>date_range_start</th>\n      <th>date_range_end</th>\n      <th>device_count</th>\n      <th>distance_traveled_from_home</th>\n      <th>bucketed_distance_traveled</th>\n      <th>median_dwell_at_bucketed_distance_traveled</th>\n      <th>completely_home_device_count</th>\n      <th>median_home_dwell_time</th>\n      <th>bucketed_home_dwell_time</th>\n      <th>at_home_by_each_hour</th>\n      <th>part_time_work_behavior_devices</th>\n      <th>full_time_work_behavior_devices</th>\n      <th>destination_cbgs</th>\n      <th>delivery_behavior_devices</th>\n      <th>median_non_home_dwell_time</th>\n      <th>candidate_device_count</th>\n      <th>bucketed_away_from_home_time</th>\n      <th>median_percentage_time_home</th>\n      <th>bucketed_percentage_time_home</th>\n    </tr>\n  </thead>\n  <tbody>\n    <tr>\n      <th>0</th>\n      <td>170311201001</td>\n      <td>2019-03-03T00:00:00-06:00</td>\n      <td>2019-03-04T00:00:00-06:00</td>\n      <td>100</td>\n      <td>586</td>\n      <td>{\"16001-50000\":8,\"0\":29,\"&gt;50000\":1,\"2001-8000\"...</td>\n      <td>{\"16001-50000\":61,\"&gt;50000\":303,\"&lt;1000\":38,\"200...</td>\n      <td>31</td>\n      <td>1035</td>\n      <td>{\"721-1080\":20,\"361-720\":12,\"61-360\":18,\"&lt;60\":...</td>\n      <td>[75,78,73,71,71,78,69,69,65,62,53,55,54,59,56,...</td>\n      <td>10</td>\n      <td>2</td>\n      <td>{\"170318195001\":1,\"170314403004\":1,\"1704384651...</td>\n      <td>4</td>\n      <td>86</td>\n      <td>153</td>\n      <td>{\"21-45\":3,\"541-600\":1,\"46-60\":6,\"721-840\":2,\"...</td>\n      <td>92</td>\n      <td>{\"0-25\":7,\"76-100\":74,\"51-75\":10,\"26-50\":6}</td>\n    </tr>\n    <tr>\n      <th>1</th>\n      <td>170311604003</td>\n      <td>2019-03-03T00:00:00-06:00</td>\n      <td>2019-03-04T00:00:00-06:00</td>\n      <td>39</td>\n      <td>10847</td>\n      <td>{\"16001-50000\":1,\"0\":13,\"&gt;50000\":2,\"2001-8000\"...</td>\n      <td>{\"16001-50000\":92,\"&gt;50000\":308,\"&lt;1000\":47,\"200...</td>\n      <td>18</td>\n      <td>612</td>\n      <td>{\"721-1080\":3,\"361-720\":11,\"61-360\":5,\"&lt;60\":5,...</td>\n      <td>[22,23,25,24,22,22,23,25,25,22,20,19,18,16,17,...</td>\n      <td>2</td>\n      <td>4</td>\n      <td>{\"170311603003\":1,\"170311604001\":2,\"1703180160...</td>\n      <td>3</td>\n      <td>10</td>\n      <td>129</td>\n      <td>{\"21-45\":2,\"46-60\":1,\"721-840\":1,\"1201-1320\":1...</td>\n      <td>98</td>\n      <td>{\"0-25\":2,\"76-100\":29,\"51-75\":1,\"26-50\":4}</td>\n    </tr>\n    <tr>\n      <th>2</th>\n      <td>170312002002</td>\n      <td>2019-03-03T00:00:00-06:00</td>\n      <td>2019-03-04T00:00:00-06:00</td>\n      <td>96</td>\n      <td>1844</td>\n      <td>{\"16001-50000\":3,\"0\":46,\"&gt;50000\":3,\"2001-8000\"...</td>\n      <td>{\"16001-50000\":65,\"&gt;50000\":256,\"&lt;1000\":33,\"200...</td>\n      <td>43</td>\n      <td>811</td>\n      <td>{\"721-1080\":17,\"361-720\":11,\"61-360\":14,\"&lt;60\":...</td>\n      <td>[56,59,60,62,59,60,56,56,58,55,55,52,51,44,44,...</td>\n      <td>4</td>\n      <td>1</td>\n      <td>{\"170311906022\":1,\"170312301001\":1,\"1703183200...</td>\n      <td>5</td>\n      <td>13</td>\n      <td>291</td>\n      <td>{\"21-45\":3,\"481-540\":2,\"541-600\":1,\"46-60\":5,\"...</td>\n      <td>98</td>\n      <td>{\"0-25\":10,\"76-100\":66,\"51-75\":9,\"26-50\":7}</td>\n    </tr>\n  </tbody>\n</table>\n</div>"
     },
     "metadata": {},
     "execution_count": 64
    }
   ],
   "source": [
    "df_past.head(3)"
   ]
  },
  {
   "cell_type": "code",
   "execution_count": 66,
   "metadata": {},
   "outputs": [],
   "source": [
    "df_past, df_targets_past = amanda.process_targets(df_past, start_date='2019-03-23', end_date='2019-05-03')"
   ]
  },
  {
   "cell_type": "code",
   "execution_count": null,
   "metadata": {},
   "outputs": [],
   "source": [
    "df_targets_past.to_csv('COVID_mobility_targets_past.csv', header=True, index=False)"
   ]
  },
  {
   "cell_type": "code",
   "execution_count": 74,
   "metadata": {},
   "outputs": [],
   "source": [
    "df_merged = df_targets.merge(df_targets_past, on = [\"geo_12\", \"Week\"])"
   ]
  },
  {
   "cell_type": "code",
   "execution_count": 78,
   "metadata": {},
   "outputs": [],
   "source": [
    "df_merged['fraction_of_devices_home_adj'] = df_merged['fraction_of_devices_home_y'] - df_merged['fraction_of_devices_home_x']\n",
    "df_merged['fraction_of_devices_work_adj'] = df_merged['fraction_of_devices_work_y'] - df_merged['fraction_of_devices_work_x']\n",
    "df_merged['fraction_time_away_all_adj'] = df_merged['fraction_time_away_all_y'] - df_merged['fraction_time_away_all_x']\n",
    "df_merged['fraction_time_away_leave_adj'] = df_merged['fraction_time_away_leave_y'] - df_merged['fraction_time_away_leave_x']"
   ]
  },
  {
   "cell_type": "code",
   "execution_count": 81,
   "metadata": {},
   "outputs": [],
   "source": [
    "adj_targets = df_merged[['geo_12', 'Week', 'fraction_of_devices_home_adj', 'fraction_of_devices_work_adj', 'fraction_time_away_all_adj', 'fraction_time_away_leave_adj']]"
   ]
  },
  {
   "cell_type": "code",
   "execution_count": 82,
   "metadata": {},
   "outputs": [
    {
     "output_type": "execute_result",
     "data": {
      "text/plain": "         geo_12  Week  fraction_of_devices_home_adj  \\\n0  170010001001    13                     -0.131316   \n1  170010001001    14                     -0.046197   \n2  170010001001    15                     -0.158047   \n\n   fraction_of_devices_work_adj  fraction_time_away_all_adj  \\\n0                      0.072534                    0.018886   \n1                      0.089620                    0.030842   \n2                      0.077426                    0.060411   \n\n   fraction_time_away_leave_adj  \n0                     -0.022590  \n1                      0.027368  \n2                      0.040806  ",
      "text/html": "<div>\n<style scoped>\n    .dataframe tbody tr th:only-of-type {\n        vertical-align: middle;\n    }\n\n    .dataframe tbody tr th {\n        vertical-align: top;\n    }\n\n    .dataframe thead th {\n        text-align: right;\n    }\n</style>\n<table border=\"1\" class=\"dataframe\">\n  <thead>\n    <tr style=\"text-align: right;\">\n      <th></th>\n      <th>geo_12</th>\n      <th>Week</th>\n      <th>fraction_of_devices_home_adj</th>\n      <th>fraction_of_devices_work_adj</th>\n      <th>fraction_time_away_all_adj</th>\n      <th>fraction_time_away_leave_adj</th>\n    </tr>\n  </thead>\n  <tbody>\n    <tr>\n      <th>0</th>\n      <td>170010001001</td>\n      <td>13</td>\n      <td>-0.131316</td>\n      <td>0.072534</td>\n      <td>0.018886</td>\n      <td>-0.022590</td>\n    </tr>\n    <tr>\n      <th>1</th>\n      <td>170010001001</td>\n      <td>14</td>\n      <td>-0.046197</td>\n      <td>0.089620</td>\n      <td>0.030842</td>\n      <td>0.027368</td>\n    </tr>\n    <tr>\n      <th>2</th>\n      <td>170010001001</td>\n      <td>15</td>\n      <td>-0.158047</td>\n      <td>0.077426</td>\n      <td>0.060411</td>\n      <td>0.040806</td>\n    </tr>\n  </tbody>\n</table>\n</div>"
     },
     "metadata": {},
     "execution_count": 82
    }
   ],
   "source": [
    "adj_targets.head(3)"
   ]
  },
  {
   "cell_type": "code",
   "execution_count": 83,
   "metadata": {},
   "outputs": [],
   "source": [
    "adj_targets.to_csv('COVID_mobility_targets_adjusted.csv', header=True, index=False)"
   ]
  },
  {
   "cell_type": "code",
   "execution_count": null,
   "metadata": {},
   "outputs": [],
   "source": []
  },
  {
   "cell_type": "code",
   "execution_count": 67,
   "metadata": {},
   "outputs": [],
   "source": [
    "df_targets_past.drop(['device_count'], axis=1, inplace=True)"
   ]
  }
 ],
 "metadata": {
  "kernelspec": {
   "display_name": "Python 3.7.7 64-bit ('mlenv': venv)",
   "language": "python",
   "name": "python37764bitmlenvvenvd18dd52abd9c460a8724f284189a7269"
  },
  "language_info": {
   "codemirror_mode": {
    "name": "ipython",
    "version": 3
   },
   "file_extension": ".py",
   "mimetype": "text/x-python",
   "name": "python",
   "nbconvert_exporter": "python",
   "pygments_lexer": "ipython3",
   "version": "3.7.7-final"
  }
 },
 "nbformat": 4,
 "nbformat_minor": 4
}