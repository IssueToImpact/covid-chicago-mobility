{
 "cells": [
  {
   "cell_type": "markdown",
   "metadata": {},
   "source": [
    "# Run Best Models and Evaluate Results"
   ]
  },
  {
   "cell_type": "markdown",
   "metadata": {},
   "source": [
    "#### This notebook runs the best model as determined by the COVID_models notebook and evaluates the results.  It uses as inputs the features and targets csv files and outputs a csv file with the best model's predictions for each census block group in Chicago."
   ]
  },
  {
   "cell_type": "code",
   "execution_count": 1,
   "metadata": {},
   "outputs": [],
   "source": [
    "import pandas as pd\n",
    "import numpy as np\n",
    "import time\n",
    "import seaborn as sns\n",
    "import matplotlib.pyplot as plt"
   ]
  },
  {
   "cell_type": "markdown",
   "metadata": {},
   "source": [
    "### Load features"
   ]
  },
  {
   "cell_type": "markdown",
   "metadata": {},
   "source": [
    "Change the filepath to a location on your local machine"
   ]
  },
  {
   "cell_type": "code",
   "execution_count": 2,
   "metadata": {},
   "outputs": [],
   "source": [
    "df_features_census = pd.read_csv('../data/census_processed.csv', dtype={'geo_12': 'str'})\n",
    "df_features_census[\"geo_12\"] = df_features_census[\"GEO_ID\"].map(lambda x: str(x)[-12:])\n",
    "df_features_census.drop([\"GEO_ID\"], axis=1, inplace=True)"
   ]
  },
  {
   "cell_type": "markdown",
   "metadata": {},
   "source": [
    "Change the filepath to a location on your local machine"
   ]
  },
  {
   "cell_type": "code",
   "execution_count": 3,
   "metadata": {},
   "outputs": [],
   "source": [
    "df_features_places = pd.read_csv('../data/places_count_by_census_block.csv', dtype={'geo_12': 'str'})"
   ]
  },
  {
   "cell_type": "code",
   "execution_count": 4,
   "metadata": {},
   "outputs": [],
   "source": [
    "df_features = df_features_places.merge(df_features_census, on='geo_12')"
   ]
  },
  {
   "cell_type": "code",
   "execution_count": 5,
   "metadata": {},
   "outputs": [
    {
     "data": {
      "text/html": [
       "<div>\n",
       "<style scoped>\n",
       "    .dataframe tbody tr th:only-of-type {\n",
       "        vertical-align: middle;\n",
       "    }\n",
       "\n",
       "    .dataframe tbody tr th {\n",
       "        vertical-align: top;\n",
       "    }\n",
       "\n",
       "    .dataframe thead th {\n",
       "        text-align: right;\n",
       "    }\n",
       "</style>\n",
       "<table border=\"1\" class=\"dataframe\">\n",
       "  <thead>\n",
       "    <tr style=\"text-align: right;\">\n",
       "      <th></th>\n",
       "      <th>geo_12</th>\n",
       "      <th>automotive_repair_and_maintenance</th>\n",
       "      <th>child_day_care_services</th>\n",
       "      <th>elementary_and_secondary_schools</th>\n",
       "      <th>grocery_stores</th>\n",
       "      <th>health_and_personal_care_stores</th>\n",
       "      <th>museums,_historical_sites,_and_similar_institutions</th>\n",
       "      <th>offices_of_physicians</th>\n",
       "      <th>other_amusement_and_recreation_industries</th>\n",
       "      <th>religious_organizations</th>\n",
       "      <th>...</th>\n",
       "      <th>Percent_HS</th>\n",
       "      <th>Percent_SomeCollege</th>\n",
       "      <th>Percent_Bach</th>\n",
       "      <th>Percent_Grad</th>\n",
       "      <th>Percent_No_vehicals</th>\n",
       "      <th>Percent_Received_SNAP</th>\n",
       "      <th>Percent_Men_Usually_Fulltime_Employed</th>\n",
       "      <th>Percent_Women_Usually_Fulltime_Employed</th>\n",
       "      <th>Percent_No_Internet_Access</th>\n",
       "      <th>Percent_Computing_Device</th>\n",
       "    </tr>\n",
       "  </thead>\n",
       "  <tbody>\n",
       "    <tr>\n",
       "      <th>0</th>\n",
       "      <td>170310101001</td>\n",
       "      <td>0.0</td>\n",
       "      <td>0.0</td>\n",
       "      <td>0.0</td>\n",
       "      <td>0.0</td>\n",
       "      <td>0.0</td>\n",
       "      <td>0.0</td>\n",
       "      <td>0.0</td>\n",
       "      <td>0.0</td>\n",
       "      <td>0.0</td>\n",
       "      <td>...</td>\n",
       "      <td>0.168511</td>\n",
       "      <td>0.255138</td>\n",
       "      <td>0.289598</td>\n",
       "      <td>0.179260</td>\n",
       "      <td>0.344589</td>\n",
       "      <td>0.186960</td>\n",
       "      <td>0.885906</td>\n",
       "      <td>0.382653</td>\n",
       "      <td>0.217742</td>\n",
       "      <td>0.782258</td>\n",
       "    </tr>\n",
       "    <tr>\n",
       "      <th>1</th>\n",
       "      <td>170310101002</td>\n",
       "      <td>0.0</td>\n",
       "      <td>1.0</td>\n",
       "      <td>1.0</td>\n",
       "      <td>0.0</td>\n",
       "      <td>0.0</td>\n",
       "      <td>3.0</td>\n",
       "      <td>1.0</td>\n",
       "      <td>2.0</td>\n",
       "      <td>1.0</td>\n",
       "      <td>...</td>\n",
       "      <td>0.168511</td>\n",
       "      <td>0.255138</td>\n",
       "      <td>0.289598</td>\n",
       "      <td>0.179260</td>\n",
       "      <td>0.344589</td>\n",
       "      <td>0.186960</td>\n",
       "      <td>0.507064</td>\n",
       "      <td>0.452071</td>\n",
       "      <td>0.330517</td>\n",
       "      <td>0.829989</td>\n",
       "    </tr>\n",
       "    <tr>\n",
       "      <th>2</th>\n",
       "      <td>170310101003</td>\n",
       "      <td>0.0</td>\n",
       "      <td>1.0</td>\n",
       "      <td>0.0</td>\n",
       "      <td>0.0</td>\n",
       "      <td>0.0</td>\n",
       "      <td>3.0</td>\n",
       "      <td>0.0</td>\n",
       "      <td>1.0</td>\n",
       "      <td>1.0</td>\n",
       "      <td>...</td>\n",
       "      <td>0.168511</td>\n",
       "      <td>0.255138</td>\n",
       "      <td>0.289598</td>\n",
       "      <td>0.179260</td>\n",
       "      <td>0.344589</td>\n",
       "      <td>0.186960</td>\n",
       "      <td>0.765318</td>\n",
       "      <td>0.663338</td>\n",
       "      <td>0.074041</td>\n",
       "      <td>0.950045</td>\n",
       "    </tr>\n",
       "    <tr>\n",
       "      <th>3</th>\n",
       "      <td>170310102011</td>\n",
       "      <td>0.0</td>\n",
       "      <td>0.0</td>\n",
       "      <td>0.0</td>\n",
       "      <td>0.0</td>\n",
       "      <td>0.0</td>\n",
       "      <td>0.0</td>\n",
       "      <td>0.0</td>\n",
       "      <td>0.0</td>\n",
       "      <td>0.0</td>\n",
       "      <td>...</td>\n",
       "      <td>0.246110</td>\n",
       "      <td>0.246314</td>\n",
       "      <td>0.193898</td>\n",
       "      <td>0.114251</td>\n",
       "      <td>0.140014</td>\n",
       "      <td>0.316592</td>\n",
       "      <td>0.559184</td>\n",
       "      <td>0.437107</td>\n",
       "      <td>0.105030</td>\n",
       "      <td>0.921598</td>\n",
       "    </tr>\n",
       "    <tr>\n",
       "      <th>4</th>\n",
       "      <td>170310102012</td>\n",
       "      <td>1.0</td>\n",
       "      <td>4.0</td>\n",
       "      <td>1.0</td>\n",
       "      <td>1.0</td>\n",
       "      <td>1.0</td>\n",
       "      <td>0.0</td>\n",
       "      <td>0.0</td>\n",
       "      <td>0.0</td>\n",
       "      <td>0.0</td>\n",
       "      <td>...</td>\n",
       "      <td>0.246110</td>\n",
       "      <td>0.246314</td>\n",
       "      <td>0.193898</td>\n",
       "      <td>0.114251</td>\n",
       "      <td>0.140014</td>\n",
       "      <td>0.316592</td>\n",
       "      <td>0.495495</td>\n",
       "      <td>0.320800</td>\n",
       "      <td>0.202247</td>\n",
       "      <td>0.822868</td>\n",
       "    </tr>\n",
       "  </tbody>\n",
       "</table>\n",
       "<p>5 rows × 26 columns</p>\n",
       "</div>"
      ],
      "text/plain": [
       "         geo_12  automotive_repair_and_maintenance  child_day_care_services  \\\n",
       "0  170310101001                                0.0                      0.0   \n",
       "1  170310101002                                0.0                      1.0   \n",
       "2  170310101003                                0.0                      1.0   \n",
       "3  170310102011                                0.0                      0.0   \n",
       "4  170310102012                                1.0                      4.0   \n",
       "\n",
       "   elementary_and_secondary_schools  grocery_stores  \\\n",
       "0                               0.0             0.0   \n",
       "1                               1.0             0.0   \n",
       "2                               0.0             0.0   \n",
       "3                               0.0             0.0   \n",
       "4                               1.0             1.0   \n",
       "\n",
       "   health_and_personal_care_stores  \\\n",
       "0                              0.0   \n",
       "1                              0.0   \n",
       "2                              0.0   \n",
       "3                              0.0   \n",
       "4                              1.0   \n",
       "\n",
       "   museums,_historical_sites,_and_similar_institutions  offices_of_physicians  \\\n",
       "0                                                0.0                      0.0   \n",
       "1                                                3.0                      1.0   \n",
       "2                                                3.0                      0.0   \n",
       "3                                                0.0                      0.0   \n",
       "4                                                0.0                      0.0   \n",
       "\n",
       "   other_amusement_and_recreation_industries  religious_organizations  ...  \\\n",
       "0                                        0.0                      0.0  ...   \n",
       "1                                        2.0                      1.0  ...   \n",
       "2                                        1.0                      1.0  ...   \n",
       "3                                        0.0                      0.0  ...   \n",
       "4                                        0.0                      0.0  ...   \n",
       "\n",
       "   Percent_HS  Percent_SomeCollege  Percent_Bach  Percent_Grad  \\\n",
       "0    0.168511             0.255138      0.289598      0.179260   \n",
       "1    0.168511             0.255138      0.289598      0.179260   \n",
       "2    0.168511             0.255138      0.289598      0.179260   \n",
       "3    0.246110             0.246314      0.193898      0.114251   \n",
       "4    0.246110             0.246314      0.193898      0.114251   \n",
       "\n",
       "   Percent_No_vehicals  Percent_Received_SNAP  \\\n",
       "0             0.344589               0.186960   \n",
       "1             0.344589               0.186960   \n",
       "2             0.344589               0.186960   \n",
       "3             0.140014               0.316592   \n",
       "4             0.140014               0.316592   \n",
       "\n",
       "   Percent_Men_Usually_Fulltime_Employed  \\\n",
       "0                               0.885906   \n",
       "1                               0.507064   \n",
       "2                               0.765318   \n",
       "3                               0.559184   \n",
       "4                               0.495495   \n",
       "\n",
       "   Percent_Women_Usually_Fulltime_Employed  Percent_No_Internet_Access  \\\n",
       "0                                 0.382653                    0.217742   \n",
       "1                                 0.452071                    0.330517   \n",
       "2                                 0.663338                    0.074041   \n",
       "3                                 0.437107                    0.105030   \n",
       "4                                 0.320800                    0.202247   \n",
       "\n",
       "   Percent_Computing_Device  \n",
       "0                  0.782258  \n",
       "1                  0.829989  \n",
       "2                  0.950045  \n",
       "3                  0.921598  \n",
       "4                  0.822868  \n",
       "\n",
       "[5 rows x 26 columns]"
      ]
     },
     "execution_count": 5,
     "metadata": {},
     "output_type": "execute_result"
    }
   ],
   "source": [
    "df_features.head()"
   ]
  },
  {
   "cell_type": "code",
   "execution_count": 6,
   "metadata": {},
   "outputs": [
    {
     "data": {
      "text/plain": [
       "Index(['geo_12', 'automotive_repair_and_maintenance',\n",
       "       'child_day_care_services', 'elementary_and_secondary_schools',\n",
       "       'grocery_stores', 'health_and_personal_care_stores',\n",
       "       'museums,_historical_sites,_and_similar_institutions',\n",
       "       'offices_of_physicians', 'other_amusement_and_recreation_industries',\n",
       "       'religious_organizations', 'restaurants_and_other_eating_places',\n",
       "       'Median_Income', 'Median_Age', 'Percent_NonCitizen',\n",
       "       'Percent_SpeakEngl_Poorly', 'Percent_less_than_HS', 'Percent_HS',\n",
       "       'Percent_SomeCollege', 'Percent_Bach', 'Percent_Grad',\n",
       "       'Percent_No_vehicals', 'Percent_Received_SNAP',\n",
       "       'Percent_Men_Usually_Fulltime_Employed',\n",
       "       'Percent_Women_Usually_Fulltime_Employed', 'Percent_No_Internet_Access',\n",
       "       'Percent_Computing_Device'],\n",
       "      dtype='object')"
      ]
     },
     "execution_count": 6,
     "metadata": {},
     "output_type": "execute_result"
    }
   ],
   "source": [
    "df_features.columns"
   ]
  },
  {
   "cell_type": "markdown",
   "metadata": {},
   "source": [
    "## Targets - diff data Feb-March/April 2020\n",
    "### Load targets"
   ]
  },
  {
   "cell_type": "code",
   "execution_count": 7,
   "metadata": {},
   "outputs": [
    {
     "data": {
      "text/html": [
       "<div>\n",
       "<style scoped>\n",
       "    .dataframe tbody tr th:only-of-type {\n",
       "        vertical-align: middle;\n",
       "    }\n",
       "\n",
       "    .dataframe tbody tr th {\n",
       "        vertical-align: top;\n",
       "    }\n",
       "\n",
       "    .dataframe thead th {\n",
       "        text-align: right;\n",
       "    }\n",
       "</style>\n",
       "<table border=\"1\" class=\"dataframe\">\n",
       "  <thead>\n",
       "    <tr style=\"text-align: right;\">\n",
       "      <th></th>\n",
       "      <th>geo_12</th>\n",
       "      <th>Week</th>\n",
       "      <th>fraction_of_devices_work_adj</th>\n",
       "      <th>avg_time_away_all_adj</th>\n",
       "    </tr>\n",
       "  </thead>\n",
       "  <tbody>\n",
       "    <tr>\n",
       "      <th>0</th>\n",
       "      <td>170310101001</td>\n",
       "      <td>13</td>\n",
       "      <td>0.025002</td>\n",
       "      <td>-2.793329</td>\n",
       "    </tr>\n",
       "    <tr>\n",
       "      <th>1</th>\n",
       "      <td>170310101001</td>\n",
       "      <td>14</td>\n",
       "      <td>0.041250</td>\n",
       "      <td>1.244839</td>\n",
       "    </tr>\n",
       "    <tr>\n",
       "      <th>2</th>\n",
       "      <td>170310101001</td>\n",
       "      <td>15</td>\n",
       "      <td>0.014606</td>\n",
       "      <td>1.389693</td>\n",
       "    </tr>\n",
       "    <tr>\n",
       "      <th>3</th>\n",
       "      <td>170310101001</td>\n",
       "      <td>16</td>\n",
       "      <td>0.003080</td>\n",
       "      <td>3.517668</td>\n",
       "    </tr>\n",
       "    <tr>\n",
       "      <th>4</th>\n",
       "      <td>170310101001</td>\n",
       "      <td>17</td>\n",
       "      <td>0.021375</td>\n",
       "      <td>1.849506</td>\n",
       "    </tr>\n",
       "  </tbody>\n",
       "</table>\n",
       "</div>"
      ],
      "text/plain": [
       "         geo_12  Week  fraction_of_devices_work_adj  avg_time_away_all_adj\n",
       "0  170310101001    13                      0.025002              -2.793329\n",
       "1  170310101001    14                      0.041250               1.244839\n",
       "2  170310101001    15                      0.014606               1.389693\n",
       "3  170310101001    16                      0.003080               3.517668\n",
       "4  170310101001    17                      0.021375               1.849506"
      ]
     },
     "execution_count": 7,
     "metadata": {},
     "output_type": "execute_result"
    }
   ],
   "source": [
    "df_targets_diff = pd.read_csv('../data/COVID_mobility_targets_adjusted.csv', dtype={'geo_12': 'str'})\n",
    "df_targets_diff.head()"
   ]
  },
  {
   "cell_type": "markdown",
   "metadata": {},
   "source": [
    "### Create dataframe"
   ]
  },
  {
   "cell_type": "code",
   "execution_count": 8,
   "metadata": {},
   "outputs": [
    {
     "data": {
      "text/html": [
       "<div>\n",
       "<style scoped>\n",
       "    .dataframe tbody tr th:only-of-type {\n",
       "        vertical-align: middle;\n",
       "    }\n",
       "\n",
       "    .dataframe tbody tr th {\n",
       "        vertical-align: top;\n",
       "    }\n",
       "\n",
       "    .dataframe thead th {\n",
       "        text-align: right;\n",
       "    }\n",
       "</style>\n",
       "<table border=\"1\" class=\"dataframe\">\n",
       "  <thead>\n",
       "    <tr style=\"text-align: right;\">\n",
       "      <th></th>\n",
       "      <th>geo_12</th>\n",
       "      <th>automotive_repair_and_maintenance</th>\n",
       "      <th>child_day_care_services</th>\n",
       "      <th>elementary_and_secondary_schools</th>\n",
       "      <th>grocery_stores</th>\n",
       "      <th>health_and_personal_care_stores</th>\n",
       "      <th>museums,_historical_sites,_and_similar_institutions</th>\n",
       "      <th>offices_of_physicians</th>\n",
       "      <th>other_amusement_and_recreation_industries</th>\n",
       "      <th>religious_organizations</th>\n",
       "      <th>...</th>\n",
       "      <th>Percent_Grad</th>\n",
       "      <th>Percent_No_vehicals</th>\n",
       "      <th>Percent_Received_SNAP</th>\n",
       "      <th>Percent_Men_Usually_Fulltime_Employed</th>\n",
       "      <th>Percent_Women_Usually_Fulltime_Employed</th>\n",
       "      <th>Percent_No_Internet_Access</th>\n",
       "      <th>Percent_Computing_Device</th>\n",
       "      <th>Week</th>\n",
       "      <th>fraction_of_devices_work_adj</th>\n",
       "      <th>avg_time_away_all_adj</th>\n",
       "    </tr>\n",
       "  </thead>\n",
       "  <tbody>\n",
       "    <tr>\n",
       "      <th>0</th>\n",
       "      <td>170310101001</td>\n",
       "      <td>0.0</td>\n",
       "      <td>0.0</td>\n",
       "      <td>0.0</td>\n",
       "      <td>0.0</td>\n",
       "      <td>0.0</td>\n",
       "      <td>0.0</td>\n",
       "      <td>0.0</td>\n",
       "      <td>0.0</td>\n",
       "      <td>0.0</td>\n",
       "      <td>...</td>\n",
       "      <td>0.17926</td>\n",
       "      <td>0.344589</td>\n",
       "      <td>0.18696</td>\n",
       "      <td>0.885906</td>\n",
       "      <td>0.382653</td>\n",
       "      <td>0.217742</td>\n",
       "      <td>0.782258</td>\n",
       "      <td>13</td>\n",
       "      <td>0.025002</td>\n",
       "      <td>-2.793329</td>\n",
       "    </tr>\n",
       "    <tr>\n",
       "      <th>1</th>\n",
       "      <td>170310101001</td>\n",
       "      <td>0.0</td>\n",
       "      <td>0.0</td>\n",
       "      <td>0.0</td>\n",
       "      <td>0.0</td>\n",
       "      <td>0.0</td>\n",
       "      <td>0.0</td>\n",
       "      <td>0.0</td>\n",
       "      <td>0.0</td>\n",
       "      <td>0.0</td>\n",
       "      <td>...</td>\n",
       "      <td>0.17926</td>\n",
       "      <td>0.344589</td>\n",
       "      <td>0.18696</td>\n",
       "      <td>0.885906</td>\n",
       "      <td>0.382653</td>\n",
       "      <td>0.217742</td>\n",
       "      <td>0.782258</td>\n",
       "      <td>14</td>\n",
       "      <td>0.041250</td>\n",
       "      <td>1.244839</td>\n",
       "    </tr>\n",
       "    <tr>\n",
       "      <th>2</th>\n",
       "      <td>170310101001</td>\n",
       "      <td>0.0</td>\n",
       "      <td>0.0</td>\n",
       "      <td>0.0</td>\n",
       "      <td>0.0</td>\n",
       "      <td>0.0</td>\n",
       "      <td>0.0</td>\n",
       "      <td>0.0</td>\n",
       "      <td>0.0</td>\n",
       "      <td>0.0</td>\n",
       "      <td>...</td>\n",
       "      <td>0.17926</td>\n",
       "      <td>0.344589</td>\n",
       "      <td>0.18696</td>\n",
       "      <td>0.885906</td>\n",
       "      <td>0.382653</td>\n",
       "      <td>0.217742</td>\n",
       "      <td>0.782258</td>\n",
       "      <td>15</td>\n",
       "      <td>0.014606</td>\n",
       "      <td>1.389693</td>\n",
       "    </tr>\n",
       "    <tr>\n",
       "      <th>3</th>\n",
       "      <td>170310101001</td>\n",
       "      <td>0.0</td>\n",
       "      <td>0.0</td>\n",
       "      <td>0.0</td>\n",
       "      <td>0.0</td>\n",
       "      <td>0.0</td>\n",
       "      <td>0.0</td>\n",
       "      <td>0.0</td>\n",
       "      <td>0.0</td>\n",
       "      <td>0.0</td>\n",
       "      <td>...</td>\n",
       "      <td>0.17926</td>\n",
       "      <td>0.344589</td>\n",
       "      <td>0.18696</td>\n",
       "      <td>0.885906</td>\n",
       "      <td>0.382653</td>\n",
       "      <td>0.217742</td>\n",
       "      <td>0.782258</td>\n",
       "      <td>16</td>\n",
       "      <td>0.003080</td>\n",
       "      <td>3.517668</td>\n",
       "    </tr>\n",
       "    <tr>\n",
       "      <th>4</th>\n",
       "      <td>170310101001</td>\n",
       "      <td>0.0</td>\n",
       "      <td>0.0</td>\n",
       "      <td>0.0</td>\n",
       "      <td>0.0</td>\n",
       "      <td>0.0</td>\n",
       "      <td>0.0</td>\n",
       "      <td>0.0</td>\n",
       "      <td>0.0</td>\n",
       "      <td>0.0</td>\n",
       "      <td>...</td>\n",
       "      <td>0.17926</td>\n",
       "      <td>0.344589</td>\n",
       "      <td>0.18696</td>\n",
       "      <td>0.885906</td>\n",
       "      <td>0.382653</td>\n",
       "      <td>0.217742</td>\n",
       "      <td>0.782258</td>\n",
       "      <td>17</td>\n",
       "      <td>0.021375</td>\n",
       "      <td>1.849506</td>\n",
       "    </tr>\n",
       "    <tr>\n",
       "      <th>5</th>\n",
       "      <td>170310101002</td>\n",
       "      <td>0.0</td>\n",
       "      <td>1.0</td>\n",
       "      <td>1.0</td>\n",
       "      <td>0.0</td>\n",
       "      <td>0.0</td>\n",
       "      <td>3.0</td>\n",
       "      <td>1.0</td>\n",
       "      <td>2.0</td>\n",
       "      <td>1.0</td>\n",
       "      <td>...</td>\n",
       "      <td>0.17926</td>\n",
       "      <td>0.344589</td>\n",
       "      <td>0.18696</td>\n",
       "      <td>0.507064</td>\n",
       "      <td>0.452071</td>\n",
       "      <td>0.330517</td>\n",
       "      <td>0.829989</td>\n",
       "      <td>13</td>\n",
       "      <td>0.099824</td>\n",
       "      <td>0.465042</td>\n",
       "    </tr>\n",
       "    <tr>\n",
       "      <th>6</th>\n",
       "      <td>170310101002</td>\n",
       "      <td>0.0</td>\n",
       "      <td>1.0</td>\n",
       "      <td>1.0</td>\n",
       "      <td>0.0</td>\n",
       "      <td>0.0</td>\n",
       "      <td>3.0</td>\n",
       "      <td>1.0</td>\n",
       "      <td>2.0</td>\n",
       "      <td>1.0</td>\n",
       "      <td>...</td>\n",
       "      <td>0.17926</td>\n",
       "      <td>0.344589</td>\n",
       "      <td>0.18696</td>\n",
       "      <td>0.507064</td>\n",
       "      <td>0.452071</td>\n",
       "      <td>0.330517</td>\n",
       "      <td>0.829989</td>\n",
       "      <td>14</td>\n",
       "      <td>0.111091</td>\n",
       "      <td>0.454175</td>\n",
       "    </tr>\n",
       "    <tr>\n",
       "      <th>7</th>\n",
       "      <td>170310101002</td>\n",
       "      <td>0.0</td>\n",
       "      <td>1.0</td>\n",
       "      <td>1.0</td>\n",
       "      <td>0.0</td>\n",
       "      <td>0.0</td>\n",
       "      <td>3.0</td>\n",
       "      <td>1.0</td>\n",
       "      <td>2.0</td>\n",
       "      <td>1.0</td>\n",
       "      <td>...</td>\n",
       "      <td>0.17926</td>\n",
       "      <td>0.344589</td>\n",
       "      <td>0.18696</td>\n",
       "      <td>0.507064</td>\n",
       "      <td>0.452071</td>\n",
       "      <td>0.330517</td>\n",
       "      <td>0.829989</td>\n",
       "      <td>15</td>\n",
       "      <td>0.113188</td>\n",
       "      <td>0.318956</td>\n",
       "    </tr>\n",
       "    <tr>\n",
       "      <th>8</th>\n",
       "      <td>170310101002</td>\n",
       "      <td>0.0</td>\n",
       "      <td>1.0</td>\n",
       "      <td>1.0</td>\n",
       "      <td>0.0</td>\n",
       "      <td>0.0</td>\n",
       "      <td>3.0</td>\n",
       "      <td>1.0</td>\n",
       "      <td>2.0</td>\n",
       "      <td>1.0</td>\n",
       "      <td>...</td>\n",
       "      <td>0.17926</td>\n",
       "      <td>0.344589</td>\n",
       "      <td>0.18696</td>\n",
       "      <td>0.507064</td>\n",
       "      <td>0.452071</td>\n",
       "      <td>0.330517</td>\n",
       "      <td>0.829989</td>\n",
       "      <td>16</td>\n",
       "      <td>0.116625</td>\n",
       "      <td>0.570743</td>\n",
       "    </tr>\n",
       "    <tr>\n",
       "      <th>9</th>\n",
       "      <td>170310101002</td>\n",
       "      <td>0.0</td>\n",
       "      <td>1.0</td>\n",
       "      <td>1.0</td>\n",
       "      <td>0.0</td>\n",
       "      <td>0.0</td>\n",
       "      <td>3.0</td>\n",
       "      <td>1.0</td>\n",
       "      <td>2.0</td>\n",
       "      <td>1.0</td>\n",
       "      <td>...</td>\n",
       "      <td>0.17926</td>\n",
       "      <td>0.344589</td>\n",
       "      <td>0.18696</td>\n",
       "      <td>0.507064</td>\n",
       "      <td>0.452071</td>\n",
       "      <td>0.330517</td>\n",
       "      <td>0.829989</td>\n",
       "      <td>17</td>\n",
       "      <td>0.109911</td>\n",
       "      <td>-0.068496</td>\n",
       "    </tr>\n",
       "  </tbody>\n",
       "</table>\n",
       "<p>10 rows × 29 columns</p>\n",
       "</div>"
      ],
      "text/plain": [
       "         geo_12  automotive_repair_and_maintenance  child_day_care_services  \\\n",
       "0  170310101001                                0.0                      0.0   \n",
       "1  170310101001                                0.0                      0.0   \n",
       "2  170310101001                                0.0                      0.0   \n",
       "3  170310101001                                0.0                      0.0   \n",
       "4  170310101001                                0.0                      0.0   \n",
       "5  170310101002                                0.0                      1.0   \n",
       "6  170310101002                                0.0                      1.0   \n",
       "7  170310101002                                0.0                      1.0   \n",
       "8  170310101002                                0.0                      1.0   \n",
       "9  170310101002                                0.0                      1.0   \n",
       "\n",
       "   elementary_and_secondary_schools  grocery_stores  \\\n",
       "0                               0.0             0.0   \n",
       "1                               0.0             0.0   \n",
       "2                               0.0             0.0   \n",
       "3                               0.0             0.0   \n",
       "4                               0.0             0.0   \n",
       "5                               1.0             0.0   \n",
       "6                               1.0             0.0   \n",
       "7                               1.0             0.0   \n",
       "8                               1.0             0.0   \n",
       "9                               1.0             0.0   \n",
       "\n",
       "   health_and_personal_care_stores  \\\n",
       "0                              0.0   \n",
       "1                              0.0   \n",
       "2                              0.0   \n",
       "3                              0.0   \n",
       "4                              0.0   \n",
       "5                              0.0   \n",
       "6                              0.0   \n",
       "7                              0.0   \n",
       "8                              0.0   \n",
       "9                              0.0   \n",
       "\n",
       "   museums,_historical_sites,_and_similar_institutions  offices_of_physicians  \\\n",
       "0                                                0.0                      0.0   \n",
       "1                                                0.0                      0.0   \n",
       "2                                                0.0                      0.0   \n",
       "3                                                0.0                      0.0   \n",
       "4                                                0.0                      0.0   \n",
       "5                                                3.0                      1.0   \n",
       "6                                                3.0                      1.0   \n",
       "7                                                3.0                      1.0   \n",
       "8                                                3.0                      1.0   \n",
       "9                                                3.0                      1.0   \n",
       "\n",
       "   other_amusement_and_recreation_industries  religious_organizations  ...  \\\n",
       "0                                        0.0                      0.0  ...   \n",
       "1                                        0.0                      0.0  ...   \n",
       "2                                        0.0                      0.0  ...   \n",
       "3                                        0.0                      0.0  ...   \n",
       "4                                        0.0                      0.0  ...   \n",
       "5                                        2.0                      1.0  ...   \n",
       "6                                        2.0                      1.0  ...   \n",
       "7                                        2.0                      1.0  ...   \n",
       "8                                        2.0                      1.0  ...   \n",
       "9                                        2.0                      1.0  ...   \n",
       "\n",
       "   Percent_Grad  Percent_No_vehicals  Percent_Received_SNAP  \\\n",
       "0       0.17926             0.344589                0.18696   \n",
       "1       0.17926             0.344589                0.18696   \n",
       "2       0.17926             0.344589                0.18696   \n",
       "3       0.17926             0.344589                0.18696   \n",
       "4       0.17926             0.344589                0.18696   \n",
       "5       0.17926             0.344589                0.18696   \n",
       "6       0.17926             0.344589                0.18696   \n",
       "7       0.17926             0.344589                0.18696   \n",
       "8       0.17926             0.344589                0.18696   \n",
       "9       0.17926             0.344589                0.18696   \n",
       "\n",
       "   Percent_Men_Usually_Fulltime_Employed  \\\n",
       "0                               0.885906   \n",
       "1                               0.885906   \n",
       "2                               0.885906   \n",
       "3                               0.885906   \n",
       "4                               0.885906   \n",
       "5                               0.507064   \n",
       "6                               0.507064   \n",
       "7                               0.507064   \n",
       "8                               0.507064   \n",
       "9                               0.507064   \n",
       "\n",
       "   Percent_Women_Usually_Fulltime_Employed  Percent_No_Internet_Access  \\\n",
       "0                                 0.382653                    0.217742   \n",
       "1                                 0.382653                    0.217742   \n",
       "2                                 0.382653                    0.217742   \n",
       "3                                 0.382653                    0.217742   \n",
       "4                                 0.382653                    0.217742   \n",
       "5                                 0.452071                    0.330517   \n",
       "6                                 0.452071                    0.330517   \n",
       "7                                 0.452071                    0.330517   \n",
       "8                                 0.452071                    0.330517   \n",
       "9                                 0.452071                    0.330517   \n",
       "\n",
       "   Percent_Computing_Device  Week  fraction_of_devices_work_adj  \\\n",
       "0                  0.782258    13                      0.025002   \n",
       "1                  0.782258    14                      0.041250   \n",
       "2                  0.782258    15                      0.014606   \n",
       "3                  0.782258    16                      0.003080   \n",
       "4                  0.782258    17                      0.021375   \n",
       "5                  0.829989    13                      0.099824   \n",
       "6                  0.829989    14                      0.111091   \n",
       "7                  0.829989    15                      0.113188   \n",
       "8                  0.829989    16                      0.116625   \n",
       "9                  0.829989    17                      0.109911   \n",
       "\n",
       "   avg_time_away_all_adj  \n",
       "0              -2.793329  \n",
       "1               1.244839  \n",
       "2               1.389693  \n",
       "3               3.517668  \n",
       "4               1.849506  \n",
       "5               0.465042  \n",
       "6               0.454175  \n",
       "7               0.318956  \n",
       "8               0.570743  \n",
       "9              -0.068496  \n",
       "\n",
       "[10 rows x 29 columns]"
      ]
     },
     "execution_count": 8,
     "metadata": {},
     "output_type": "execute_result"
    }
   ],
   "source": [
    "df_diff = df_features.merge(df_targets_diff, on='geo_12')\n",
    "df_diff.head(10)"
   ]
  },
  {
   "cell_type": "markdown",
   "metadata": {},
   "source": [
    "### Split into training and testing"
   ]
  },
  {
   "cell_type": "code",
   "execution_count": 9,
   "metadata": {},
   "outputs": [],
   "source": [
    "from sklearn.model_selection import train_test_split\n",
    "\n",
    "train, test = train_test_split(df_diff, test_size=0.2)"
   ]
  },
  {
   "cell_type": "markdown",
   "metadata": {},
   "source": [
    "### Impute missing"
   ]
  },
  {
   "cell_type": "code",
   "execution_count": 10,
   "metadata": {},
   "outputs": [
    {
     "name": "stderr",
     "output_type": "stream",
     "text": [
      "/Users/amandawhaley/anaconda3/envs/ML_CAPP/lib/python3.7/site-packages/pandas/core/generic.py:6245: SettingWithCopyWarning: \n",
      "A value is trying to be set on a copy of a slice from a DataFrame\n",
      "\n",
      "See the caveats in the documentation: https://pandas.pydata.org/pandas-docs/stable/user_guide/indexing.html#returning-a-view-versus-a-copy\n",
      "  self._update_inplace(new_data)\n"
     ]
    }
   ],
   "source": [
    "train['Median_Income'].fillna((train['Median_Income'].median()), inplace=True)\n",
    "test['Median_Income'].fillna((train['Median_Income'].median()), inplace=True)"
   ]
  },
  {
   "cell_type": "code",
   "execution_count": 11,
   "metadata": {},
   "outputs": [
    {
     "name": "stderr",
     "output_type": "stream",
     "text": [
      "/Users/amandawhaley/anaconda3/envs/ML_CAPP/lib/python3.7/site-packages/ipykernel_launcher.py:1: SettingWithCopyWarning: \n",
      "A value is trying to be set on a copy of a slice from a DataFrame\n",
      "\n",
      "See the caveats in the documentation: https://pandas.pydata.org/pandas-docs/stable/user_guide/indexing.html#returning-a-view-versus-a-copy\n",
      "  \"\"\"Entry point for launching an IPython kernel.\n",
      "/Users/amandawhaley/anaconda3/envs/ML_CAPP/lib/python3.7/site-packages/ipykernel_launcher.py:2: SettingWithCopyWarning: \n",
      "A value is trying to be set on a copy of a slice from a DataFrame\n",
      "\n",
      "See the caveats in the documentation: https://pandas.pydata.org/pandas-docs/stable/user_guide/indexing.html#returning-a-view-versus-a-copy\n",
      "  \n"
     ]
    }
   ],
   "source": [
    "train.dropna(inplace=True)\n",
    "test.dropna(inplace=True)"
   ]
  },
  {
   "cell_type": "code",
   "execution_count": 12,
   "metadata": {},
   "outputs": [
    {
     "name": "stdout",
     "output_type": "stream",
     "text": [
      "8723 observations in the training set.\n",
      "2182 observations in the test set.\n"
     ]
    }
   ],
   "source": [
    "print('{} observations in the training set.'.format(len(train)))\n",
    "print('{} observations in the test set.'.format(len(test)))"
   ]
  },
  {
   "cell_type": "markdown",
   "metadata": {},
   "source": [
    "## Random Forest Model"
   ]
  },
  {
   "cell_type": "code",
   "execution_count": 13,
   "metadata": {},
   "outputs": [],
   "source": [
    "from sklearn.ensemble import RandomForestRegressor\n"
   ]
  },
  {
   "cell_type": "markdown",
   "metadata": {},
   "source": [
    "### Features"
   ]
  },
  {
   "cell_type": "code",
   "execution_count": 14,
   "metadata": {},
   "outputs": [],
   "source": [
    "features_cols = list(df_features.columns)\n",
    "features_cols.remove('geo_12')\n",
    "\n",
    "features_train = train[features_cols]\n",
    "features_test = test[features_cols]\n",
    "\n",
    "fodw_target_train, fodw_target_test = train['fraction_of_devices_work_adj'], test['fraction_of_devices_work_adj']\n",
    "\n",
    "ataa_target_train, ataa_target_test = train['avg_time_away_all_adj'], test['avg_time_away_all_adj']"
   ]
  },
  {
   "cell_type": "code",
   "execution_count": 15,
   "metadata": {},
   "outputs": [
    {
     "data": {
      "text/plain": [
       "['automotive_repair_and_maintenance',\n",
       " 'child_day_care_services',\n",
       " 'elementary_and_secondary_schools',\n",
       " 'grocery_stores',\n",
       " 'health_and_personal_care_stores',\n",
       " 'museums,_historical_sites,_and_similar_institutions',\n",
       " 'offices_of_physicians',\n",
       " 'other_amusement_and_recreation_industries',\n",
       " 'religious_organizations',\n",
       " 'restaurants_and_other_eating_places',\n",
       " 'Median_Income',\n",
       " 'Median_Age',\n",
       " 'Percent_NonCitizen',\n",
       " 'Percent_SpeakEngl_Poorly',\n",
       " 'Percent_less_than_HS',\n",
       " 'Percent_HS',\n",
       " 'Percent_SomeCollege',\n",
       " 'Percent_Bach',\n",
       " 'Percent_Grad',\n",
       " 'Percent_No_vehicals',\n",
       " 'Percent_Received_SNAP',\n",
       " 'Percent_Men_Usually_Fulltime_Employed',\n",
       " 'Percent_Women_Usually_Fulltime_Employed',\n",
       " 'Percent_No_Internet_Access',\n",
       " 'Percent_Computing_Device']"
      ]
     },
     "execution_count": 15,
     "metadata": {},
     "output_type": "execute_result"
    }
   ],
   "source": [
    "features_cols"
   ]
  },
  {
   "cell_type": "markdown",
   "metadata": {},
   "source": [
    "## Target: Fraction of Devices with Work Behavior"
   ]
  },
  {
   "cell_type": "code",
   "execution_count": 16,
   "metadata": {},
   "outputs": [
    {
     "name": "stdout",
     "output_type": "stream",
     "text": [
      "train time:  10.03500485420227\n"
     ]
    }
   ],
   "source": [
    "#Model hyperparameters determined in a separate notebook.\n",
    "rf_fodw = RandomForestRegressor(n_jobs=-1, \n",
    "                                   n_estimators=400,\n",
    "                                   min_samples_split=7,\n",
    "                                   min_samples_leaf=2,\n",
    "                                   max_depth=120,\n",
    "                                   bootstrap=True\n",
    "                            )\n",
    "t0 = time.time()\n",
    "model_fodw = rf_fodw.fit(features_train,fodw_target_train)\n",
    "print('train time: ', time.time()-t0)"
   ]
  },
  {
   "cell_type": "markdown",
   "metadata": {},
   "source": [
    "#### Root Mean Squared Error"
   ]
  },
  {
   "cell_type": "code",
   "execution_count": 17,
   "metadata": {},
   "outputs": [
    {
     "ename": "NameError",
     "evalue": "name 'mean_squared_error' is not defined",
     "output_type": "error",
     "traceback": [
      "\u001b[0;31m---------------------------------------------------------------------------\u001b[0m",
      "\u001b[0;31mNameError\u001b[0m                                 Traceback (most recent call last)",
      "\u001b[0;32m<ipython-input-17-e5dc360a5301>\u001b[0m in \u001b[0;36m<module>\u001b[0;34m\u001b[0m\n\u001b[1;32m      1\u001b[0m \u001b[0mfodw_y_pred\u001b[0m\u001b[0;34m=\u001b[0m\u001b[0mrf_fodw\u001b[0m\u001b[0;34m.\u001b[0m\u001b[0mpredict\u001b[0m\u001b[0;34m(\u001b[0m\u001b[0mfeatures_test\u001b[0m\u001b[0;34m)\u001b[0m\u001b[0;34m\u001b[0m\u001b[0;34m\u001b[0m\u001b[0m\n\u001b[0;32m----> 2\u001b[0;31m \u001b[0mfodw_rmse\u001b[0m \u001b[0;34m=\u001b[0m \u001b[0mnp\u001b[0m\u001b[0;34m.\u001b[0m\u001b[0msqrt\u001b[0m\u001b[0;34m(\u001b[0m\u001b[0mmean_squared_error\u001b[0m\u001b[0;34m(\u001b[0m\u001b[0mfodw_y_pred\u001b[0m\u001b[0;34m,\u001b[0m \u001b[0mfodw_target_test\u001b[0m\u001b[0;34m)\u001b[0m\u001b[0;34m)\u001b[0m\u001b[0;34m\u001b[0m\u001b[0;34m\u001b[0m\u001b[0m\n\u001b[0m\u001b[1;32m      3\u001b[0m \u001b[0mprint\u001b[0m\u001b[0;34m(\u001b[0m\u001b[0;34m\"RMSE: \"\u001b[0m\u001b[0;34m,\u001b[0m \u001b[0mfodw_rmse\u001b[0m\u001b[0;34m)\u001b[0m\u001b[0;34m\u001b[0m\u001b[0;34m\u001b[0m\u001b[0m\n",
      "\u001b[0;31mNameError\u001b[0m: name 'mean_squared_error' is not defined"
     ]
    }
   ],
   "source": [
    "fodw_y_pred=rf_fodw.predict(features_test)\n",
    "fodw_rmse = np.sqrt(mean_squared_error(fodw_y_pred, fodw_target_test))\n",
    "print(\"RMSE: \", fodw_rmse)"
   ]
  },
  {
   "cell_type": "markdown",
   "metadata": {},
   "source": [
    "#### One to one plot"
   ]
  },
  {
   "cell_type": "code",
   "execution_count": null,
   "metadata": {},
   "outputs": [],
   "source": [
    "plt.plot(fodw_y_pred, fodw_target_test, '.', alpha = 0.2)\n",
    "plt.ylabel('True Reduction in Fraction of Devices \\n Leaving for Work', fontsize=14)\n",
    "plt.xlabel('Predicted Reduction in Fraction of Devices \\n Leaving for Work', fontsize=14)\n",
    "plt.title('One to One Plot - Reduction in Fraction of Devices \\n Leaving for Work \\n RMSE = {}'.format(fodw_rmse), \n",
    "          fontsize=16)\n",
    "line_x, line_y = [-0.2,0.3], [-0.2,0.3]\n",
    "line_cutoff = [0.05,0.05]\n",
    "plt.plot(line_x,line_y,'k--')\n",
    "#plt.plot(line_x,line_cutoff,'r--')\n",
    "#plt.plot(line_cutoff, line_y, 'g--')\n",
    "plt.show()"
   ]
  },
  {
   "cell_type": "code",
   "execution_count": null,
   "metadata": {},
   "outputs": [],
   "source": [
    "feature_importances_fodw = pd.DataFrame(rf_fodw.feature_importances_, index = features_cols,\n",
    "                                   columns=['importance']).sort_values('importance', ascending=False)\n",
    "print(feature_importances_fodw)"
   ]
  },
  {
   "cell_type": "markdown",
   "metadata": {},
   "source": [
    "#### Residual Plot"
   ]
  },
  {
   "cell_type": "code",
   "execution_count": null,
   "metadata": {},
   "outputs": [],
   "source": [
    "residuals_fodw = fodw_y_pred - fodw_target_test\n",
    "plt.plot(fodw_y_pred, residuals_fodw, '.', alpha=0.3)\n",
    "plt.xlabel('Predicted Reduction in Fraction of Devices \\n Leaving for Work', fontsize=14)\n",
    "plt.ylabel('Model Residual (Predicted - True)', fontsize=14)"
   ]
  },
  {
   "cell_type": "markdown",
   "metadata": {},
   "source": [
    "## Target: Average Time Away From Home (All)"
   ]
  },
  {
   "cell_type": "code",
   "execution_count": null,
   "metadata": {},
   "outputs": [],
   "source": [
    "#Model hyperparameters determined in a separate notebook.\n",
    "rf_ataa = RandomForestRegressor(n_jobs=-1, \n",
    "                                    n_estimators=120,\n",
    "                                    min_samples_split=4,\n",
    "                                    min_samples_leaf=2,\n",
    "                                    bootstrap=True\n",
    "                            )\n",
    "t0 = time.time()\n",
    "model_ataa = rf_ataa.fit(features_train,ataa_target_train)\n",
    "print('train time: ', time.time()-t0)"
   ]
  },
  {
   "cell_type": "markdown",
   "metadata": {},
   "source": [
    "#### Root Mean Squared Error"
   ]
  },
  {
   "cell_type": "code",
   "execution_count": null,
   "metadata": {},
   "outputs": [],
   "source": [
    "ataa_y_pred=rf_ataa.predict(features_test)\n",
    "ataa_rmse = np.sqrt(mean_squared_error(ataa_y_pred, ataa_target_test))\n",
    "print(\"RMSE: \", ataa_rmse)"
   ]
  },
  {
   "cell_type": "markdown",
   "metadata": {},
   "source": [
    "#### One to one plot"
   ]
  },
  {
   "cell_type": "code",
   "execution_count": null,
   "metadata": {},
   "outputs": [],
   "source": [
    "plt.plot(ataa_y_pred, ataa_target_test, '.', alpha=0.3)\n",
    "plt.ylabel('True Reduction in \\n Average Time Away (hours)', fontsize=14)\n",
    "plt.xlabel('Predicted Reduction in \\n Average Time Away (hours)', fontsize=14)\n",
    "plt.title('One to One Plot - Reduction in \\n Average Time Away (hours) \\n RMSE = {}'.format(ataa_rmse), \n",
    "          fontsize=16)\n",
    "line_x, line_y = [-10,5], [-10,5]\n",
    "line_cutoff = [0,0]\n",
    "plt.plot(line_x,line_y,'k--')\n",
    "#plt.plot(line_x,line_cutoff,'r--')\n",
    "#plt.plot(line_cutoff, line_y, 'g--')\n",
    "plt.show()"
   ]
  },
  {
   "cell_type": "code",
   "execution_count": null,
   "metadata": {},
   "outputs": [],
   "source": [
    "feature_importances_ataa = pd.DataFrame(rf_ataa.feature_importances_, index = features_cols,\n",
    "                                   columns=['importance']).sort_values('importance', ascending=False)\n",
    "print(feature_importances_ataa)"
   ]
  },
  {
   "cell_type": "markdown",
   "metadata": {},
   "source": [
    "#### Residual Plot"
   ]
  },
  {
   "cell_type": "code",
   "execution_count": null,
   "metadata": {},
   "outputs": [],
   "source": [
    "residuals_ataa = ataa_y_pred - ataa_target_test\n",
    "plt.plot(ataa_y_pred, residuals_ataa, '.', alpha=0.3)\n",
    "plt.xlabel('Predicted Reduction in \\n Average Time Away (hours)', fontsize=14)\n",
    "plt.ylabel('Model Residual (Predicted - True)', fontsize=14)"
   ]
  },
  {
   "cell_type": "markdown",
   "metadata": {},
   "source": [
    "### Create a dataframe with one row for each census block group and get a prediction from the model for each block group, assign \"intervention\" status.  "
   ]
  },
  {
   "cell_type": "code",
   "execution_count": null,
   "metadata": {},
   "outputs": [],
   "source": [
    "df_all = df_diff.drop(['Week'], axis=1).groupby('geo_12').mean().reset_index()\n",
    "df_all['Median_Income'].fillna((df_all['Median_Income'].median()), inplace=True)\n",
    "df_all.dropna(inplace=True)"
   ]
  },
  {
   "cell_type": "code",
   "execution_count": null,
   "metadata": {},
   "outputs": [],
   "source": [
    "ataa_y_pred_all=rf_ataa.predict(df_all[features_cols])\n",
    "fodw_y_pred_all = rf_fodw.predict(df_all[features_cols])\n",
    "df_all['pred_fraction_of_devices_work_adj'] = fodw_y_pred_all\n",
    "df_all['pred_avg_time_away_all_adj'] = ataa_y_pred_all"
   ]
  },
  {
   "cell_type": "code",
   "execution_count": null,
   "metadata": {},
   "outputs": [],
   "source": [
    "df_all['intervention_fodw'] = 0\n",
    "df_all.loc[df_all['pred_fraction_of_devices_work_adj'] < 0.1, 'intervention_fodw'] = 1\n",
    "df_all['intervention_ataa'] = 0\n",
    "df_all.loc[df_all['pred_avg_time_away_all_adj'] < 1, 'intervention_ataa'] = 1\n",
    "df_all.head()"
   ]
  },
  {
   "cell_type": "code",
   "execution_count": null,
   "metadata": {},
   "outputs": [],
   "source": [
    "df_all.to_csv('../data/COVID_mobility_predictions.csv', header=True, index=False)"
   ]
  },
  {
   "cell_type": "markdown",
   "metadata": {},
   "source": [
    "## Analysis"
   ]
  },
  {
   "cell_type": "code",
   "execution_count": null,
   "metadata": {},
   "outputs": [],
   "source": [
    "plt.plot(df_all['fraction_of_devices_work_adj'], df_all['pred_fraction_of_devices_work_adj'], '.')"
   ]
  },
  {
   "cell_type": "markdown",
   "metadata": {},
   "source": [
    "### Fraction of Devices Exhibiting Work Behavior"
   ]
  },
  {
   "cell_type": "code",
   "execution_count": null,
   "metadata": {},
   "outputs": [],
   "source": [
    "import_cols_fodw = ['Percent_Received_SNAP', 'Percent_No_vehicals', 'Median_Income', \n",
    "                    'Percent_Men_Usually_Fulltime_Employed', 'Percent_Women_Usually_Fulltime_Employed',\n",
    "                    'Median_Age', 'Percent_SpeakEngl_Poorly', 'Percent_No_Internet_Access', \n",
    "                    'Percent_SomeCollege', 'Percent_Computing_Device', 'Percent_Grad', \n",
    "                    'fraction_of_devices_work_adj', 'pred_fraction_of_devices_work_adj',\n",
    "                    'intervention_fodw']\n",
    "df_import_fodw = df_all[import_cols_fodw].copy()\n",
    "df_import_fodw.head()"
   ]
  },
  {
   "cell_type": "code",
   "execution_count": null,
   "metadata": {},
   "outputs": [],
   "source": [
    "sns.set(rc={'figure.figsize':(11, 4)})\n",
    "\n",
    "for col in import_cols_fodw:\n",
    "    sns.lmplot(x=\"pred_fraction_of_devices_work_adj\", y=col, data=df_import_fodw, fit_reg=True, \n",
    "           hue='intervention_fodw', scatter_kws={\"s\": 5})"
   ]
  },
  {
   "cell_type": "code",
   "execution_count": null,
   "metadata": {},
   "outputs": [],
   "source": [
    "sns.set(style=\"white\")\n",
    "\n",
    "# Compute the correlation matrix\n",
    "corr = df_import_fodw.corr()\n",
    "\n",
    "# Generate a mask for the upper triangle\n",
    "mask = np.triu(np.ones_like(corr, dtype=np.bool))\n",
    "\n",
    "# Set up the matplotlib figure\n",
    "f, ax = plt.subplots(figsize=(11, 9))\n",
    "\n",
    "# Generate a custom diverging colormap\n",
    "cmap = sns.diverging_palette(220, 10, as_cmap=True)\n",
    "\n",
    "# Draw the heatmap with the mask and correct aspect ratio\n",
    "sns.heatmap(corr, mask=mask, cmap=cmap, center=0,\n",
    "            square=True, linewidths=.5, cbar_kws={\"shrink\": .5})\n"
   ]
  },
  {
   "cell_type": "code",
   "execution_count": null,
   "metadata": {},
   "outputs": [],
   "source": [
    "ct_intervention = len(df_import_fodw.loc[df_import_fodw['intervention_fodw']==1])\n",
    "ct_nonintervention = len(df_import_fodw.loc[df_import_fodw['intervention_fodw']==0])\n",
    "print(ct_intervention)\n",
    "\n",
    "for col in import_cols_fodw[:11]:\n",
    "    x1 = list(df_import_fodw.loc[df_import_fodw['intervention_fodw']==0, col])\n",
    "    x2 = list(df_import_fodw.loc[df_import_fodw['intervention_fodw']==1, col])\n",
    "    # Assign colors for each group and the names\n",
    "    colors = ['#E69F00', '#56B4E9']\n",
    "    names = ['non-intervention', 'intervention']\n",
    "\n",
    "    plt.hist([x1,x2], bins = 20, density = True, color=colors, label=names)\n",
    "    #plt.yscale('log')\n",
    "\n",
    "    # Plot formatting\n",
    "    plt.legend()\n",
    "    plt.xlabel(col)\n",
    "    #plt.ylabel('Normalized data')\n",
    "    plt.title('Distribution of {} by Intervention Group'.format(col))\n",
    "    plt.show()"
   ]
  },
  {
   "cell_type": "markdown",
   "metadata": {},
   "source": [
    "#### For Reduction in Fraction of Devices Exhibiting Work Behavior, the key features seem to be: \n",
    "\n",
    "percent receiving SNAP benefits - areas with 30% or more of people receiving SNAP benefits are more likely to be in the intervention group.\n",
    "\n",
    "percent no vehicles - areas with 15% or more without a vehicle are more likely to be in the intervention group.\n",
    "\n",
    "median income - areas with a median income of $30,000 or less are more likely to be in the intervention group.\n",
    "\n",
    "percent men usually fulltime employed - areas with less than 55% of men usually fulltime employed are likely to be in the intervention group.\n",
    "\n",
    "percent women usually fulltime employed - areas with les than 40% of women usually fulltime employed are likely to be in the intervention group.\n",
    "\n",
    "median age - areas with a median age less than 25 or greater than 55 are more likely to be in the intervention group.\n",
    "\n",
    "percent no internet access - areas with greater than 27% having no internet access are more likely to be in the intervention group.\n",
    "\n",
    "some college - areas with more than 37% having some college are more likely to be in the intervention group.\n",
    "\n",
    "percent computing devices - areas with less than 77% having computing devices are more likely to be in the intervention group.\n",
    "\n",
    "percent grad - areas with less than 7% having a graduate degree are more likely to be in the intervention group."
   ]
  },
  {
   "cell_type": "markdown",
   "metadata": {},
   "source": [
    "### Average Time Away from Home"
   ]
  },
  {
   "cell_type": "code",
   "execution_count": null,
   "metadata": {},
   "outputs": [],
   "source": [
    "import_cols_ataa = ['Median_Age', 'Percent_No_vehicals', 'Percent_Grad', 'Percent_No_Internet_Access',\n",
    "                    'Median_Income', 'Percent_Men_Usually_Fulltime_Employed', 'Percent_Women_Usually_Fulltime_Employed',\n",
    "                    'Percent_HS', 'Percent_Computing_Device',\n",
    "                    'avg_time_away_all_adj', 'pred_avg_time_away_all_adj',\n",
    "                    'intervention_ataa']\n",
    "df_import_ataa = df_all[import_cols_ataa].copy()\n",
    "df_import_ataa.head()"
   ]
  },
  {
   "cell_type": "code",
   "execution_count": null,
   "metadata": {},
   "outputs": [],
   "source": [
    "sns.set(style=\"white\")\n",
    "\n",
    "# Compute the correlation matrix\n",
    "corr = df_import_ataa.corr()\n",
    "\n",
    "# Generate a mask for the upper triangle\n",
    "mask = np.triu(np.ones_like(corr, dtype=np.bool))\n",
    "\n",
    "# Set up the matplotlib figure\n",
    "f, ax = plt.subplots(figsize=(11, 9))\n",
    "\n",
    "# Generate a custom diverging colormap\n",
    "cmap = sns.diverging_palette(220, 10, as_cmap=True)\n",
    "\n",
    "# Draw the heatmap with the mask and correct aspect ratio\n",
    "sns.heatmap(corr, mask=mask, cmap=cmap, center=0,\n",
    "            square=True, linewidths=.5, cbar_kws={\"shrink\": .5})\n"
   ]
  },
  {
   "cell_type": "code",
   "execution_count": null,
   "metadata": {},
   "outputs": [],
   "source": [
    "ct_intervention = len(df_import_ataa.loc[df_import_ataa['intervention_ataa']==1])\n",
    "ct_nonintervention = len(df_import_ataa.loc[df_import_ataa['intervention_ataa']==0])\n",
    "print(ct_intervention)\n",
    "\n",
    "for col in import_cols_ataa[:9]:\n",
    "    x1 = list(df_import_ataa.loc[df_import_ataa['intervention_ataa']==0, col])\n",
    "    x2 = list(df_import_ataa.loc[df_import_ataa['intervention_ataa']==1, col])\n",
    "    # Assign colors for each group and the names\n",
    "    colors = ['#E69F00', '#56B4E9']\n",
    "    names = ['non-intervention', 'intervention']\n",
    "\n",
    "    plt.hist([x1,x2], bins = 20, color=colors, label=names)\n",
    "    #plt.yscale('log')\n",
    "\n",
    "    # Plot formatting\n",
    "    plt.legend()\n",
    "    plt.xlabel(col)\n",
    "    #plt.ylabel('Normalized data')\n",
    "    plt.title('Distribution of {} by Intervention Group'.format(col))\n",
    "    plt.show()"
   ]
  },
  {
   "cell_type": "markdown",
   "metadata": {},
   "source": [
    "#### For Reduction in Average Time Away from Home, the key features seem to be: \n",
    "\n",
    "median age - areas with a median age less than 33 or greater than 55 are more likely to be in the intervention group.\n",
    "\n",
    "percent no vehicles - areas with greater than 18% having no vehicle are more likely to be in the intervention group.\n",
    "\n",
    "percent grad - areas with greater than 30% having a graduate degree are more likely to be in the intervention group.\n",
    "\n",
    "percent no internet access - areas with less than 7% or greater than 30% having no internet access are more likely to be in the intervention group.\n",
    "\n",
    "median income - areas with median income of less than 50,000 or greater than 150,000 are more likely to be in the intervention group.\n",
    "\n",
    "percent men usually full time employed - areas with less than 50% or greater than 90% men usually full time empoyed are more likely to be in the intervention group.\n",
    "\n",
    "percent women usually full time employed - areas with less than 35% or greater than 70% women usually full time employed are more likely to be in the intervention group.\n",
    "\n",
    "percent high shool - areas with less than 10% high school are more likely to be in the intervention group.\n",
    "\n",
    "percent computing devices - areas with less than 75% or greater than 95% with access to computing devices are more likely to be in the intervention group.\n",
    "\n"
   ]
  },
  {
   "cell_type": "code",
   "execution_count": null,
   "metadata": {},
   "outputs": [],
   "source": []
  }
 ],
 "metadata": {
  "kernelspec": {
   "display_name": "venv",
   "language": "python",
   "name": "venv"
  },
  "language_info": {
   "codemirror_mode": {
    "name": "ipython",
    "version": 3
   },
   "file_extension": ".py",
   "mimetype": "text/x-python",
   "name": "python",
   "nbconvert_exporter": "python",
   "pygments_lexer": "ipython3",
   "version": "3.7.7"
  }
 },
 "nbformat": 4,
 "nbformat_minor": 4
}
