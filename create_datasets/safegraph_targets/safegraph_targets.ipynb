{
 "cells": [
  {
   "cell_type": "markdown",
   "metadata": {},
   "source": [
    "## Process and Describe Project Targets"
   ]
  },
  {
   "cell_type": "markdown",
   "metadata": {},
   "source": [
    "#### This notebook reads in safegraph social distancing (mobility) data and aggregates/computes targets.  Output file is a csv which is used by the notebook that produces the models."
   ]
  },
  {
   "cell_type": "code",
   "execution_count": 1,
   "metadata": {},
   "outputs": [],
   "source": [
    "import pandas as pd\n",
    "import geopandas as gpd\n",
    "import json\n",
    "from matplotlib import pyplot as plt\n",
    "import safegraph_social_distancing_module as ssd"
   ]
  },
  {
   "cell_type": "code",
   "execution_count": 2,
   "metadata": {},
   "outputs": [],
   "source": [
    "df = pd.read_csv('../data/raw/cleaned_IL_sd.csv.gz', compression='gzip')"
   ]
  },
  {
   "cell_type": "code",
   "execution_count": 3,
   "metadata": {},
   "outputs": [
    {
     "data": {
      "text/html": [
       "<div>\n",
       "<style scoped>\n",
       "    .dataframe tbody tr th:only-of-type {\n",
       "        vertical-align: middle;\n",
       "    }\n",
       "\n",
       "    .dataframe tbody tr th {\n",
       "        vertical-align: top;\n",
       "    }\n",
       "\n",
       "    .dataframe thead th {\n",
       "        text-align: right;\n",
       "    }\n",
       "</style>\n",
       "<table border=\"1\" class=\"dataframe\">\n",
       "  <thead>\n",
       "    <tr style=\"text-align: right;\">\n",
       "      <th></th>\n",
       "      <th>origin_census_block_group</th>\n",
       "      <th>device_count</th>\n",
       "      <th>distance_traveled_from_home</th>\n",
       "      <th>completely_home_device_count</th>\n",
       "      <th>median_home_dwell_time</th>\n",
       "      <th>part_time_work_behavior_devices</th>\n",
       "      <th>full_time_work_behavior_devices</th>\n",
       "      <th>delivery_behavior_devices</th>\n",
       "      <th>median_non_home_dwell_time</th>\n",
       "      <th>candidate_device_count</th>\n",
       "      <th>median_percentage_time_home</th>\n",
       "    </tr>\n",
       "  </thead>\n",
       "  <tbody>\n",
       "    <tr>\n",
       "      <th>count</th>\n",
       "      <td>7.255130e+05</td>\n",
       "      <td>725513.000000</td>\n",
       "      <td>7.254950e+05</td>\n",
       "      <td>725513.000000</td>\n",
       "      <td>725513.000000</td>\n",
       "      <td>725513.000000</td>\n",
       "      <td>725513.000000</td>\n",
       "      <td>725513.000000</td>\n",
       "      <td>725513.000000</td>\n",
       "      <td>725513.000000</td>\n",
       "      <td>725513.000000</td>\n",
       "    </tr>\n",
       "    <tr>\n",
       "      <th>mean</th>\n",
       "      <td>1.707888e+11</td>\n",
       "      <td>78.175162</td>\n",
       "      <td>7.109183e+03</td>\n",
       "      <td>29.174333</td>\n",
       "      <td>795.639152</td>\n",
       "      <td>4.741830</td>\n",
       "      <td>3.189828</td>\n",
       "      <td>1.825889</td>\n",
       "      <td>61.755624</td>\n",
       "      <td>178.383876</td>\n",
       "      <td>87.691119</td>\n",
       "    </tr>\n",
       "    <tr>\n",
       "      <th>std</th>\n",
       "      <td>5.958124e+08</td>\n",
       "      <td>66.786382</td>\n",
       "      <td>2.594607e+04</td>\n",
       "      <td>28.155575</td>\n",
       "      <td>323.155459</td>\n",
       "      <td>6.242844</td>\n",
       "      <td>4.920520</td>\n",
       "      <td>1.608854</td>\n",
       "      <td>100.600378</td>\n",
       "      <td>195.299819</td>\n",
       "      <td>19.272855</td>\n",
       "    </tr>\n",
       "    <tr>\n",
       "      <th>min</th>\n",
       "      <td>1.700100e+11</td>\n",
       "      <td>5.000000</td>\n",
       "      <td>0.000000e+00</td>\n",
       "      <td>1.000000</td>\n",
       "      <td>0.000000</td>\n",
       "      <td>1.000000</td>\n",
       "      <td>1.000000</td>\n",
       "      <td>1.000000</td>\n",
       "      <td>0.000000</td>\n",
       "      <td>7.000000</td>\n",
       "      <td>0.000000</td>\n",
       "    </tr>\n",
       "    <tr>\n",
       "      <th>25%</th>\n",
       "      <td>1.703180e+11</td>\n",
       "      <td>43.000000</td>\n",
       "      <td>2.828000e+03</td>\n",
       "      <td>15.000000</td>\n",
       "      <td>627.000000</td>\n",
       "      <td>1.000000</td>\n",
       "      <td>1.000000</td>\n",
       "      <td>1.000000</td>\n",
       "      <td>4.000000</td>\n",
       "      <td>94.000000</td>\n",
       "      <td>82.000000</td>\n",
       "    </tr>\n",
       "    <tr>\n",
       "      <th>50%</th>\n",
       "      <td>1.704384e+11</td>\n",
       "      <td>61.000000</td>\n",
       "      <td>4.537000e+03</td>\n",
       "      <td>22.000000</td>\n",
       "      <td>818.000000</td>\n",
       "      <td>3.000000</td>\n",
       "      <td>1.000000</td>\n",
       "      <td>1.000000</td>\n",
       "      <td>23.000000</td>\n",
       "      <td>131.000000</td>\n",
       "      <td>96.000000</td>\n",
       "    </tr>\n",
       "    <tr>\n",
       "      <th>75%</th>\n",
       "      <td>1.711796e+11</td>\n",
       "      <td>91.000000</td>\n",
       "      <td>7.176000e+03</td>\n",
       "      <td>35.000000</td>\n",
       "      <td>1011.000000</td>\n",
       "      <td>6.000000</td>\n",
       "      <td>4.000000</td>\n",
       "      <td>2.000000</td>\n",
       "      <td>79.000000</td>\n",
       "      <td>194.000000</td>\n",
       "      <td>100.000000</td>\n",
       "    </tr>\n",
       "    <tr>\n",
       "      <th>max</th>\n",
       "      <td>1.720303e+11</td>\n",
       "      <td>1592.000000</td>\n",
       "      <td>4.750770e+06</td>\n",
       "      <td>765.000000</td>\n",
       "      <td>1439.000000</td>\n",
       "      <td>262.000000</td>\n",
       "      <td>234.000000</td>\n",
       "      <td>46.000000</td>\n",
       "      <td>1413.000000</td>\n",
       "      <td>6149.000000</td>\n",
       "      <td>100.000000</td>\n",
       "    </tr>\n",
       "  </tbody>\n",
       "</table>\n",
       "</div>"
      ],
      "text/plain": [
       "       origin_census_block_group   device_count  distance_traveled_from_home  \\\n",
       "count               7.255130e+05  725513.000000                 7.254950e+05   \n",
       "mean                1.707888e+11      78.175162                 7.109183e+03   \n",
       "std                 5.958124e+08      66.786382                 2.594607e+04   \n",
       "min                 1.700100e+11       5.000000                 0.000000e+00   \n",
       "25%                 1.703180e+11      43.000000                 2.828000e+03   \n",
       "50%                 1.704384e+11      61.000000                 4.537000e+03   \n",
       "75%                 1.711796e+11      91.000000                 7.176000e+03   \n",
       "max                 1.720303e+11    1592.000000                 4.750770e+06   \n",
       "\n",
       "       completely_home_device_count  median_home_dwell_time  \\\n",
       "count                 725513.000000           725513.000000   \n",
       "mean                      29.174333              795.639152   \n",
       "std                       28.155575              323.155459   \n",
       "min                        1.000000                0.000000   \n",
       "25%                       15.000000              627.000000   \n",
       "50%                       22.000000              818.000000   \n",
       "75%                       35.000000             1011.000000   \n",
       "max                      765.000000             1439.000000   \n",
       "\n",
       "       part_time_work_behavior_devices  full_time_work_behavior_devices  \\\n",
       "count                    725513.000000                    725513.000000   \n",
       "mean                          4.741830                         3.189828   \n",
       "std                           6.242844                         4.920520   \n",
       "min                           1.000000                         1.000000   \n",
       "25%                           1.000000                         1.000000   \n",
       "50%                           3.000000                         1.000000   \n",
       "75%                           6.000000                         4.000000   \n",
       "max                         262.000000                       234.000000   \n",
       "\n",
       "       delivery_behavior_devices  median_non_home_dwell_time  \\\n",
       "count              725513.000000               725513.000000   \n",
       "mean                    1.825889                   61.755624   \n",
       "std                     1.608854                  100.600378   \n",
       "min                     1.000000                    0.000000   \n",
       "25%                     1.000000                    4.000000   \n",
       "50%                     1.000000                   23.000000   \n",
       "75%                     2.000000                   79.000000   \n",
       "max                    46.000000                 1413.000000   \n",
       "\n",
       "       candidate_device_count  median_percentage_time_home  \n",
       "count           725513.000000                725513.000000  \n",
       "mean               178.383876                    87.691119  \n",
       "std                195.299819                    19.272855  \n",
       "min                  7.000000                     0.000000  \n",
       "25%                 94.000000                    82.000000  \n",
       "50%                131.000000                    96.000000  \n",
       "75%                194.000000                   100.000000  \n",
       "max               6149.000000                   100.000000  "
      ]
     },
     "execution_count": 3,
     "metadata": {},
     "output_type": "execute_result"
    }
   ],
   "source": [
    "df.describe()"
   ]
  },
  {
   "cell_type": "code",
   "execution_count": 4,
   "metadata": {},
   "outputs": [],
   "source": [
    "df, df_targets = ssd.process_targets(df)"
   ]
  },
  {
   "cell_type": "code",
   "execution_count": 5,
   "metadata": {},
   "outputs": [
    {
     "data": {
      "text/html": [
       "<div>\n",
       "<style scoped>\n",
       "    .dataframe tbody tr th:only-of-type {\n",
       "        vertical-align: middle;\n",
       "    }\n",
       "\n",
       "    .dataframe tbody tr th {\n",
       "        vertical-align: top;\n",
       "    }\n",
       "\n",
       "    .dataframe thead th {\n",
       "        text-align: right;\n",
       "    }\n",
       "</style>\n",
       "<table border=\"1\" class=\"dataframe\">\n",
       "  <thead>\n",
       "    <tr style=\"text-align: right;\">\n",
       "      <th></th>\n",
       "      <th>geo_12</th>\n",
       "      <th>Week</th>\n",
       "      <th>device_count</th>\n",
       "      <th>fraction_of_devices_work</th>\n",
       "      <th>avg_time_away_all</th>\n",
       "    </tr>\n",
       "  </thead>\n",
       "  <tbody>\n",
       "    <tr>\n",
       "      <th>count</th>\n",
       "      <td>4.838900e+04</td>\n",
       "      <td>48389.000000</td>\n",
       "      <td>48389.000000</td>\n",
       "      <td>48389.000000</td>\n",
       "      <td>48389.000000</td>\n",
       "    </tr>\n",
       "    <tr>\n",
       "      <th>mean</th>\n",
       "      <td>1.707888e+11</td>\n",
       "      <td>15.000083</td>\n",
       "      <td>76.429098</td>\n",
       "      <td>0.080159</td>\n",
       "      <td>3.517507</td>\n",
       "    </tr>\n",
       "    <tr>\n",
       "      <th>std</th>\n",
       "      <td>5.958122e+08</td>\n",
       "      <td>1.414184</td>\n",
       "      <td>65.046804</td>\n",
       "      <td>0.028944</td>\n",
       "      <td>1.182196</td>\n",
       "    </tr>\n",
       "    <tr>\n",
       "      <th>min</th>\n",
       "      <td>1.700100e+11</td>\n",
       "      <td>13.000000</td>\n",
       "      <td>5.500000</td>\n",
       "      <td>0.017948</td>\n",
       "      <td>0.154657</td>\n",
       "    </tr>\n",
       "    <tr>\n",
       "      <th>25%</th>\n",
       "      <td>1.703180e+11</td>\n",
       "      <td>14.000000</td>\n",
       "      <td>42.666667</td>\n",
       "      <td>0.060288</td>\n",
       "      <td>2.855140</td>\n",
       "    </tr>\n",
       "    <tr>\n",
       "      <th>50%</th>\n",
       "      <td>1.704384e+11</td>\n",
       "      <td>15.000000</td>\n",
       "      <td>60.285714</td>\n",
       "      <td>0.075705</td>\n",
       "      <td>3.381591</td>\n",
       "    </tr>\n",
       "    <tr>\n",
       "      <th>75%</th>\n",
       "      <td>1.711796e+11</td>\n",
       "      <td>16.000000</td>\n",
       "      <td>88.000000</td>\n",
       "      <td>0.094688</td>\n",
       "      <td>3.978202</td>\n",
       "    </tr>\n",
       "    <tr>\n",
       "      <th>max</th>\n",
       "      <td>1.720303e+11</td>\n",
       "      <td>17.000000</td>\n",
       "      <td>1384.285714</td>\n",
       "      <td>0.428571</td>\n",
       "      <td>19.022379</td>\n",
       "    </tr>\n",
       "  </tbody>\n",
       "</table>\n",
       "</div>"
      ],
      "text/plain": [
       "             geo_12          Week  device_count  fraction_of_devices_work  \\\n",
       "count  4.838900e+04  48389.000000  48389.000000              48389.000000   \n",
       "mean   1.707888e+11     15.000083     76.429098                  0.080159   \n",
       "std    5.958122e+08      1.414184     65.046804                  0.028944   \n",
       "min    1.700100e+11     13.000000      5.500000                  0.017948   \n",
       "25%    1.703180e+11     14.000000     42.666667                  0.060288   \n",
       "50%    1.704384e+11     15.000000     60.285714                  0.075705   \n",
       "75%    1.711796e+11     16.000000     88.000000                  0.094688   \n",
       "max    1.720303e+11     17.000000   1384.285714                  0.428571   \n",
       "\n",
       "       avg_time_away_all  \n",
       "count       48389.000000  \n",
       "mean            3.517507  \n",
       "std             1.182196  \n",
       "min             0.154657  \n",
       "25%             2.855140  \n",
       "50%             3.381591  \n",
       "75%             3.978202  \n",
       "max            19.022379  "
      ]
     },
     "execution_count": 5,
     "metadata": {},
     "output_type": "execute_result"
    }
   ],
   "source": [
    "df_targets.describe()"
   ]
  },
  {
   "cell_type": "code",
   "execution_count": 6,
   "metadata": {},
   "outputs": [
    {
     "data": {
      "text/plain": [
       "Text(0.5, 1.0, 'Fraction of Devices Exhibiting Full or Part Time Work Behavior')"
      ]
     },
     "execution_count": 6,
     "metadata": {},
     "output_type": "execute_result"
    },
    {
     "data": {
      "image/png": "[encoded data removed]",
      "text/plain": [
       "<Figure size 432x288 with 1 Axes>"
      ]
     },
     "metadata": {
      "needs_background": "light"
     },
     "output_type": "display_data"
    }
   ],
   "source": [
    "plt.hist(df_targets['fraction_of_devices_work'], bins=20)\n",
    "plt.xlabel('fraction of devices with work behavior')\n",
    "plt.title('Fraction of Devices Exhibiting Full or Part Time Work Behavior', fontsize=16)"
   ]
  },
  {
   "cell_type": "code",
   "execution_count": 7,
   "metadata": {},
   "outputs": [
    {
     "data": {
      "text/plain": [
       "Text(0.5, 1.0, 'Average Fraction of Time Away from Home per total devices')"
      ]
     },
     "execution_count": 7,
     "metadata": {},
     "output_type": "execute_result"
    },
    {
     "data": {
      "image/png": "[encoded data removed]",
      "text/plain": [
       "<Figure size 432x288 with 1 Axes>"
      ]
     },
     "metadata": {
      "needs_background": "light"
     },
     "output_type": "display_data"
    }
   ],
   "source": [
    "plt.hist(df_targets['avg_time_away_all'], bins=20)\n",
    "plt.xlabel('Average Fraction of Time Away from Home')\n",
    "plt.title('Average Fraction of Time Away from Home per total devices', fontsize=16)"
   ]
  },
  {
   "cell_type": "code",
   "execution_count": 8,
   "metadata": {},
   "outputs": [
    {
     "data": {
      "text/html": [
       "<div>\n",
       "<style scoped>\n",
       "    .dataframe tbody tr th:only-of-type {\n",
       "        vertical-align: middle;\n",
       "    }\n",
       "\n",
       "    .dataframe tbody tr th {\n",
       "        vertical-align: top;\n",
       "    }\n",
       "\n",
       "    .dataframe thead th {\n",
       "        text-align: right;\n",
       "    }\n",
       "</style>\n",
       "<table border=\"1\" class=\"dataframe\">\n",
       "  <thead>\n",
       "    <tr style=\"text-align: right;\">\n",
       "      <th></th>\n",
       "      <th>geo_12</th>\n",
       "      <th>Week</th>\n",
       "      <th>device_count</th>\n",
       "      <th>fraction_of_devices_work</th>\n",
       "      <th>avg_time_away_all</th>\n",
       "    </tr>\n",
       "  </thead>\n",
       "  <tbody>\n",
       "    <tr>\n",
       "      <th>geo_12</th>\n",
       "      <td>1.000000</td>\n",
       "      <td>-0.000020</td>\n",
       "      <td>0.167901</td>\n",
       "      <td>0.104353</td>\n",
       "      <td>0.078707</td>\n",
       "    </tr>\n",
       "    <tr>\n",
       "      <th>Week</th>\n",
       "      <td>-0.000020</td>\n",
       "      <td>1.000000</td>\n",
       "      <td>-0.022293</td>\n",
       "      <td>-0.002921</td>\n",
       "      <td>-0.026585</td>\n",
       "    </tr>\n",
       "    <tr>\n",
       "      <th>device_count</th>\n",
       "      <td>0.167901</td>\n",
       "      <td>-0.022293</td>\n",
       "      <td>1.000000</td>\n",
       "      <td>-0.252467</td>\n",
       "      <td>-0.052883</td>\n",
       "    </tr>\n",
       "    <tr>\n",
       "      <th>fraction_of_devices_work</th>\n",
       "      <td>0.104353</td>\n",
       "      <td>-0.002921</td>\n",
       "      <td>-0.252467</td>\n",
       "      <td>1.000000</td>\n",
       "      <td>0.209311</td>\n",
       "    </tr>\n",
       "    <tr>\n",
       "      <th>avg_time_away_all</th>\n",
       "      <td>0.078707</td>\n",
       "      <td>-0.026585</td>\n",
       "      <td>-0.052883</td>\n",
       "      <td>0.209311</td>\n",
       "      <td>1.000000</td>\n",
       "    </tr>\n",
       "  </tbody>\n",
       "</table>\n",
       "</div>"
      ],
      "text/plain": [
       "                            geo_12      Week  device_count  \\\n",
       "geo_12                    1.000000 -0.000020      0.167901   \n",
       "Week                     -0.000020  1.000000     -0.022293   \n",
       "device_count              0.167901 -0.022293      1.000000   \n",
       "fraction_of_devices_work  0.104353 -0.002921     -0.252467   \n",
       "avg_time_away_all         0.078707 -0.026585     -0.052883   \n",
       "\n",
       "                          fraction_of_devices_work  avg_time_away_all  \n",
       "geo_12                                    0.104353           0.078707  \n",
       "Week                                     -0.002921          -0.026585  \n",
       "device_count                             -0.252467          -0.052883  \n",
       "fraction_of_devices_work                  1.000000           0.209311  \n",
       "avg_time_away_all                         0.209311           1.000000  "
      ]
     },
     "execution_count": 8,
     "metadata": {},
     "output_type": "execute_result"
    }
   ],
   "source": [
    "df_targets.corr()"
   ]
  },
  {
   "cell_type": "code",
   "execution_count": 9,
   "metadata": {},
   "outputs": [
    {
     "data": {
      "text/plain": [
       "Text(0.5, 1.0, 'Fraction of Devices Exhibiting Full or Part Time Work Behavior')"
      ]
     },
     "execution_count": 9,
     "metadata": {},
     "output_type": "execute_result"
    },
    {
     "data": {
      "image/png": "[encoded data removed]",
      "text/plain": [
       "<Figure size 432x288 with 1 Axes>"
      ]
     },
     "metadata": {
      "needs_background": "light"
     },
     "output_type": "display_data"
    }
   ],
   "source": [
    "df_targets.drop(['device_count'], axis=1, inplace=True)"
   ]
  },
  {
   "cell_type": "code",
   "execution_count": 10,
   "metadata": {},
   "outputs": [
    {
     "data": {
      "text/plain": [
       "Text(0.5, 1.0, 'Average Fraction of Time Away from Home per total devices')"
      ]
     },
     "execution_count": 10,
     "metadata": {},
     "output_type": "execute_result"
    },
    {
     "data": {
      "image/png": "[encoded data removed]",
      "text/plain": [
       "<Figure size 432x288 with 1 Axes>"
      ]
     },
     "metadata": {
      "needs_background": "light"
     },
     "output_type": "display_data"
    }
   ],
   "source": [
    "dfcolumns = pd.read_csv('../data/raw/social_distancing_feb.csv.gz', compression='gzip',\n",
    "                        nrows = 1)\n",
    "df_past = pd.read_csv('../data/raw/social_distancing_feb.csv.gz', compression='gzip',\n",
    "                  header = None,\n",
    "                  skiprows = 1,\n",
    "                  usecols = list(range(len(dfcolumns.columns))),\n",
    "                  names = dfcolumns.columns)"
   ]
  },
  {
   "cell_type": "code",
   "execution_count": 11,
   "metadata": {},
   "outputs": [
    {
     "data": {
      "text/plain": [
       "Text(0.5, 1.0, 'Average Fraction of Time Away from Home per devices that leave')"
      ]
     },
     "execution_count": 11,
     "metadata": {},
     "output_type": "execute_result"
    },
    {
     "data": {
      "image/png": "[encoded data removed]",
      "text/plain": [
       "<Figure size 432x288 with 1 Axes>"
      ]
     },
     "metadata": {
      "needs_background": "light"
     },
     "output_type": "display_data"
    }
   ],
   "source": [
    "#df_targets.to_csv('COVID_mobility_targets.csv', header=True, index=False)"
   ]
  },
  {
   "cell_type": "code",
   "execution_count": 12,
   "metadata": {},
   "outputs": [
    {
     "data": {
      "text/html": [
       "<div>\n",
       "<style scoped>\n",
       "    .dataframe tbody tr th:only-of-type {\n",
       "        vertical-align: middle;\n",
       "    }\n",
       "\n",
       "    .dataframe tbody tr th {\n",
       "        vertical-align: top;\n",
       "    }\n",
       "\n",
       "    .dataframe thead th {\n",
       "        text-align: right;\n",
       "    }\n",
       "</style>\n",
       "<table border=\"1\" class=\"dataframe\">\n",
       "  <thead>\n",
       "    <tr style=\"text-align: right;\">\n",
       "      <th></th>\n",
       "      <th>geo_12</th>\n",
       "      <th>Week</th>\n",
       "      <th>device_count</th>\n",
       "      <th>fraction_of_devices_home</th>\n",
       "      <th>fraction_of_devices_work</th>\n",
       "      <th>fraction_time_away_all</th>\n",
       "      <th>fraction_time_away_leave</th>\n",
       "    </tr>\n",
       "  </thead>\n",
       "  <tbody>\n",
       "    <tr>\n",
       "      <th>geo_12</th>\n",
       "      <td>1.000000</td>\n",
       "      <td>-0.000036</td>\n",
       "      <td>0.168569</td>\n",
       "      <td>-0.287090</td>\n",
       "      <td>0.102488</td>\n",
       "      <td>0.085159</td>\n",
       "      <td>-0.072160</td>\n",
       "    </tr>\n",
       "    <tr>\n",
       "      <th>Week</th>\n",
       "      <td>-0.000036</td>\n",
       "      <td>1.000000</td>\n",
       "      <td>-0.015923</td>\n",
       "      <td>-0.121468</td>\n",
       "      <td>0.040357</td>\n",
       "      <td>-0.017939</td>\n",
       "      <td>-0.099690</td>\n",
       "    </tr>\n",
       "    <tr>\n",
       "      <th>device_count</th>\n",
       "      <td>0.168569</td>\n",
       "      <td>-0.015923</td>\n",
       "      <td>1.000000</td>\n",
       "      <td>0.035867</td>\n",
       "      <td>-0.248311</td>\n",
       "      <td>-0.055936</td>\n",
       "      <td>-0.069894</td>\n",
       "    </tr>\n",
       "    <tr>\n",
       "      <th>fraction_of_devices_home</th>\n",
       "      <td>-0.287090</td>\n",
       "      <td>-0.121468</td>\n",
       "      <td>0.035867</td>\n",
       "      <td>1.000000</td>\n",
       "      <td>-0.357083</td>\n",
       "      <td>-0.622629</td>\n",
       "      <td>-0.151861</td>\n",
       "    </tr>\n",
       "    <tr>\n",
       "      <th>fraction_of_devices_work</th>\n",
       "      <td>0.102488</td>\n",
       "      <td>0.040357</td>\n",
       "      <td>-0.248311</td>\n",
       "      <td>-0.357083</td>\n",
       "      <td>1.000000</td>\n",
       "      <td>0.215106</td>\n",
       "      <td>0.081187</td>\n",
       "    </tr>\n",
       "    <tr>\n",
       "      <th>fraction_time_away_all</th>\n",
       "      <td>0.085159</td>\n",
       "      <td>-0.017939</td>\n",
       "      <td>-0.055936</td>\n",
       "      <td>-0.622629</td>\n",
       "      <td>0.215106</td>\n",
       "      <td>1.000000</td>\n",
       "      <td>0.843620</td>\n",
       "    </tr>\n",
       "    <tr>\n",
       "      <th>fraction_time_away_leave</th>\n",
       "      <td>-0.072160</td>\n",
       "      <td>-0.099690</td>\n",
       "      <td>-0.069894</td>\n",
       "      <td>-0.151861</td>\n",
       "      <td>0.081187</td>\n",
       "      <td>0.843620</td>\n",
       "      <td>1.000000</td>\n",
       "    </tr>\n",
       "  </tbody>\n",
       "</table>\n",
       "</div>"
      ],
      "text/plain": [
       "                            geo_12      Week  device_count  \\\n",
       "geo_12                    1.000000 -0.000036      0.168569   \n",
       "Week                     -0.000036  1.000000     -0.015923   \n",
       "device_count              0.168569 -0.015923      1.000000   \n",
       "fraction_of_devices_home -0.287090 -0.121468      0.035867   \n",
       "fraction_of_devices_work  0.102488  0.040357     -0.248311   \n",
       "fraction_time_away_all    0.085159 -0.017939     -0.055936   \n",
       "fraction_time_away_leave -0.072160 -0.099690     -0.069894   \n",
       "\n",
       "                          fraction_of_devices_home  fraction_of_devices_work  \\\n",
       "geo_12                                   -0.287090                  0.102488   \n",
       "Week                                     -0.121468                  0.040357   \n",
       "device_count                              0.035867                 -0.248311   \n",
       "fraction_of_devices_home                  1.000000                 -0.357083   \n",
       "fraction_of_devices_work                 -0.357083                  1.000000   \n",
       "fraction_time_away_all                   -0.622629                  0.215106   \n",
       "fraction_time_away_leave                 -0.151861                  0.081187   \n",
       "\n",
       "                          fraction_time_away_all  fraction_time_away_leave  \n",
       "geo_12                                  0.085159                 -0.072160  \n",
       "Week                                   -0.017939                 -0.099690  \n",
       "device_count                           -0.055936                 -0.069894  \n",
       "fraction_of_devices_home               -0.622629                 -0.151861  \n",
       "fraction_of_devices_work                0.215106                  0.081187  \n",
       "fraction_time_away_all                  1.000000                  0.843620  \n",
       "fraction_time_away_leave                0.843620                  1.000000  "
      ]
     },
     "execution_count": 12,
     "metadata": {},
     "output_type": "execute_result"
    }
   ],
   "source": [
    "df_past, df_targets_past = ssd.process_targets(df_past, start_date='2020-02-03', end_date='2020-02-23')"
   ]
  },
  {
   "cell_type": "code",
   "execution_count": 13,
   "metadata": {},
   "outputs": [
    {
     "data": {
      "text/html": [
       "<div>\n",
       "<style scoped>\n",
       "    .dataframe tbody tr th:only-of-type {\n",
       "        vertical-align: middle;\n",
       "    }\n",
       "\n",
       "    .dataframe tbody tr th {\n",
       "        vertical-align: top;\n",
       "    }\n",
       "\n",
       "    .dataframe thead th {\n",
       "        text-align: right;\n",
       "    }\n",
       "</style>\n",
       "<table border=\"1\" class=\"dataframe\">\n",
       "  <thead>\n",
       "    <tr style=\"text-align: right;\">\n",
       "      <th></th>\n",
       "      <th>geo_12</th>\n",
       "      <th>Week</th>\n",
       "      <th>device_count</th>\n",
       "      <th>fraction_of_devices_work</th>\n",
       "      <th>avg_time_away_all</th>\n",
       "    </tr>\n",
       "  </thead>\n",
       "  <tbody>\n",
       "    <tr>\n",
       "      <th>count</th>\n",
       "      <td>1.195700e+04</td>\n",
       "      <td>11957.000000</td>\n",
       "      <td>11957.000000</td>\n",
       "      <td>11957.000000</td>\n",
       "      <td>11957.000000</td>\n",
       "    </tr>\n",
       "    <tr>\n",
       "      <th>mean</th>\n",
       "      <td>1.703159e+11</td>\n",
       "      <td>6.999916</td>\n",
       "      <td>67.648602</td>\n",
       "      <td>0.197360</td>\n",
       "      <td>4.426095</td>\n",
       "    </tr>\n",
       "    <tr>\n",
       "      <th>std</th>\n",
       "      <td>2.924846e+06</td>\n",
       "      <td>0.816514</td>\n",
       "      <td>39.077805</td>\n",
       "      <td>0.055414</td>\n",
       "      <td>0.799089</td>\n",
       "    </tr>\n",
       "    <tr>\n",
       "      <th>min</th>\n",
       "      <td>1.703101e+11</td>\n",
       "      <td>6.000000</td>\n",
       "      <td>6.000000</td>\n",
       "      <td>0.043867</td>\n",
       "      <td>1.356918</td>\n",
       "    </tr>\n",
       "    <tr>\n",
       "      <th>25%</th>\n",
       "      <td>1.703128e+11</td>\n",
       "      <td>6.000000</td>\n",
       "      <td>42.666667</td>\n",
       "      <td>0.156769</td>\n",
       "      <td>3.883954</td>\n",
       "    </tr>\n",
       "    <tr>\n",
       "      <th>50%</th>\n",
       "      <td>1.703180e+11</td>\n",
       "      <td>7.000000</td>\n",
       "      <td>58.714286</td>\n",
       "      <td>0.194777</td>\n",
       "      <td>4.375916</td>\n",
       "    </tr>\n",
       "    <tr>\n",
       "      <th>75%</th>\n",
       "      <td>1.703182e+11</td>\n",
       "      <td>8.000000</td>\n",
       "      <td>80.428571</td>\n",
       "      <td>0.234825</td>\n",
       "      <td>4.920077</td>\n",
       "    </tr>\n",
       "    <tr>\n",
       "      <th>max</th>\n",
       "      <td>1.703199e+11</td>\n",
       "      <td>8.000000</td>\n",
       "      <td>398.285714</td>\n",
       "      <td>0.434722</td>\n",
       "      <td>9.325020</td>\n",
       "    </tr>\n",
       "  </tbody>\n",
       "</table>\n",
       "</div>"
      ],
      "text/plain": [
       "             geo_12          Week  device_count  fraction_of_devices_work  \\\n",
       "count  1.195700e+04  11957.000000  11957.000000              11957.000000   \n",
       "mean   1.703159e+11      6.999916     67.648602                  0.197360   \n",
       "std    2.924846e+06      0.816514     39.077805                  0.055414   \n",
       "min    1.703101e+11      6.000000      6.000000                  0.043867   \n",
       "25%    1.703128e+11      6.000000     42.666667                  0.156769   \n",
       "50%    1.703180e+11      7.000000     58.714286                  0.194777   \n",
       "75%    1.703182e+11      8.000000     80.428571                  0.234825   \n",
       "max    1.703199e+11      8.000000    398.285714                  0.434722   \n",
       "\n",
       "       avg_time_away_all  \n",
       "count       11957.000000  \n",
       "mean            4.426095  \n",
       "std             0.799089  \n",
       "min             1.356918  \n",
       "25%             3.883954  \n",
       "50%             4.375916  \n",
       "75%             4.920077  \n",
       "max             9.325020  "
      ]
     },
     "execution_count": 13,
     "metadata": {},
     "output_type": "execute_result"
    }
   ],
   "source": [
    "df_targets_past.describe()"
   ]
  },
  {
   "cell_type": "code",
   "execution_count": 14,
   "metadata": {},
   "outputs": [],
   "source": [
    "#df_targets_past.to_csv('COVID_mobility_targets_past.csv', header=True, index=False)"
   ]
  },
  {
   "cell_type": "code",
   "execution_count": 15,
   "metadata": {},
   "outputs": [
    {
     "data": {
      "text/html": [
       "<div>\n",
       "<style scoped>\n",
       "    .dataframe tbody tr th:only-of-type {\n",
       "        vertical-align: middle;\n",
       "    }\n",
       "\n",
       "    .dataframe tbody tr th {\n",
       "        vertical-align: top;\n",
       "    }\n",
       "\n",
       "    .dataframe thead th {\n",
       "        text-align: right;\n",
       "    }\n",
       "</style>\n",
       "<table border=\"1\" class=\"dataframe\">\n",
       "  <thead>\n",
       "    <tr style=\"text-align: right;\">\n",
       "      <th></th>\n",
       "      <th>geo_12</th>\n",
       "      <th>fraction_of_devices_work</th>\n",
       "      <th>avg_time_away_all</th>\n",
       "    </tr>\n",
       "  </thead>\n",
       "  <tbody>\n",
       "    <tr>\n",
       "      <th>0</th>\n",
       "      <td>170310101001</td>\n",
       "      <td>0.213827</td>\n",
       "      <td>4.590671</td>\n",
       "    </tr>\n",
       "    <tr>\n",
       "      <th>1</th>\n",
       "      <td>170310101002</td>\n",
       "      <td>0.167298</td>\n",
       "      <td>3.183210</td>\n",
       "    </tr>\n",
       "    <tr>\n",
       "      <th>2</th>\n",
       "      <td>170310101003</td>\n",
       "      <td>0.219090</td>\n",
       "      <td>4.473870</td>\n",
       "    </tr>\n",
       "    <tr>\n",
       "      <th>3</th>\n",
       "      <td>170310102011</td>\n",
       "      <td>0.200945</td>\n",
       "      <td>4.356954</td>\n",
       "    </tr>\n",
       "    <tr>\n",
       "      <th>4</th>\n",
       "      <td>170310102012</td>\n",
       "      <td>0.200548</td>\n",
       "      <td>3.604407</td>\n",
       "    </tr>\n",
       "  </tbody>\n",
       "</table>\n",
       "</div>"
      ],
      "text/plain": [
       "         geo_12  fraction_of_devices_work  avg_time_away_all\n",
       "0  170310101001                  0.213827           4.590671\n",
       "1  170310101002                  0.167298           3.183210\n",
       "2  170310101003                  0.219090           4.473870\n",
       "3  170310102011                  0.200945           4.356954\n",
       "4  170310102012                  0.200548           3.604407"
      ]
     },
     "execution_count": 15,
     "metadata": {},
     "output_type": "execute_result"
    }
   ],
   "source": [
    "#Average the weeks in the february data to get one value for each block group.\n",
    "df_targets_past.drop(['Week', 'device_count'], axis=1, inplace=True)\n",
    "df_targets_feb = df_targets_past.groupby('geo_12').mean().reset_index()\n",
    "df_targets_feb.head()"
   ]
  },
  {
   "cell_type": "code",
   "execution_count": 16,
   "metadata": {},
   "outputs": [],
   "source": [
    "df_merged = df_targets.merge(df_targets_feb, on = \"geo_12\")"
   ]
  },
  {
   "cell_type": "code",
   "execution_count": 17,
   "metadata": {},
   "outputs": [
    {
     "data": {
      "text/plain": [
       "Index(['geo_12', 'Week', 'fraction_of_devices_work_x', 'avg_time_away_all_x',\n",
       "       'fraction_of_devices_work_y', 'avg_time_away_all_y'],\n",
       "      dtype='object')"
      ]
     },
     "execution_count": 17,
     "metadata": {},
     "output_type": "execute_result"
    }
   ],
   "source": [
    "df_merged.columns"
   ]
  },
  {
   "cell_type": "code",
   "execution_count": 19,
   "metadata": {},
   "outputs": [],
   "source": [
    "df_merged['fraction_of_devices_work_adj'] = df_merged['fraction_of_devices_work_y'] - df_merged['fraction_of_devices_work_x']\n",
    "df_merged['avg_time_away_all_adj'] = df_merged['avg_time_away_all_y'] - df_merged['avg_time_away_all_x']"
   ]
  },
  {
   "cell_type": "code",
   "execution_count": 20,
   "metadata": {},
   "outputs": [],
   "source": [
    "adj_targets = df_merged[['geo_12', 'Week', 'fraction_of_devices_work_adj', 'avg_time_away_all_adj']]"
   ]
  },
  {
   "cell_type": "code",
   "execution_count": 21,
   "metadata": {},
   "outputs": [
    {
     "data": {
      "text/html": [
       "<div>\n",
       "<style scoped>\n",
       "    .dataframe tbody tr th:only-of-type {\n",
       "        vertical-align: middle;\n",
       "    }\n",
       "\n",
       "    .dataframe tbody tr th {\n",
       "        vertical-align: top;\n",
       "    }\n",
       "\n",
       "    .dataframe thead th {\n",
       "        text-align: right;\n",
       "    }\n",
       "</style>\n",
       "<table border=\"1\" class=\"dataframe\">\n",
       "  <thead>\n",
       "    <tr style=\"text-align: right;\">\n",
       "      <th></th>\n",
       "      <th>geo_12</th>\n",
       "      <th>Week</th>\n",
       "      <th>fraction_of_devices_work_adj</th>\n",
       "      <th>avg_time_away_all_adj</th>\n",
       "    </tr>\n",
       "  </thead>\n",
       "  <tbody>\n",
       "    <tr>\n",
       "      <th>count</th>\n",
       "      <td>1.992200e+04</td>\n",
       "      <td>19922.000000</td>\n",
       "      <td>19922.000000</td>\n",
       "      <td>19922.000000</td>\n",
       "    </tr>\n",
       "    <tr>\n",
       "      <th>mean</th>\n",
       "      <td>1.703159e+11</td>\n",
       "      <td>14.999950</td>\n",
       "      <td>0.120848</td>\n",
       "      <td>1.096344</td>\n",
       "    </tr>\n",
       "    <tr>\n",
       "      <th>std</th>\n",
       "      <td>2.924280e+06</td>\n",
       "      <td>1.414196</td>\n",
       "      <td>0.059217</td>\n",
       "      <td>1.286821</td>\n",
       "    </tr>\n",
       "    <tr>\n",
       "      <th>min</th>\n",
       "      <td>1.703101e+11</td>\n",
       "      <td>13.000000</td>\n",
       "      <td>-0.197255</td>\n",
       "      <td>-12.569185</td>\n",
       "    </tr>\n",
       "    <tr>\n",
       "      <th>25%</th>\n",
       "      <td>1.703128e+11</td>\n",
       "      <td>14.000000</td>\n",
       "      <td>0.081214</td>\n",
       "      <td>0.466891</td>\n",
       "    </tr>\n",
       "    <tr>\n",
       "      <th>50%</th>\n",
       "      <td>1.703180e+11</td>\n",
       "      <td>15.000000</td>\n",
       "      <td>0.120008</td>\n",
       "      <td>1.185563</td>\n",
       "    </tr>\n",
       "    <tr>\n",
       "      <th>75%</th>\n",
       "      <td>1.703182e+11</td>\n",
       "      <td>16.000000</td>\n",
       "      <td>0.160404</td>\n",
       "      <td>1.849879</td>\n",
       "    </tr>\n",
       "    <tr>\n",
       "      <th>max</th>\n",
       "      <td>1.703199e+11</td>\n",
       "      <td>17.000000</td>\n",
       "      <td>0.331180</td>\n",
       "      <td>5.896486</td>\n",
       "    </tr>\n",
       "  </tbody>\n",
       "</table>\n",
       "</div>"
      ],
      "text/plain": [
       "             geo_12          Week  fraction_of_devices_work_adj  \\\n",
       "count  1.992200e+04  19922.000000                  19922.000000   \n",
       "mean   1.703159e+11     14.999950                      0.120848   \n",
       "std    2.924280e+06      1.414196                      0.059217   \n",
       "min    1.703101e+11     13.000000                     -0.197255   \n",
       "25%    1.703128e+11     14.000000                      0.081214   \n",
       "50%    1.703180e+11     15.000000                      0.120008   \n",
       "75%    1.703182e+11     16.000000                      0.160404   \n",
       "max    1.703199e+11     17.000000                      0.331180   \n",
       "\n",
       "       avg_time_away_all_adj  \n",
       "count           19922.000000  \n",
       "mean                1.096344  \n",
       "std                 1.286821  \n",
       "min               -12.569185  \n",
       "25%                 0.466891  \n",
       "50%                 1.185563  \n",
       "75%                 1.849879  \n",
       "max                 5.896486  "
      ]
     },
     "execution_count": 21,
     "metadata": {},
     "output_type": "execute_result"
    }
   ],
   "source": [
    "adj_targets.describe()"
   ]
  },
  {
   "cell_type": "code",
   "execution_count": 22,
   "metadata": {},
   "outputs": [
    {
     "data": {
      "text/html": [
       "<div>\n",
       "<style scoped>\n",
       "    .dataframe tbody tr th:only-of-type {\n",
       "        vertical-align: middle;\n",
       "    }\n",
       "\n",
       "    .dataframe tbody tr th {\n",
       "        vertical-align: top;\n",
       "    }\n",
       "\n",
       "    .dataframe thead th {\n",
       "        text-align: right;\n",
       "    }\n",
       "</style>\n",
       "<table border=\"1\" class=\"dataframe\">\n",
       "  <thead>\n",
       "    <tr style=\"text-align: right;\">\n",
       "      <th></th>\n",
       "      <th>geo_12</th>\n",
       "      <th>Week</th>\n",
       "      <th>fraction_of_devices_work_adj</th>\n",
       "      <th>avg_time_away_all_adj</th>\n",
       "    </tr>\n",
       "  </thead>\n",
       "  <tbody>\n",
       "    <tr>\n",
       "      <th>geo_12</th>\n",
       "      <td>1.000000</td>\n",
       "      <td>0.000067</td>\n",
       "      <td>0.095581</td>\n",
       "      <td>0.147417</td>\n",
       "    </tr>\n",
       "    <tr>\n",
       "      <th>Week</th>\n",
       "      <td>0.000067</td>\n",
       "      <td>1.000000</td>\n",
       "      <td>-0.000057</td>\n",
       "      <td>0.029946</td>\n",
       "    </tr>\n",
       "    <tr>\n",
       "      <th>fraction_of_devices_work_adj</th>\n",
       "      <td>0.095581</td>\n",
       "      <td>-0.000057</td>\n",
       "      <td>1.000000</td>\n",
       "      <td>0.438044</td>\n",
       "    </tr>\n",
       "    <tr>\n",
       "      <th>avg_time_away_all_adj</th>\n",
       "      <td>0.147417</td>\n",
       "      <td>0.029946</td>\n",
       "      <td>0.438044</td>\n",
       "      <td>1.000000</td>\n",
       "    </tr>\n",
       "  </tbody>\n",
       "</table>\n",
       "</div>"
      ],
      "text/plain": [
       "                                geo_12      Week  \\\n",
       "geo_12                        1.000000  0.000067   \n",
       "Week                          0.000067  1.000000   \n",
       "fraction_of_devices_work_adj  0.095581 -0.000057   \n",
       "avg_time_away_all_adj         0.147417  0.029946   \n",
       "\n",
       "                              fraction_of_devices_work_adj  \\\n",
       "geo_12                                            0.095581   \n",
       "Week                                             -0.000057   \n",
       "fraction_of_devices_work_adj                      1.000000   \n",
       "avg_time_away_all_adj                             0.438044   \n",
       "\n",
       "                              avg_time_away_all_adj  \n",
       "geo_12                                     0.147417  \n",
       "Week                                       0.029946  \n",
       "fraction_of_devices_work_adj               0.438044  \n",
       "avg_time_away_all_adj                      1.000000  "
      ]
     },
     "execution_count": 22,
     "metadata": {},
     "output_type": "execute_result"
    }
   ],
   "source": [
    "adj_targets.corr()"
   ]
  },
  {
   "cell_type": "code",
   "execution_count": 23,
   "metadata": {},
   "outputs": [],
   "source": [
    "adj_targets.to_csv('../data/COVID_mobility_targets_adjusted.csv', header=True, index=False)"
   ]
  },
  {
   "cell_type": "code",
   "execution_count": 24,
   "metadata": {},
   "outputs": [
    {
     "data": {
      "text/plain": [
       "Text(0.5, 1.0, 'Reduction in Fraction of Devices Exhibiting Full or Part Time Work Behavior')"
      ]
     },
     "execution_count": 24,
     "metadata": {},
     "output_type": "execute_result"
    },
    {
     "data": {
      "image/png": "[encoded data removed]",
      "text/plain": [
       "<Figure size 432x288 with 1 Axes>"
      ]
     },
     "metadata": {
      "needs_background": "light"
     },
     "output_type": "display_data"
    }
   ],
   "source": [
    "plt.hist(adj_targets['fraction_of_devices_work_adj'], bins=20)\n",
    "plt.xlabel('Reduction in fraction of devices with work behavior')\n",
    "plt.title('Reduction in Fraction of Devices Exhibiting Full or Part Time Work Behavior', fontsize=16)"
   ]
  },
  {
   "cell_type": "code",
   "execution_count": 25,
   "metadata": {},
   "outputs": [
    {
     "data": {
      "text/plain": [
       "Text(0.5, 1.0, 'Reduction in Average Fraction of Time Away from Home per total devices')"
      ]
     },
     "execution_count": 25,
     "metadata": {},
     "output_type": "execute_result"
    },
    {
     "data": {
      "image/png": "[encoded data removed]",
      "text/plain": [
       "<Figure size 432x288 with 1 Axes>"
      ]
     },
     "metadata": {
      "needs_background": "light"
     },
     "output_type": "display_data"
    }
   ],
   "source": [
    "plt.hist(adj_targets['avg_time_away_all_adj'], bins=20)\n",
    "plt.xlabel('Reduction in Average Fraction of Time Away from Home')\n",
    "plt.title('Reduction in Average Fraction of Time Away from Home per total devices', fontsize=16)"
   ]
  },
  {
   "cell_type": "code",
   "execution_count": null,
   "metadata": {},
   "outputs": [],
   "source": []
  }
 ],
 "metadata": {
  "kernelspec": {
   "display_name": "venv",
   "language": "python",
   "name": "venv"
  },
  "language_info": {
   "codemirror_mode": {
    "name": "ipython",
    "version": 3
   },
   "file_extension": ".py",
   "mimetype": "text/x-python",
   "name": "python",
   "nbconvert_exporter": "python",
   "pygments_lexer": "ipython3",
   "version": "3.7.7"
  }
 },
 "nbformat": 4,
 "nbformat_minor": 4
}
